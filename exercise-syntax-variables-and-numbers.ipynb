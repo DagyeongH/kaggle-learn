{
 "cells": [
  {
   "cell_type": "markdown",
   "id": "05c1f35a",
   "metadata": {
    "papermill": {
     "duration": 0.0043,
     "end_time": "2023-10-16T03:00:24.833844",
     "exception": false,
     "start_time": "2023-10-16T03:00:24.829544",
     "status": "completed"
    },
    "tags": []
   },
   "source": [
    "**This notebook is an exercise in the [Python](https://www.kaggle.com/learn/python) course.  You can reference the tutorial at [this link](https://www.kaggle.com/colinmorris/hello-python).**\n",
    "\n",
    "---\n"
   ]
  },
  {
   "cell_type": "markdown",
   "id": "df95e6ce",
   "metadata": {
    "papermill": {
     "duration": 0.003474,
     "end_time": "2023-10-16T03:00:24.840964",
     "exception": false,
     "start_time": "2023-10-16T03:00:24.837490",
     "status": "completed"
    },
    "tags": []
   },
   "source": [
    "Welcome to your first set of Python coding problems.  If this is your first time using Kaggle Notebooks, welcome! \n",
    "\n",
    "Notebooks are composed of blocks (called \"cells\") of text and code. Each of these is editable, though you'll mainly be editing the code cells to answer some questions.\n",
    "\n",
    "To get started, try running the code cell below (by pressing the ► button, or clicking on the cell and pressing ctrl+enter on your keyboard)."
   ]
  },
  {
   "cell_type": "code",
   "execution_count": 1,
   "id": "3df85928",
   "metadata": {
    "execution": {
     "iopub.execute_input": "2023-10-16T03:00:24.849551Z",
     "iopub.status.busy": "2023-10-16T03:00:24.849232Z",
     "iopub.status.idle": "2023-10-16T03:00:24.857848Z",
     "shell.execute_reply": "2023-10-16T03:00:24.856549Z"
    },
    "papermill": {
     "duration": 0.015203,
     "end_time": "2023-10-16T03:00:24.859701",
     "exception": false,
     "start_time": "2023-10-16T03:00:24.844498",
     "status": "completed"
    },
    "tags": []
   },
   "outputs": [
    {
     "name": "stdout",
     "output_type": "stream",
     "text": [
      "You've successfully run some Python code\n",
      "Congratulations!\n"
     ]
    }
   ],
   "source": [
    "print(\"You've successfully run some Python code\")\n",
    "print(\"Congratulations!\")"
   ]
  },
  {
   "cell_type": "markdown",
   "id": "286051de",
   "metadata": {
    "papermill": {
     "duration": 0.003682,
     "end_time": "2023-10-16T03:00:24.867735",
     "exception": false,
     "start_time": "2023-10-16T03:00:24.864053",
     "status": "completed"
    },
    "tags": []
   },
   "source": [
    "Try adding another line of code in the cell above and re-running it. \n",
    "\n",
    "Now let's get a little fancier:  Add a new code cell by clicking on an existing code cell, hitting the escape key, and then hitting the `a` or `b` key.  The `a` key will add a cell above the current cell, and `b` adds a cell below.\n",
    "\n",
    "Great! Now you know how to use Notebooks.\n",
    "\n",
    "Each hands-on exercise starts by setting up our feedback and code checking mechanism. Run the code cell below to do that. Then you'll be ready to move on to question 0."
   ]
  },
  {
   "cell_type": "code",
   "execution_count": 2,
   "id": "6a049465",
   "metadata": {
    "_kg_hide-input": true,
    "_kg_hide-output": true,
    "execution": {
     "iopub.execute_input": "2023-10-16T03:00:24.877242Z",
     "iopub.status.busy": "2023-10-16T03:00:24.876293Z",
     "iopub.status.idle": "2023-10-16T03:00:25.175726Z",
     "shell.execute_reply": "2023-10-16T03:00:25.174138Z"
    },
    "papermill": {
     "duration": 0.306452,
     "end_time": "2023-10-16T03:00:25.178030",
     "exception": false,
     "start_time": "2023-10-16T03:00:24.871578",
     "status": "completed"
    },
    "tags": []
   },
   "outputs": [
    {
     "name": "stdout",
     "output_type": "stream",
     "text": [
      "Setup complete! You're ready to start question 0.\n"
     ]
    }
   ],
   "source": [
    "from learntools.core import binder; binder.bind(globals())\n",
    "from learntools.python.ex1 import *\n",
    "print(\"Setup complete! You're ready to start question 0.\")"
   ]
  },
  {
   "cell_type": "markdown",
   "id": "e705e6a4",
   "metadata": {
    "papermill": {
     "duration": 0.00381,
     "end_time": "2023-10-16T03:00:25.186300",
     "exception": false,
     "start_time": "2023-10-16T03:00:25.182490",
     "status": "completed"
    },
    "tags": []
   },
   "source": [
    "# 0.\n",
    "\n",
    "*This is a silly question intended as an introduction to the format we use for hands-on exercises throughout all Kaggle courses.*\n",
    "\n",
    "**What is your favorite color? **\n",
    "\n",
    "To complete this question, create a variable called `color` in the cell below with an appropriate value. The function call `q0.check()` (which we've already provided in the cell below) will check your answer."
   ]
  },
  {
   "cell_type": "code",
   "execution_count": 3,
   "id": "2b49df4d",
   "metadata": {
    "execution": {
     "iopub.execute_input": "2023-10-16T03:00:25.195734Z",
     "iopub.status.busy": "2023-10-16T03:00:25.195269Z",
     "iopub.status.idle": "2023-10-16T03:00:25.205776Z",
     "shell.execute_reply": "2023-10-16T03:00:25.204773Z"
    },
    "papermill": {
     "duration": 0.018546,
     "end_time": "2023-10-16T03:00:25.208742",
     "exception": false,
     "start_time": "2023-10-16T03:00:25.190196",
     "status": "completed"
    },
    "tags": []
   },
   "outputs": [
    {
     "name": "stdout",
     "output_type": "stream",
     "text": [
      "color = \"blue\"\n"
     ]
    },
    {
     "data": {
      "application/javascript": [
       "parent.postMessage({\"jupyterEvent\": \"custom.exercise_interaction\", \"data\": {\"outcomeType\": 4, \"interactionType\": 1, \"questionType\": 2, \"questionId\": \"0_ExerciseFormatTutorial\", \"learnToolsVersion\": \"0.3.4\", \"valueTowardsCompletion\": 0.0, \"failureMessage\": \"\", \"exceptionClass\": \"\", \"trace\": \"\"}}, \"*\")"
      ],
      "text/plain": [
       "<IPython.core.display.Javascript object>"
      ]
     },
     "metadata": {},
     "output_type": "display_data"
    },
    {
     "data": {
      "text/markdown": [
       "<span style=\"color:#ccaa33\">Check:</span> When you've updated the starter code, `check()` will tell you whether your code is correct. Remember, you must create the following variable: `color`"
      ],
      "text/plain": [
       "Check: When you've updated the starter code, `check()` will tell you whether your code is correct. Remember, you must create the following variable: `color`"
      ]
     },
     "metadata": {},
     "output_type": "display_data"
    }
   ],
   "source": [
    "# create a variable called color with an appropriate value on the line below\n",
    "# (Remember, strings in Python must be enclosed in 'single' or \"double\" quotes)\n",
    "print('color = \"blue\"')\n",
    "\n",
    "# Check your answer\n",
    "q0.check()"
   ]
  },
  {
   "cell_type": "markdown",
   "id": "a2742387",
   "metadata": {
    "papermill": {
     "duration": 0.003995,
     "end_time": "2023-10-16T03:00:25.217250",
     "exception": false,
     "start_time": "2023-10-16T03:00:25.213255",
     "status": "completed"
    },
    "tags": []
   },
   "source": [
    "Didn't get the right answer? How do you not even know your own favorite color?!\n",
    "\n",
    "Delete the `#` in the line below to make one of the lines run. You can choose between getting a hint or the full answer by choosing which line to remove the `#` from. \n",
    "\n",
    "Removing the `#` is called uncommenting, because it changes that line from a \"comment\" which Python doesn't run to code, which Python does run."
   ]
  },
  {
   "cell_type": "code",
   "execution_count": 4,
   "id": "5bff813e",
   "metadata": {
    "execution": {
     "iopub.execute_input": "2023-10-16T03:00:25.228314Z",
     "iopub.status.busy": "2023-10-16T03:00:25.227012Z",
     "iopub.status.idle": "2023-10-16T03:00:25.231649Z",
     "shell.execute_reply": "2023-10-16T03:00:25.230655Z"
    },
    "papermill": {
     "duration": 0.011886,
     "end_time": "2023-10-16T03:00:25.233283",
     "exception": false,
     "start_time": "2023-10-16T03:00:25.221397",
     "status": "completed"
    },
    "tags": []
   },
   "outputs": [],
   "source": [
    "# q0.hint()\n",
    "# q0.solution()"
   ]
  },
  {
   "cell_type": "markdown",
   "id": "5127b560",
   "metadata": {
    "papermill": {
     "duration": 0.003875,
     "end_time": "2023-10-16T03:00:25.241554",
     "exception": false,
     "start_time": "2023-10-16T03:00:25.237679",
     "status": "completed"
    },
    "tags": []
   },
   "source": [
    "The upcoming questions work the same way. The only thing that will change are the question numbers. For the next question, you'll call `q1.check()`, `q1.hint()`, `q1.solution()`, for question 2, you'll call `q2.check()`, and so on."
   ]
  },
  {
   "cell_type": "markdown",
   "id": "a5be826e",
   "metadata": {
    "papermill": {
     "duration": 0.003725,
     "end_time": "2023-10-16T03:00:25.249243",
     "exception": false,
     "start_time": "2023-10-16T03:00:25.245518",
     "status": "completed"
    },
    "tags": []
   },
   "source": [
    "<hr/>\n",
    "\n",
    "# 1.\n",
    "\n",
    "Complete the code below. In case it's helpful, here is the table of available arithmetic operations:\n",
    "\n",
    "\n",
    "\n",
    "| Operator     | Name           | Description                                            |\n",
    "|--------------|----------------|--------------------------------------------------------|\n",
    "| ``a + b``    | Addition       | Sum of ``a`` and ``b``                                 |\n",
    "| ``a - b``    | Subtraction    | Difference of ``a`` and ``b``                          |\n",
    "| ``a * b``    | Multiplication | Product of ``a`` and ``b``                             |\n",
    "| ``a / b``    | True division  | Quotient of ``a`` and ``b``                            |\n",
    "| ``a // b``   | Floor division | Quotient of ``a`` and ``b``, removing fractional parts |\n",
    "| ``a % b``    | Modulus        | Integer remainder after division of ``a`` by ``b``     |\n",
    "| ``a ** b``   | Exponentiation | ``a`` raised to the power of ``b``                     |\n",
    "| ``-a``       | Negation       | The negative of ``a``                                  |\n",
    "\n",
    "<span style=\"display:none\"></span>\n"
   ]
  },
  {
   "cell_type": "code",
   "execution_count": 5,
   "id": "5d32e031",
   "metadata": {
    "execution": {
     "iopub.execute_input": "2023-10-16T03:00:25.258710Z",
     "iopub.status.busy": "2023-10-16T03:00:25.258213Z",
     "iopub.status.idle": "2023-10-16T03:00:25.263986Z",
     "shell.execute_reply": "2023-10-16T03:00:25.263096Z"
    },
    "papermill": {
     "duration": 0.012269,
     "end_time": "2023-10-16T03:00:25.265347",
     "exception": false,
     "start_time": "2023-10-16T03:00:25.253078",
     "status": "completed"
    },
    "tags": []
   },
   "outputs": [
    {
     "data": {
      "application/javascript": [
       "parent.postMessage({\"jupyterEvent\": \"custom.exercise_interaction\", \"data\": {\"outcomeType\": 1, \"valueTowardsCompletion\": 0.25, \"interactionType\": 1, \"questionType\": 1, \"questionId\": \"1_CircleArea\", \"learnToolsVersion\": \"0.3.4\", \"failureMessage\": \"\", \"exceptionClass\": \"\", \"trace\": \"\"}}, \"*\")"
      ],
      "text/plain": [
       "<IPython.core.display.Javascript object>"
      ]
     },
     "metadata": {},
     "output_type": "display_data"
    },
    {
     "data": {
      "text/markdown": [
       "<span style=\"color:#33cc33\">Correct</span>"
      ],
      "text/plain": [
       "Correct"
      ]
     },
     "metadata": {},
     "output_type": "display_data"
    }
   ],
   "source": [
    "pi = 3.14159 # approximate\n",
    "diameter = 3\n",
    "\n",
    "# Create a variable called 'radius' equal to half the diameter\n",
    "radius = diameter / 2\n",
    "\n",
    "# Create a variable called 'area', using the formula for the area of a circle: pi times the radius squared\n",
    "area = pi * (radius ** 2)\n",
    "\n",
    "# Check your answer\n",
    "q1.check()"
   ]
  },
  {
   "cell_type": "code",
   "execution_count": 6,
   "id": "2fa8b8d7",
   "metadata": {
    "execution": {
     "iopub.execute_input": "2023-10-16T03:00:25.275993Z",
     "iopub.status.busy": "2023-10-16T03:00:25.275459Z",
     "iopub.status.idle": "2023-10-16T03:00:25.278480Z",
     "shell.execute_reply": "2023-10-16T03:00:25.277909Z"
    },
    "papermill": {
     "duration": 0.010282,
     "end_time": "2023-10-16T03:00:25.280047",
     "exception": false,
     "start_time": "2023-10-16T03:00:25.269765",
     "status": "completed"
    },
    "tags": []
   },
   "outputs": [],
   "source": [
    "# Uncomment and run the lines below if you need help.\n",
    "#q1.hint()\n",
    "#q1.solution()"
   ]
  },
  {
   "cell_type": "markdown",
   "id": "f5a62566",
   "metadata": {
    "papermill": {
     "duration": 0.005848,
     "end_time": "2023-10-16T03:00:25.290550",
     "exception": false,
     "start_time": "2023-10-16T03:00:25.284702",
     "status": "completed"
    },
    "tags": []
   },
   "source": [
    "<hr/>\n",
    "\n",
    "# 2.\n",
    "\n",
    "Add code to the following cell to swap variables `a` and `b` (so that `a` refers to the object previously referred to by `b` and vice versa)."
   ]
  },
  {
   "cell_type": "code",
   "execution_count": 7,
   "id": "0c4e87c6",
   "metadata": {
    "execution": {
     "iopub.execute_input": "2023-10-16T03:00:25.301047Z",
     "iopub.status.busy": "2023-10-16T03:00:25.300568Z",
     "iopub.status.idle": "2023-10-16T03:00:25.306833Z",
     "shell.execute_reply": "2023-10-16T03:00:25.305799Z"
    },
    "papermill": {
     "duration": 0.013474,
     "end_time": "2023-10-16T03:00:25.308476",
     "exception": false,
     "start_time": "2023-10-16T03:00:25.295002",
     "status": "completed"
    },
    "tags": []
   },
   "outputs": [
    {
     "data": {
      "application/javascript": [
       "parent.postMessage({\"jupyterEvent\": \"custom.exercise_interaction\", \"data\": {\"outcomeType\": 1, \"valueTowardsCompletion\": 0.25, \"interactionType\": 1, \"questionType\": 2, \"questionId\": \"2_VariableSwap\", \"learnToolsVersion\": \"0.3.4\", \"failureMessage\": \"\", \"exceptionClass\": \"\", \"trace\": \"\"}}, \"*\")"
      ],
      "text/plain": [
       "<IPython.core.display.Javascript object>"
      ]
     },
     "metadata": {},
     "output_type": "display_data"
    },
    {
     "data": {
      "text/markdown": [
       "<span style=\"color:#33cc33\">Correct:</span> \n",
       "\n",
       "The most straightforward solution is to use a third variable to temporarily store one of the old values. e.g.:\n",
       "\n",
       "    tmp = a\n",
       "    a = b\n",
       "    b = tmp\n",
       "\n",
       "If you've read lots of Python code, you might have seen the following trick to swap two variables in one line:\n",
       "\n",
       "    a, b = b, a\n",
       "\n",
       "We'll demystify this bit of Python magic later when we talk about *tuples*."
      ],
      "text/plain": [
       "Correct: \n",
       "\n",
       "The most straightforward solution is to use a third variable to temporarily store one of the old values. e.g.:\n",
       "\n",
       "    tmp = a\n",
       "    a = b\n",
       "    b = tmp\n",
       "\n",
       "If you've read lots of Python code, you might have seen the following trick to swap two variables in one line:\n",
       "\n",
       "    a, b = b, a\n",
       "\n",
       "We'll demystify this bit of Python magic later when we talk about *tuples*."
      ]
     },
     "metadata": {},
     "output_type": "display_data"
    }
   ],
   "source": [
    "########### Setup code - don't touch this part ######################\n",
    "# If you're curious, these are examples of lists. We'll talk about \n",
    "# them in depth a few lessons from now. For now, just know that they're\n",
    "# yet another type of Python object, like int or float.\n",
    "a = [1, 2, 3]\n",
    "b = [3, 2, 1]\n",
    "q2.store_original_ids()\n",
    "######################################################################\n",
    "\n",
    "# Your code goes here. Swap the values to which a and b refer.\n",
    "# If you get stuck, you can always uncomment one or both of the lines in\n",
    "# the next cell for a hint, or to peek at the solution.\n",
    "tmp = a\n",
    "a = b\n",
    "b = tmp\n",
    "# a, b = b, a\n",
    "######################################################################\n",
    "\n",
    "# Check your answer\n",
    "q2.check()"
   ]
  },
  {
   "cell_type": "code",
   "execution_count": 8,
   "id": "2ca23c74",
   "metadata": {
    "execution": {
     "iopub.execute_input": "2023-10-16T03:00:25.319719Z",
     "iopub.status.busy": "2023-10-16T03:00:25.319124Z",
     "iopub.status.idle": "2023-10-16T03:00:25.322167Z",
     "shell.execute_reply": "2023-10-16T03:00:25.321707Z"
    },
    "papermill": {
     "duration": 0.010132,
     "end_time": "2023-10-16T03:00:25.323534",
     "exception": false,
     "start_time": "2023-10-16T03:00:25.313402",
     "status": "completed"
    },
    "tags": []
   },
   "outputs": [],
   "source": [
    "#q2.hint()"
   ]
  },
  {
   "cell_type": "code",
   "execution_count": 9,
   "id": "4d622eea",
   "metadata": {
    "execution": {
     "iopub.execute_input": "2023-10-16T03:00:25.334685Z",
     "iopub.status.busy": "2023-10-16T03:00:25.334350Z",
     "iopub.status.idle": "2023-10-16T03:00:25.338001Z",
     "shell.execute_reply": "2023-10-16T03:00:25.337105Z"
    },
    "papermill": {
     "duration": 0.011021,
     "end_time": "2023-10-16T03:00:25.339492",
     "exception": false,
     "start_time": "2023-10-16T03:00:25.328471",
     "status": "completed"
    },
    "tags": []
   },
   "outputs": [],
   "source": [
    "#q2.solution()"
   ]
  },
  {
   "cell_type": "markdown",
   "id": "3ef001c6",
   "metadata": {
    "papermill": {
     "duration": 0.004509,
     "end_time": "2023-10-16T03:00:25.349490",
     "exception": false,
     "start_time": "2023-10-16T03:00:25.344981",
     "status": "completed"
    },
    "tags": []
   },
   "source": [
    "<hr/>\n",
    "\n",
    "# 3a.\n",
    "\n",
    "Add parentheses to the following expression so that it evaluates to 1."
   ]
  },
  {
   "cell_type": "code",
   "execution_count": 10,
   "id": "59a66a2c",
   "metadata": {
    "execution": {
     "iopub.execute_input": "2023-10-16T03:00:25.360042Z",
     "iopub.status.busy": "2023-10-16T03:00:25.359593Z",
     "iopub.status.idle": "2023-10-16T03:00:25.364601Z",
     "shell.execute_reply": "2023-10-16T03:00:25.363852Z"
    },
    "papermill": {
     "duration": 0.01201,
     "end_time": "2023-10-16T03:00:25.366070",
     "exception": false,
     "start_time": "2023-10-16T03:00:25.354060",
     "status": "completed"
    },
    "tags": []
   },
   "outputs": [
    {
     "data": {
      "text/plain": [
       "1"
      ]
     },
     "execution_count": 10,
     "metadata": {},
     "output_type": "execute_result"
    }
   ],
   "source": [
    "(5 - 3) // 2"
   ]
  },
  {
   "cell_type": "code",
   "execution_count": 11,
   "id": "bcb19d8d",
   "metadata": {
    "execution": {
     "iopub.execute_input": "2023-10-16T03:00:25.377183Z",
     "iopub.status.busy": "2023-10-16T03:00:25.376887Z",
     "iopub.status.idle": "2023-10-16T03:00:25.380988Z",
     "shell.execute_reply": "2023-10-16T03:00:25.379835Z"
    },
    "papermill": {
     "duration": 0.012297,
     "end_time": "2023-10-16T03:00:25.383084",
     "exception": false,
     "start_time": "2023-10-16T03:00:25.370787",
     "status": "completed"
    },
    "tags": []
   },
   "outputs": [],
   "source": [
    "#q3.a.hint()"
   ]
  },
  {
   "cell_type": "code",
   "execution_count": 12,
   "id": "8fc52a2c",
   "metadata": {
    "execution": {
     "iopub.execute_input": "2023-10-16T03:00:25.394070Z",
     "iopub.status.busy": "2023-10-16T03:00:25.393563Z",
     "iopub.status.idle": "2023-10-16T03:00:25.399012Z",
     "shell.execute_reply": "2023-10-16T03:00:25.398531Z"
    },
    "papermill": {
     "duration": 0.012434,
     "end_time": "2023-10-16T03:00:25.400374",
     "exception": false,
     "start_time": "2023-10-16T03:00:25.387940",
     "status": "completed"
    },
    "tags": []
   },
   "outputs": [
    {
     "data": {
      "application/javascript": [
       "parent.postMessage({\"jupyterEvent\": \"custom.exercise_interaction\", \"data\": {\"interactionType\": 3, \"questionType\": 4, \"questionId\": \"3.1_ArithmeticParensEasy\", \"learnToolsVersion\": \"0.3.4\", \"valueTowardsCompletion\": 0.0, \"failureMessage\": \"\", \"exceptionClass\": \"\", \"trace\": \"\", \"outcomeType\": 4}}, \"*\")"
      ],
      "text/plain": [
       "<IPython.core.display.Javascript object>"
      ]
     },
     "metadata": {},
     "output_type": "display_data"
    },
    {
     "data": {
      "text/markdown": [
       "<span style=\"color:#33cc99\">Solution:</span> \n",
       "```python\n",
       "(5 - 3) // 2\n",
       "```"
      ],
      "text/plain": [
       "Solution: \n",
       "```python\n",
       "(5 - 3) // 2\n",
       "```"
      ]
     },
     "metadata": {},
     "output_type": "display_data"
    }
   ],
   "source": [
    "# Check your answer (Run this code cell to receive credit!)\n",
    "q3.a.solution()"
   ]
  },
  {
   "cell_type": "markdown",
   "id": "fcffaba3",
   "metadata": {
    "papermill": {
     "duration": 0.004356,
     "end_time": "2023-10-16T03:00:25.409507",
     "exception": false,
     "start_time": "2023-10-16T03:00:25.405151",
     "status": "completed"
    },
    "tags": []
   },
   "source": [
    "# 3b.  <span title=\"A bit spicy\" style=\"color: darkgreen \">🌶️</span>\n",
    "\n",
    "<small>Questions, like this one, marked a spicy pepper are a bit harder.</small>\n",
    "\n",
    "Add parentheses to the following expression so that it evaluates to 0."
   ]
  },
  {
   "cell_type": "code",
   "execution_count": 13,
   "id": "f4c951b8",
   "metadata": {
    "execution": {
     "iopub.execute_input": "2023-10-16T03:00:25.420236Z",
     "iopub.status.busy": "2023-10-16T03:00:25.419791Z",
     "iopub.status.idle": "2023-10-16T03:00:25.424403Z",
     "shell.execute_reply": "2023-10-16T03:00:25.423703Z"
    },
    "papermill": {
     "duration": 0.01182,
     "end_time": "2023-10-16T03:00:25.425893",
     "exception": false,
     "start_time": "2023-10-16T03:00:25.414073",
     "status": "completed"
    },
    "tags": []
   },
   "outputs": [
    {
     "data": {
      "text/plain": [
       "0"
      ]
     },
     "execution_count": 13,
     "metadata": {},
     "output_type": "execute_result"
    }
   ],
   "source": [
    "(8 - 3) * (2 - (1 + 1))"
   ]
  },
  {
   "cell_type": "code",
   "execution_count": 14,
   "id": "37ecda97",
   "metadata": {
    "execution": {
     "iopub.execute_input": "2023-10-16T03:00:25.437337Z",
     "iopub.status.busy": "2023-10-16T03:00:25.436564Z",
     "iopub.status.idle": "2023-10-16T03:00:25.440124Z",
     "shell.execute_reply": "2023-10-16T03:00:25.439659Z"
    },
    "papermill": {
     "duration": 0.010847,
     "end_time": "2023-10-16T03:00:25.441616",
     "exception": false,
     "start_time": "2023-10-16T03:00:25.430769",
     "status": "completed"
    },
    "tags": []
   },
   "outputs": [],
   "source": [
    "# q3.b.hint()"
   ]
  },
  {
   "cell_type": "code",
   "execution_count": 15,
   "id": "fcdb511a",
   "metadata": {
    "execution": {
     "iopub.execute_input": "2023-10-16T03:00:25.453107Z",
     "iopub.status.busy": "2023-10-16T03:00:25.452162Z",
     "iopub.status.idle": "2023-10-16T03:00:25.459628Z",
     "shell.execute_reply": "2023-10-16T03:00:25.458740Z"
    },
    "papermill": {
     "duration": 0.014662,
     "end_time": "2023-10-16T03:00:25.461085",
     "exception": false,
     "start_time": "2023-10-16T03:00:25.446423",
     "status": "completed"
    },
    "tags": []
   },
   "outputs": [
    {
     "data": {
      "application/javascript": [
       "parent.postMessage({\"jupyterEvent\": \"custom.exercise_interaction\", \"data\": {\"interactionType\": 3, \"questionType\": 4, \"questionId\": \"3.2_ArithmeticParensHard\", \"learnToolsVersion\": \"0.3.4\", \"valueTowardsCompletion\": 0.0, \"failureMessage\": \"\", \"exceptionClass\": \"\", \"trace\": \"\", \"outcomeType\": 4}}, \"*\")"
      ],
      "text/plain": [
       "<IPython.core.display.Javascript object>"
      ]
     },
     "metadata": {},
     "output_type": "display_data"
    },
    {
     "data": {
      "text/markdown": [
       "<span style=\"color:#33cc99\">Solution:</span> `(8 - 3) * (2 - (1 + 1))` is one solution. There may be others."
      ],
      "text/plain": [
       "Solution: `(8 - 3) * (2 - (1 + 1))` is one solution. There may be others."
      ]
     },
     "metadata": {},
     "output_type": "display_data"
    }
   ],
   "source": [
    "# Check your answer (Run this code cell to receive credit!)\n",
    "q3.b.solution()"
   ]
  },
  {
   "cell_type": "markdown",
   "id": "9b7022ff",
   "metadata": {
    "papermill": {
     "duration": 0.004515,
     "end_time": "2023-10-16T03:00:25.470584",
     "exception": false,
     "start_time": "2023-10-16T03:00:25.466069",
     "status": "completed"
    },
    "tags": []
   },
   "source": [
    "<hr/>\n",
    "\n",
    "# 4. \n",
    "Alice, Bob and Carol have agreed to pool their Halloween candy and split it evenly among themselves.\n",
    "For the sake of their friendship, any candies left over will be smashed. For example, if they collectively\n",
    "bring home 91 candies, they'll take 30 each and smash 1.\n",
    "\n",
    "Write an arithmetic expression below to calculate how many candies they must smash for a given haul."
   ]
  },
  {
   "cell_type": "code",
   "execution_count": 16,
   "id": "0ba38488",
   "metadata": {
    "execution": {
     "iopub.execute_input": "2023-10-16T03:00:25.481445Z",
     "iopub.status.busy": "2023-10-16T03:00:25.480910Z",
     "iopub.status.idle": "2023-10-16T03:00:25.487167Z",
     "shell.execute_reply": "2023-10-16T03:00:25.486385Z"
    },
    "papermill": {
     "duration": 0.014116,
     "end_time": "2023-10-16T03:00:25.489234",
     "exception": false,
     "start_time": "2023-10-16T03:00:25.475118",
     "status": "completed"
    },
    "tags": []
   },
   "outputs": [
    {
     "data": {
      "application/javascript": [
       "parent.postMessage({\"jupyterEvent\": \"custom.exercise_interaction\", \"data\": {\"outcomeType\": 1, \"valueTowardsCompletion\": 0.25, \"interactionType\": 1, \"questionType\": 1, \"questionId\": \"4_CandySplitting\", \"learnToolsVersion\": \"0.3.4\", \"failureMessage\": \"\", \"exceptionClass\": \"\", \"trace\": \"\"}}, \"*\")"
      ],
      "text/plain": [
       "<IPython.core.display.Javascript object>"
      ]
     },
     "metadata": {},
     "output_type": "display_data"
    },
    {
     "data": {
      "text/markdown": [
       "<span style=\"color:#33cc33\">Correct</span>"
      ],
      "text/plain": [
       "Correct"
      ]
     },
     "metadata": {},
     "output_type": "display_data"
    }
   ],
   "source": [
    "# Variables representing the number of candies collected by alice, bob, and carol\n",
    "alice_candies = 121\n",
    "bob_candies = 77\n",
    "carol_candies = 109\n",
    "\n",
    "# Your code goes here! Replace the right-hand side of this assignment with an expression\n",
    "# involving alice_candies, bob_candies, and carol_candies\n",
    "total_candies = alice_candies + bob_candies + carol_candies\n",
    "to_smash = total_candies % 3\n",
    "\n",
    "# Check your answer\n",
    "q4.check()"
   ]
  },
  {
   "cell_type": "code",
   "execution_count": 17,
   "id": "2cc3a73f",
   "metadata": {
    "execution": {
     "iopub.execute_input": "2023-10-16T03:00:25.501932Z",
     "iopub.status.busy": "2023-10-16T03:00:25.501428Z",
     "iopub.status.idle": "2023-10-16T03:00:25.504200Z",
     "shell.execute_reply": "2023-10-16T03:00:25.503719Z"
    },
    "papermill": {
     "duration": 0.011119,
     "end_time": "2023-10-16T03:00:25.506056",
     "exception": false,
     "start_time": "2023-10-16T03:00:25.494937",
     "status": "completed"
    },
    "tags": []
   },
   "outputs": [],
   "source": [
    "#q4.hint()\n",
    "#q4.solution()"
   ]
  },
  {
   "cell_type": "markdown",
   "id": "b43554e5",
   "metadata": {
    "papermill": {
     "duration": 0.005029,
     "end_time": "2023-10-16T03:00:25.516560",
     "exception": false,
     "start_time": "2023-10-16T03:00:25.511531",
     "status": "completed"
    },
    "tags": []
   },
   "source": [
    "# Keep Going\n",
    "\n",
    "Next up, you'll **[learn to write new functions and understand functions others write](https://www.kaggle.com/colinmorris/functions-and-getting-help)**. This will make you at least 10 times more productive as a Python programmer. "
   ]
  },
  {
   "cell_type": "markdown",
   "id": "d48ce6ee",
   "metadata": {
    "papermill": {
     "duration": 0.005016,
     "end_time": "2023-10-16T03:00:25.526786",
     "exception": false,
     "start_time": "2023-10-16T03:00:25.521770",
     "status": "completed"
    },
    "tags": []
   },
   "source": [
    "---\n",
    "\n",
    "\n",
    "\n",
    "\n",
    "*Have questions or comments? Visit the [course discussion forum](https://www.kaggle.com/learn/python/discussion) to chat with other learners.*"
   ]
  }
 ],
 "metadata": {
  "kernelspec": {
   "display_name": "Python 3",
   "language": "python",
   "name": "python3"
  },
  "language_info": {
   "codemirror_mode": {
    "name": "ipython",
    "version": 3
   },
   "file_extension": ".py",
   "mimetype": "text/x-python",
   "name": "python",
   "nbconvert_exporter": "python",
   "pygments_lexer": "ipython3",
   "version": "3.10.12"
  },
  "papermill": {
   "default_parameters": {},
   "duration": 3.543866,
   "end_time": "2023-10-16T03:00:25.951898",
   "environment_variables": {},
   "exception": null,
   "input_path": "__notebook__.ipynb",
   "output_path": "__notebook__.ipynb",
   "parameters": {},
   "start_time": "2023-10-16T03:00:22.408032",
   "version": "2.4.0"
  }
 },
 "nbformat": 4,
 "nbformat_minor": 5
}
