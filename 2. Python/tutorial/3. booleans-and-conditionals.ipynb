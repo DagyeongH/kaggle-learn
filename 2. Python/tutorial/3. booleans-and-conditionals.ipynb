{
 "cells": [
  {
   "cell_type": "markdown",
   "id": "3e697350",
   "metadata": {
    "papermill": {
     "duration": 0.005313,
     "end_time": "2023-10-17T03:07:08.639015",
     "exception": false,
     "start_time": "2023-10-17T03:07:08.633702",
     "status": "completed"
    },
    "tags": []
   },
   "source": [
    "# Booleans\n",
    "\n",
    "Python has a type of variable called `bool`. It has two possible values: `True` and `False`."
   ]
  },
  {
   "cell_type": "code",
   "execution_count": 1,
   "id": "dc4e0d52",
   "metadata": {
    "execution": {
     "iopub.execute_input": "2023-10-17T03:07:08.650670Z",
     "iopub.status.busy": "2023-10-17T03:07:08.650333Z",
     "iopub.status.idle": "2023-10-17T03:07:08.660558Z",
     "shell.execute_reply": "2023-10-17T03:07:08.659335Z"
    },
    "papermill": {
     "duration": 0.018592,
     "end_time": "2023-10-17T03:07:08.662695",
     "exception": false,
     "start_time": "2023-10-17T03:07:08.644103",
     "status": "completed"
    },
    "tags": []
   },
   "outputs": [
    {
     "name": "stdout",
     "output_type": "stream",
     "text": [
      "True\n",
      "<class 'bool'>\n"
     ]
    }
   ],
   "source": [
    "x = True\n",
    "print(x)\n",
    "print(type(x))"
   ]
  },
  {
   "cell_type": "markdown",
   "id": "43863f6d",
   "metadata": {
    "papermill": {
     "duration": 0.004599,
     "end_time": "2023-10-17T03:07:08.672673",
     "exception": false,
     "start_time": "2023-10-17T03:07:08.668074",
     "status": "completed"
    },
    "tags": []
   },
   "source": [
    "Rather than putting `True` or `False` directly in our code, we usually get boolean values from **boolean operators**.  These are operators that answer yes/no questions. We'll go through some of these operators below. "
   ]
  },
  {
   "cell_type": "markdown",
   "id": "d2f5a06c",
   "metadata": {
    "papermill": {
     "duration": 0.004656,
     "end_time": "2023-10-17T03:07:08.682402",
     "exception": false,
     "start_time": "2023-10-17T03:07:08.677746",
     "status": "completed"
    },
    "tags": []
   },
   "source": [
    "## Comparison Operations\n",
    "\n",
    "| Operation     | Description                       || Operation     | Description                          |\n",
    "|---------------|-----------------------------------||---------------|--------------------------------------|\n",
    "| ``a == b``    | ``a`` equal to ``b``              || ``a != b``    | ``a`` not equal to ``b``             |\n",
    "| ``a < b``     | ``a`` less than ``b``             || ``a > b``     | ``a`` greater than ``b``             |\n",
    "| ``a <= b``    | ``a`` less than or equal to ``b`` || ``a >= b``    | ``a`` greater than or equal to ``b`` |\n",
    "\n"
   ]
  },
  {
   "cell_type": "code",
   "execution_count": 2,
   "id": "683a4f0e",
   "metadata": {
    "execution": {
     "iopub.execute_input": "2023-10-17T03:07:08.694275Z",
     "iopub.status.busy": "2023-10-17T03:07:08.693286Z",
     "iopub.status.idle": "2023-10-17T03:07:08.699486Z",
     "shell.execute_reply": "2023-10-17T03:07:08.698498Z"
    },
    "papermill": {
     "duration": 0.014135,
     "end_time": "2023-10-17T03:07:08.701395",
     "exception": false,
     "start_time": "2023-10-17T03:07:08.687260",
     "status": "completed"
    },
    "tags": []
   },
   "outputs": [
    {
     "name": "stdout",
     "output_type": "stream",
     "text": [
      "Can a 19-year-old run for president? False\n",
      "Can a 45-year-old run for president? True\n"
     ]
    }
   ],
   "source": [
    "def can_run_for_president(age):\n",
    "    \"\"\"Can someone of the given age run for president in the US?\"\"\"\n",
    "    # The US Constitution says you must be at least 35 years old\n",
    "    return age >= 35\n",
    "\n",
    "print(\"Can a 19-year-old run for president?\", can_run_for_president(19))\n",
    "print(\"Can a 45-year-old run for president?\", can_run_for_president(45))"
   ]
  },
  {
   "cell_type": "markdown",
   "id": "e2d4c72e",
   "metadata": {
    "papermill": {
     "duration": 0.00464,
     "end_time": "2023-10-17T03:07:08.711144",
     "exception": false,
     "start_time": "2023-10-17T03:07:08.706504",
     "status": "completed"
    },
    "tags": []
   },
   "source": [
    "Comparisons frequently work like you'd hope"
   ]
  },
  {
   "cell_type": "code",
   "execution_count": 3,
   "id": "f39fd1b7",
   "metadata": {
    "execution": {
     "iopub.execute_input": "2023-10-17T03:07:08.723134Z",
     "iopub.status.busy": "2023-10-17T03:07:08.722041Z",
     "iopub.status.idle": "2023-10-17T03:07:08.729521Z",
     "shell.execute_reply": "2023-10-17T03:07:08.728655Z"
    },
    "papermill": {
     "duration": 0.015626,
     "end_time": "2023-10-17T03:07:08.731546",
     "exception": false,
     "start_time": "2023-10-17T03:07:08.715920",
     "status": "completed"
    },
    "tags": []
   },
   "outputs": [
    {
     "data": {
      "text/plain": [
       "True"
      ]
     },
     "execution_count": 3,
     "metadata": {},
     "output_type": "execute_result"
    }
   ],
   "source": [
    "3.0 == 3"
   ]
  },
  {
   "cell_type": "markdown",
   "id": "44e53d8d",
   "metadata": {
    "papermill": {
     "duration": 0.004781,
     "end_time": "2023-10-17T03:07:08.741388",
     "exception": false,
     "start_time": "2023-10-17T03:07:08.736607",
     "status": "completed"
    },
    "tags": []
   },
   "source": [
    "But sometimes they can be tricky"
   ]
  },
  {
   "cell_type": "code",
   "execution_count": 4,
   "id": "4c2d6d46",
   "metadata": {
    "execution": {
     "iopub.execute_input": "2023-10-17T03:07:08.752890Z",
     "iopub.status.busy": "2023-10-17T03:07:08.752560Z",
     "iopub.status.idle": "2023-10-17T03:07:08.758371Z",
     "shell.execute_reply": "2023-10-17T03:07:08.757548Z"
    },
    "papermill": {
     "duration": 0.013916,
     "end_time": "2023-10-17T03:07:08.760271",
     "exception": false,
     "start_time": "2023-10-17T03:07:08.746355",
     "status": "completed"
    },
    "tags": []
   },
   "outputs": [
    {
     "data": {
      "text/plain": [
       "False"
      ]
     },
     "execution_count": 4,
     "metadata": {},
     "output_type": "execute_result"
    }
   ],
   "source": [
    "'3' == 3"
   ]
  },
  {
   "cell_type": "markdown",
   "id": "d51ca05a",
   "metadata": {
    "papermill": {
     "duration": 0.004967,
     "end_time": "2023-10-17T03:07:08.770436",
     "exception": false,
     "start_time": "2023-10-17T03:07:08.765469",
     "status": "completed"
    },
    "tags": []
   },
   "source": [
    "Comparison operators can be combined with the arithmetic operators we've already seen to express a virtually limitless range of mathematical tests. For example, we can check if a number is odd by checking that the modulus with 2 returns 1:"
   ]
  },
  {
   "cell_type": "code",
   "execution_count": 5,
   "id": "3a6cbbc9",
   "metadata": {
    "execution": {
     "iopub.execute_input": "2023-10-17T03:07:08.782656Z",
     "iopub.status.busy": "2023-10-17T03:07:08.782094Z",
     "iopub.status.idle": "2023-10-17T03:07:08.788994Z",
     "shell.execute_reply": "2023-10-17T03:07:08.787743Z"
    },
    "papermill": {
     "duration": 0.015514,
     "end_time": "2023-10-17T03:07:08.791107",
     "exception": false,
     "start_time": "2023-10-17T03:07:08.775593",
     "status": "completed"
    },
    "tags": []
   },
   "outputs": [
    {
     "name": "stdout",
     "output_type": "stream",
     "text": [
      "Is 100 odd? False\n",
      "Is -1 odd? True\n"
     ]
    }
   ],
   "source": [
    "def is_odd(n):\n",
    "    return (n % 2) == 1\n",
    "\n",
    "print(\"Is 100 odd?\", is_odd(100))\n",
    "print(\"Is -1 odd?\", is_odd(-1))"
   ]
  },
  {
   "cell_type": "markdown",
   "id": "e9390b13",
   "metadata": {
    "papermill": {
     "duration": 0.005069,
     "end_time": "2023-10-17T03:07:08.801364",
     "exception": false,
     "start_time": "2023-10-17T03:07:08.796295",
     "status": "completed"
    },
    "tags": []
   },
   "source": [
    "Remember to use `==` instead of `=` when making comparisons. If you write `n == 2` you are asking about the value of n. When you write `n = 2` you are changing the value of n."
   ]
  },
  {
   "cell_type": "markdown",
   "id": "cc5d6a39",
   "metadata": {
    "papermill": {
     "duration": 0.004765,
     "end_time": "2023-10-17T03:07:08.811236",
     "exception": false,
     "start_time": "2023-10-17T03:07:08.806471",
     "status": "completed"
    },
    "tags": []
   },
   "source": [
    "## Combining Boolean Values\n",
    "You can combine boolean values using the standard concepts of \"and\", \"or\", and \"not\". In fact, the words to do this are: ``and``, ``or``, and ``not``.\n",
    "\n",
    "With these, we can make our `can_run_for_president` function more accurate."
   ]
  },
  {
   "cell_type": "code",
   "execution_count": 6,
   "id": "cc665f1e",
   "metadata": {
    "execution": {
     "iopub.execute_input": "2023-10-17T03:07:08.823216Z",
     "iopub.status.busy": "2023-10-17T03:07:08.822871Z",
     "iopub.status.idle": "2023-10-17T03:07:08.829357Z",
     "shell.execute_reply": "2023-10-17T03:07:08.828004Z"
    },
    "papermill": {
     "duration": 0.016075,
     "end_time": "2023-10-17T03:07:08.832292",
     "exception": false,
     "start_time": "2023-10-17T03:07:08.816217",
     "status": "completed"
    },
    "tags": []
   },
   "outputs": [
    {
     "name": "stdout",
     "output_type": "stream",
     "text": [
      "False\n",
      "False\n",
      "True\n"
     ]
    }
   ],
   "source": [
    "def can_run_for_president(age, is_natural_born_citizen):\n",
    "    \"\"\"Can someone of the given age and citizenship status run for president in the US?\"\"\"\n",
    "    # The US Constitution says you must be a natural born citizen *and* at least 35 years old\n",
    "    return is_natural_born_citizen and (age >= 35)\n",
    "\n",
    "print(can_run_for_president(19, True))\n",
    "print(can_run_for_president(55, False))\n",
    "print(can_run_for_president(55, True))"
   ]
  },
  {
   "cell_type": "markdown",
   "id": "c59fafcf",
   "metadata": {
    "papermill": {
     "duration": 0.005219,
     "end_time": "2023-10-17T03:07:08.844098",
     "exception": false,
     "start_time": "2023-10-17T03:07:08.838879",
     "status": "completed"
    },
    "tags": []
   },
   "source": [
    "Quick, can you guess the value of this expression?"
   ]
  },
  {
   "cell_type": "code",
   "execution_count": 7,
   "id": "f3a8cfa9",
   "metadata": {
    "_kg_hide-output": true,
    "execution": {
     "iopub.execute_input": "2023-10-17T03:07:08.857171Z",
     "iopub.status.busy": "2023-10-17T03:07:08.856046Z",
     "iopub.status.idle": "2023-10-17T03:07:08.862971Z",
     "shell.execute_reply": "2023-10-17T03:07:08.861646Z"
    },
    "papermill": {
     "duration": 0.015713,
     "end_time": "2023-10-17T03:07:08.865056",
     "exception": false,
     "start_time": "2023-10-17T03:07:08.849343",
     "status": "completed"
    },
    "tags": []
   },
   "outputs": [
    {
     "data": {
      "text/plain": [
       "True"
      ]
     },
     "execution_count": 7,
     "metadata": {},
     "output_type": "execute_result"
    }
   ],
   "source": [
    "True or True and False"
   ]
  },
  {
   "cell_type": "markdown",
   "id": "4e46f015",
   "metadata": {
    "papermill": {
     "duration": 0.005319,
     "end_time": "2023-10-17T03:07:08.875779",
     "exception": false,
     "start_time": "2023-10-17T03:07:08.870460",
     "status": "completed"
    },
    "tags": []
   },
   "source": [
    "(Click the \"output\" button to see the answer)\n",
    "\n",
    "To answer this, you'd need to figure out the order of operations. \n",
    "\n",
    "For example, `and` is evaluated before `or`. That's why the first expression above is `True`. If we evaluated it from left to right, we would have calculated `True or True` first (which is `True`), and then taken the `and` of that result with `False`, giving a final value of `False`.\n",
    "\n",
    "You could try to [memorize the order of precedence](https://docs.python.org/3/reference/expressions.html#operator-precedence), but a safer bet is to just use liberal parentheses. Not only does this help prevent bugs, it makes your intentions clearer to anyone who reads your code. \n",
    "\n",
    "For example, consider the following expression:\n",
    "\n",
    "```python\n",
    "prepared_for_weather = have_umbrella or rain_level < 5 and have_hood or not rain_level > 0 and is_workday\n",
    "```\n",
    "\n",
    "I'm trying to say that I'm safe from today's weather....\n",
    "- if I have an umbrella...\n",
    "- or if the rain isn't too heavy and I have a hood...\n",
    "- otherwise, I'm still fine unless it's raining *and* it's a workday\n",
    "\n",
    "But not only is my Python code hard to read, it has a bug. We can address both problems by adding some parentheses:\n",
    "\n",
    "```python\n",
    "prepared_for_weather = have_umbrella or (rain_level < 5 and have_hood) or not (rain_level > 0 and is_workday)\n",
    "```\n",
    "\n",
    "You can add even more parentheses if you think it helps readability:\n",
    "\n",
    "```python\n",
    "prepared_for_weather = have_umbrella or ((rain_level < 5) and have_hood) or (not (rain_level > 0 and is_workday))\n",
    "```\n",
    "\n",
    "We can also split it over multiple lines to emphasize the 3-part structure described above:\n",
    "\n",
    "```python\n",
    "prepared_for_weather = (\n",
    "    have_umbrella \n",
    "    or ((rain_level < 5) and have_hood) \n",
    "    or (not (rain_level > 0 and is_workday))\n",
    ")\n",
    "```"
   ]
  },
  {
   "cell_type": "markdown",
   "id": "dcd490a6",
   "metadata": {
    "papermill": {
     "duration": 0.004944,
     "end_time": "2023-10-17T03:07:08.886107",
     "exception": false,
     "start_time": "2023-10-17T03:07:08.881163",
     "status": "completed"
    },
    "tags": []
   },
   "source": [
    "# Conditionals\n",
    "\n",
    "Booleans are most useful when combined with *conditional statements*, using the keywords ``if``, ``elif``, and ``else``.\n",
    "\n",
    "Conditional statements, often referred to as *if-then* statements, let you control what pieces of code are run based on the value of some Boolean condition.\n",
    "Here's an example:"
   ]
  },
  {
   "cell_type": "code",
   "execution_count": 8,
   "id": "8e584b56",
   "metadata": {
    "execution": {
     "iopub.execute_input": "2023-10-17T03:07:08.898094Z",
     "iopub.status.busy": "2023-10-17T03:07:08.897671Z",
     "iopub.status.idle": "2023-10-17T03:07:08.904347Z",
     "shell.execute_reply": "2023-10-17T03:07:08.903306Z"
    },
    "papermill": {
     "duration": 0.015054,
     "end_time": "2023-10-17T03:07:08.906339",
     "exception": false,
     "start_time": "2023-10-17T03:07:08.891285",
     "status": "completed"
    },
    "tags": []
   },
   "outputs": [
    {
     "name": "stdout",
     "output_type": "stream",
     "text": [
      "0 is zero\n",
      "-15 is negative\n"
     ]
    }
   ],
   "source": [
    "def inspect(x):\n",
    "    if x == 0:\n",
    "        print(x, \"is zero\")\n",
    "    elif x > 0:\n",
    "        print(x, \"is positive\")\n",
    "    elif x < 0:\n",
    "        print(x, \"is negative\")\n",
    "    else:\n",
    "        print(x, \"is unlike anything I've ever seen...\")\n",
    "\n",
    "inspect(0)\n",
    "inspect(-15)"
   ]
  },
  {
   "cell_type": "markdown",
   "id": "9236ea1a",
   "metadata": {
    "papermill": {
     "duration": 0.005192,
     "end_time": "2023-10-17T03:07:08.916926",
     "exception": false,
     "start_time": "2023-10-17T03:07:08.911734",
     "status": "completed"
    },
    "tags": []
   },
   "source": [
    "The ``if`` and ``else`` keywords are often used in other languages; its more unique keyword is ``elif``, a contraction of \"else if\".\n",
    "In these conditional clauses, ``elif`` and ``else`` blocks are optional; additionally, you can include as many ``elif`` statements as you would like.\n",
    "\n",
    "Note especially the use of colons (``:``) and whitespace to denote separate blocks of code. This is similar to what happens when we define a function - the function header ends with `:`, and the following line is indented with 4 spaces. All subsequent indented lines belong to the body of the function, until we encounter an unindented line, ending the function definition."
   ]
  },
  {
   "cell_type": "code",
   "execution_count": 9,
   "id": "6447347f",
   "metadata": {
    "execution": {
     "iopub.execute_input": "2023-10-17T03:07:08.929629Z",
     "iopub.status.busy": "2023-10-17T03:07:08.928729Z",
     "iopub.status.idle": "2023-10-17T03:07:08.935367Z",
     "shell.execute_reply": "2023-10-17T03:07:08.934099Z"
    },
    "papermill": {
     "duration": 0.015033,
     "end_time": "2023-10-17T03:07:08.937178",
     "exception": false,
     "start_time": "2023-10-17T03:07:08.922145",
     "status": "completed"
    },
    "tags": []
   },
   "outputs": [
    {
     "name": "stdout",
     "output_type": "stream",
     "text": [
      "Only printed when x is positive; x = 1\n",
      "Also only printed when x is positive; x = 1\n",
      "Always printed, regardless of x's value; x = 1\n",
      "Always printed, regardless of x's value; x = 0\n"
     ]
    }
   ],
   "source": [
    "def f(x):\n",
    "    if x > 0:\n",
    "        print(\"Only printed when x is positive; x =\", x)\n",
    "        print(\"Also only printed when x is positive; x =\", x)\n",
    "    print(\"Always printed, regardless of x's value; x =\", x)\n",
    "\n",
    "f(1)\n",
    "f(0)"
   ]
  },
  {
   "cell_type": "markdown",
   "id": "fc051f9d",
   "metadata": {
    "papermill": {
     "duration": 0.00524,
     "end_time": "2023-10-17T03:07:08.947771",
     "exception": false,
     "start_time": "2023-10-17T03:07:08.942531",
     "status": "completed"
    },
    "tags": []
   },
   "source": [
    "## Boolean conversion\n",
    "\n",
    "We've seen `int()`, which turns things into ints, and `float()`, which turns things into floats, so you might not be surprised to hear that Python has a `bool()` function which turns things into bools."
   ]
  },
  {
   "cell_type": "code",
   "execution_count": 10,
   "id": "70ddd6d8",
   "metadata": {
    "execution": {
     "iopub.execute_input": "2023-10-17T03:07:08.960492Z",
     "iopub.status.busy": "2023-10-17T03:07:08.959863Z",
     "iopub.status.idle": "2023-10-17T03:07:08.965307Z",
     "shell.execute_reply": "2023-10-17T03:07:08.964277Z"
    },
    "papermill": {
     "duration": 0.014082,
     "end_time": "2023-10-17T03:07:08.967247",
     "exception": false,
     "start_time": "2023-10-17T03:07:08.953165",
     "status": "completed"
    },
    "tags": []
   },
   "outputs": [
    {
     "name": "stdout",
     "output_type": "stream",
     "text": [
      "True\n",
      "False\n",
      "True\n",
      "False\n"
     ]
    }
   ],
   "source": [
    "print(bool(1)) # all numbers are treated as true, except 0\n",
    "print(bool(0))\n",
    "print(bool(\"asf\")) # all strings are treated as true, except the empty string \"\"\n",
    "print(bool(\"\"))\n",
    "# Generally empty sequences (strings, lists, and other types we've yet to see like lists and tuples)\n",
    "# are \"falsey\" and the rest are \"truthy\""
   ]
  },
  {
   "cell_type": "markdown",
   "id": "8864dbf3",
   "metadata": {
    "papermill": {
     "duration": 0.00527,
     "end_time": "2023-10-17T03:07:08.978012",
     "exception": false,
     "start_time": "2023-10-17T03:07:08.972742",
     "status": "completed"
    },
    "tags": []
   },
   "source": [
    "We can use non-boolean objects in `if` conditions and other places where a boolean would be expected. Python will implicitly treat them as their corresponding boolean value:"
   ]
  },
  {
   "cell_type": "code",
   "execution_count": 11,
   "id": "e12e6107",
   "metadata": {
    "execution": {
     "iopub.execute_input": "2023-10-17T03:07:08.990938Z",
     "iopub.status.busy": "2023-10-17T03:07:08.990570Z",
     "iopub.status.idle": "2023-10-17T03:07:08.996191Z",
     "shell.execute_reply": "2023-10-17T03:07:08.994400Z"
    },
    "papermill": {
     "duration": 0.01699,
     "end_time": "2023-10-17T03:07:09.000330",
     "exception": false,
     "start_time": "2023-10-17T03:07:08.983340",
     "status": "completed"
    },
    "tags": []
   },
   "outputs": [
    {
     "name": "stdout",
     "output_type": "stream",
     "text": [
      "spam\n"
     ]
    }
   ],
   "source": [
    "if 0:\n",
    "    print(0)\n",
    "elif \"spam\":\n",
    "    print(\"spam\")"
   ]
  },
  {
   "cell_type": "markdown",
   "id": "de8a00be",
   "metadata": {
    "papermill": {
     "duration": 0.005578,
     "end_time": "2023-10-17T03:07:09.014018",
     "exception": false,
     "start_time": "2023-10-17T03:07:09.008440",
     "status": "completed"
    },
    "tags": []
   },
   "source": [
    "# Your Turn\n",
    "\n",
    "You probably don't realize how much you have learned so far. Go try the **[hands-on coding problems](https://www.kaggle.com/kernels/fork/1275165)**, and you'll be pleasantly surprised about how much you can do."
   ]
  },
  {
   "cell_type": "markdown",
   "id": "7526d2f7",
   "metadata": {
    "papermill": {
     "duration": 0.00547,
     "end_time": "2023-10-17T03:07:09.025100",
     "exception": false,
     "start_time": "2023-10-17T03:07:09.019630",
     "status": "completed"
    },
    "tags": []
   },
   "source": [
    "---\n",
    "\n",
    "\n",
    "\n",
    "\n",
    "*Have questions or comments? Visit the [course discussion forum](https://www.kaggle.com/learn/python/discussion) to chat with other learners.*"
   ]
  }
 ],
 "metadata": {
  "kernelspec": {
   "display_name": "Python 3",
   "language": "python",
   "name": "python3"
  },
  "language_info": {
   "codemirror_mode": {
    "name": "ipython",
    "version": 3
   },
   "file_extension": ".py",
   "mimetype": "text/x-python",
   "name": "python",
   "nbconvert_exporter": "python",
   "pygments_lexer": "ipython3",
   "version": "3.10.12"
  },
  "papermill": {
   "default_parameters": {},
   "duration": 4.00894,
   "end_time": "2023-10-17T03:07:09.450693",
   "environment_variables": {},
   "exception": null,
   "input_path": "__notebook__.ipynb",
   "output_path": "__notebook__.ipynb",
   "parameters": {},
   "start_time": "2023-10-17T03:07:05.441753",
   "version": "2.4.0"
  }
 },
 "nbformat": 4,
 "nbformat_minor": 5
}
