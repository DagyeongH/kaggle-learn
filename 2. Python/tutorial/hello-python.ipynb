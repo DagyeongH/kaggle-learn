{
 "cells": [
  {
   "cell_type": "markdown",
   "id": "ea8373bf",
   "metadata": {
    "papermill": {
     "duration": 0.007781,
     "end_time": "2023-10-16T08:49:20.251798",
     "exception": false,
     "start_time": "2023-10-16T08:49:20.244017",
     "status": "completed"
    },
    "tags": []
   },
   "source": [
    "This course covers the key Python skills you’ll need so you can start using Python for data science. The course is ideal for someone with some previous coding experience who wants to add Python to their repertoire. (If you're a first-time coder, you are encouraged to check out our [Intro to Programming course](https://www.kaggle.com/learn/intro-to-programming), which is designed for complete beginners who would like to get started with Python.)\n",
    "\n",
    "We'll start with a brief overview of Python syntax, variable assignment, and arithmetic operators. "
   ]
  },
  {
   "cell_type": "markdown",
   "id": "c5dd6e44",
   "metadata": {
    "papermill": {
     "duration": 0.006324,
     "end_time": "2023-10-16T08:49:20.265626",
     "exception": false,
     "start_time": "2023-10-16T08:49:20.259302",
     "status": "completed"
    },
    "tags": []
   },
   "source": [
    "# Hello, Python!\n",
    "\n",
    "Python was named for the British comedy troupe [Monty Python](https://en.wikipedia.org/wiki/Monty_Python), so we'll make our first Python program a homage to their skit about [Spam](https://bit.ly/3MwwjSs).\n",
    "\n",
    "Just for fun, try reading over the code below and predicting what it's going to do when run. (If you have no idea, that's fine!)\n",
    "\n",
    "Then click the \"output\" button to see the results of our program."
   ]
  },
  {
   "cell_type": "code",
   "execution_count": 1,
   "id": "523788f3",
   "metadata": {
    "_kg_hide-output": true,
    "execution": {
     "iopub.execute_input": "2023-10-16T08:49:20.282832Z",
     "iopub.status.busy": "2023-10-16T08:49:20.282361Z",
     "iopub.status.idle": "2023-10-16T08:49:20.295435Z",
     "shell.execute_reply": "2023-10-16T08:49:20.294121Z"
    },
    "papermill": {
     "duration": 0.024704,
     "end_time": "2023-10-16T08:49:20.298266",
     "exception": false,
     "start_time": "2023-10-16T08:49:20.273562",
     "status": "completed"
    },
    "tags": []
   },
   "outputs": [
    {
     "name": "stdout",
     "output_type": "stream",
     "text": [
      "0\n",
      "But I don't want ANY spam!\n",
      "Spam Spam Spam Spam \n"
     ]
    }
   ],
   "source": [
    "spam_amount = 0\n",
    "print(spam_amount)\n",
    "\n",
    "# Ordering Spam, egg, Spam, Spam, bacon and Spam (4 more servings of Spam)\n",
    "spam_amount = spam_amount + 4\n",
    "\n",
    "if spam_amount > 0:\n",
    "    print(\"But I don't want ANY spam!\")\n",
    "\n",
    "viking_song = \"Spam \" * spam_amount\n",
    "print(viking_song)"
   ]
  },
  {
   "cell_type": "markdown",
   "id": "84478af7",
   "metadata": {
    "papermill": {
     "duration": 0.007185,
     "end_time": "2023-10-16T08:49:20.312432",
     "exception": false,
     "start_time": "2023-10-16T08:49:20.305247",
     "status": "completed"
    },
    "tags": []
   },
   "source": [
    "There's a lot to unpack here! This silly program demonstrates many important aspects of what Python code looks like and how it works. Let's review the code from top to bottom."
   ]
  },
  {
   "cell_type": "code",
   "execution_count": 2,
   "id": "68028867",
   "metadata": {
    "collapsed": true,
    "execution": {
     "iopub.execute_input": "2023-10-16T08:49:20.329036Z",
     "iopub.status.busy": "2023-10-16T08:49:20.328578Z",
     "iopub.status.idle": "2023-10-16T08:49:20.333971Z",
     "shell.execute_reply": "2023-10-16T08:49:20.332718Z"
    },
    "jupyter": {
     "outputs_hidden": true
    },
    "papermill": {
     "duration": 0.01641,
     "end_time": "2023-10-16T08:49:20.336442",
     "exception": false,
     "start_time": "2023-10-16T08:49:20.320032",
     "status": "completed"
    },
    "tags": []
   },
   "outputs": [],
   "source": [
    "spam_amount = 0"
   ]
  },
  {
   "cell_type": "markdown",
   "id": "3e0d7b8a",
   "metadata": {
    "papermill": {
     "duration": 0.00704,
     "end_time": "2023-10-16T08:49:20.350580",
     "exception": false,
     "start_time": "2023-10-16T08:49:20.343540",
     "status": "completed"
    },
    "tags": []
   },
   "source": [
    "**Variable assignment:** Here we create a variable called `spam_amount` and assign it the value of 0 using `=`, which is called the assignment operator.\n",
    "\n",
    "> **Note**: If you've programmed in certain other languages (like Java or C++), you might be noticing some things Python *doesn't* require us to do here:  \n",
    "- we don't need to \"declare\" `spam_amount` before assigning to it\n",
    "- we don't need to tell Python what type of value `spam_amount` is going to refer to. In fact, we can even go on to reassign `spam_amount` to refer to a different sort of thing like a string or a boolean."
   ]
  },
  {
   "cell_type": "code",
   "execution_count": 3,
   "id": "9af73274",
   "metadata": {
    "_kg_hide-output": false,
    "collapsed": true,
    "execution": {
     "iopub.execute_input": "2023-10-16T08:49:20.368241Z",
     "iopub.status.busy": "2023-10-16T08:49:20.367280Z",
     "iopub.status.idle": "2023-10-16T08:49:20.373799Z",
     "shell.execute_reply": "2023-10-16T08:49:20.372858Z"
    },
    "jupyter": {
     "outputs_hidden": true
    },
    "papermill": {
     "duration": 0.018444,
     "end_time": "2023-10-16T08:49:20.376455",
     "exception": false,
     "start_time": "2023-10-16T08:49:20.358011",
     "status": "completed"
    },
    "tags": []
   },
   "outputs": [
    {
     "name": "stdout",
     "output_type": "stream",
     "text": [
      "0\n"
     ]
    }
   ],
   "source": [
    "print(spam_amount)"
   ]
  },
  {
   "cell_type": "markdown",
   "id": "68353975",
   "metadata": {
    "papermill": {
     "duration": 0.006753,
     "end_time": "2023-10-16T08:49:20.390559",
     "exception": false,
     "start_time": "2023-10-16T08:49:20.383806",
     "status": "completed"
    },
    "tags": []
   },
   "source": [
    "**Function calls:**. `print` is a Python function that displays the value passed to it on the screen. We call functions by putting parentheses after their name, and putting the inputs (or *arguments*) to the function in those parentheses."
   ]
  },
  {
   "cell_type": "code",
   "execution_count": 4,
   "id": "7f2da729",
   "metadata": {
    "_kg_hide-output": false,
    "collapsed": true,
    "execution": {
     "iopub.execute_input": "2023-10-16T08:49:20.407157Z",
     "iopub.status.busy": "2023-10-16T08:49:20.406496Z",
     "iopub.status.idle": "2023-10-16T08:49:20.412131Z",
     "shell.execute_reply": "2023-10-16T08:49:20.410477Z"
    },
    "jupyter": {
     "outputs_hidden": true
    },
    "papermill": {
     "duration": 0.016806,
     "end_time": "2023-10-16T08:49:20.414480",
     "exception": false,
     "start_time": "2023-10-16T08:49:20.397674",
     "status": "completed"
    },
    "tags": []
   },
   "outputs": [],
   "source": [
    "# Ordering Spam, egg, Spam, Spam, bacon and Spam (4 more servings of Spam)\n",
    "spam_amount = spam_amount + 4"
   ]
  },
  {
   "cell_type": "markdown",
   "id": "34859ba6",
   "metadata": {
    "papermill": {
     "duration": 0.007083,
     "end_time": "2023-10-16T08:49:20.429547",
     "exception": false,
     "start_time": "2023-10-16T08:49:20.422464",
     "status": "completed"
    },
    "tags": []
   },
   "source": [
    "The first line above is a **comment**. In Python, comments begin with the `#` symbol.\n",
    "\n",
    "Next we see an example of reassignment. Reassigning the value of an existing variable looks just the same as creating a variable - it still uses the `=` assignment operator.\n",
    "\n",
    "In this case, the value we're assigning to `spam_amount` involves some simple arithmetic on its previous value. When it encounters this line, Python evaluates the expression on the right-hand-side of the `=` (0 + 4 = 4), and then assigns that value to the variable on the left-hand-side."
   ]
  },
  {
   "cell_type": "code",
   "execution_count": 5,
   "id": "40b200f9",
   "metadata": {
    "_kg_hide-output": false,
    "collapsed": true,
    "execution": {
     "iopub.execute_input": "2023-10-16T08:49:20.446604Z",
     "iopub.status.busy": "2023-10-16T08:49:20.446161Z",
     "iopub.status.idle": "2023-10-16T08:49:20.452633Z",
     "shell.execute_reply": "2023-10-16T08:49:20.451372Z"
    },
    "jupyter": {
     "outputs_hidden": true
    },
    "papermill": {
     "duration": 0.017852,
     "end_time": "2023-10-16T08:49:20.455103",
     "exception": false,
     "start_time": "2023-10-16T08:49:20.437251",
     "status": "completed"
    },
    "tags": []
   },
   "outputs": [
    {
     "name": "stdout",
     "output_type": "stream",
     "text": [
      "But I don't want ANY spam!\n",
      "Spam Spam Spam\n"
     ]
    }
   ],
   "source": [
    "if spam_amount > 0:\n",
    "    print(\"But I don't want ANY spam!\")\n",
    "\n",
    "viking_song = \"Spam Spam Spam\"\n",
    "print(viking_song)"
   ]
  },
  {
   "cell_type": "markdown",
   "id": "b3325849",
   "metadata": {
    "papermill": {
     "duration": 0.009988,
     "end_time": "2023-10-16T08:49:20.472724",
     "exception": false,
     "start_time": "2023-10-16T08:49:20.462736",
     "status": "completed"
    },
    "tags": []
   },
   "source": [
    "We won't talk much about \"conditionals\" until later, but, even if you've never coded before, you can probably guess what this does. Python is prized for its readability and the simplicity. \n",
    "\n",
    "Note how we indicated which code belongs to the `if`. `\"But I don't want ANY spam!\"` is only supposed to be printed if `spam_amount` is positive. But the later code (like `print(viking_song)`) should be executed no matter what. How do we (and Python) know that?\n",
    "\n",
    "The colon (`:`) at the end of the `if` line indicates that a new **code block** is starting. Subsequent lines which are indented are part of that code block. \n",
    "> **Note**: If you've coded before, you might know that some other languages use `{`curly braces`}` to mark the beginning and end of code blocks. Python's use of meaningful whitespace can be surprising to programmers who are accustomed to other languages, but in practice it can lead to more consistent and readable code than languages that do not enforce indentation of code blocks. \n",
    "\n",
    "The later lines dealing with `viking_song` are not indented with an extra 4 spaces, so they're not a part of the `if`'s code block. We'll see more examples of indented code blocks later when we define functions and using loops.\n",
    "\n",
    "This code snippet is also our first sighting of a **string** in Python:\n",
    "\n",
    "```python\n",
    "\"But I don't want ANY spam!\"\n",
    "```\n",
    "\n",
    "Strings can be marked either by double or single quotation marks. (But because this particular string *contains* a single-quote character, we might confuse Python by trying to surround it with single-quotes, unless we're careful.)"
   ]
  },
  {
   "cell_type": "code",
   "execution_count": 6,
   "id": "1fa2a296",
   "metadata": {
    "_kg_hide-output": false,
    "collapsed": true,
    "execution": {
     "iopub.execute_input": "2023-10-16T08:49:20.489357Z",
     "iopub.status.busy": "2023-10-16T08:49:20.488960Z",
     "iopub.status.idle": "2023-10-16T08:49:20.494845Z",
     "shell.execute_reply": "2023-10-16T08:49:20.493463Z"
    },
    "jupyter": {
     "outputs_hidden": true
    },
    "papermill": {
     "duration": 0.016843,
     "end_time": "2023-10-16T08:49:20.497090",
     "exception": false,
     "start_time": "2023-10-16T08:49:20.480247",
     "status": "completed"
    },
    "tags": []
   },
   "outputs": [
    {
     "name": "stdout",
     "output_type": "stream",
     "text": [
      "Spam Spam Spam Spam \n"
     ]
    }
   ],
   "source": [
    "viking_song = \"Spam \" * spam_amount\n",
    "print(viking_song)"
   ]
  },
  {
   "cell_type": "markdown",
   "id": "7c6fee35",
   "metadata": {
    "papermill": {
     "duration": 0.007496,
     "end_time": "2023-10-16T08:49:20.512205",
     "exception": false,
     "start_time": "2023-10-16T08:49:20.504709",
     "status": "completed"
    },
    "tags": []
   },
   "source": [
    "The `*` operator can be used to multiply two numbers (`3 * 3` evaluates to 9), but we can also multiply a string by a number, to get a version that's been repeated that many times. Python offers a number of cheeky little time-saving tricks like this where operators like `*` and `+` have a different meaning depending on what kind of thing they're applied to. (The technical term for this is [operator overloading](https://en.wikipedia.org/wiki/Operator_overloading).)"
   ]
  },
  {
   "cell_type": "markdown",
   "id": "bcd9e799",
   "metadata": {
    "papermill": {
     "duration": 0.007458,
     "end_time": "2023-10-16T08:49:20.527086",
     "exception": false,
     "start_time": "2023-10-16T08:49:20.519628",
     "status": "completed"
    },
    "tags": []
   },
   "source": [
    "## Numbers and arithmetic in Python\n",
    "\n",
    "We've already seen an example of a variable containing a number above:"
   ]
  },
  {
   "cell_type": "code",
   "execution_count": 7,
   "id": "0de71459",
   "metadata": {
    "collapsed": true,
    "execution": {
     "iopub.execute_input": "2023-10-16T08:49:20.544095Z",
     "iopub.status.busy": "2023-10-16T08:49:20.543605Z",
     "iopub.status.idle": "2023-10-16T08:49:20.548995Z",
     "shell.execute_reply": "2023-10-16T08:49:20.547862Z"
    },
    "jupyter": {
     "outputs_hidden": true
    },
    "papermill": {
     "duration": 0.016353,
     "end_time": "2023-10-16T08:49:20.551119",
     "exception": false,
     "start_time": "2023-10-16T08:49:20.534766",
     "status": "completed"
    },
    "tags": []
   },
   "outputs": [],
   "source": [
    "spam_amount = 0"
   ]
  },
  {
   "cell_type": "markdown",
   "id": "eb03490e",
   "metadata": {
    "papermill": {
     "duration": 0.007793,
     "end_time": "2023-10-16T08:49:20.566253",
     "exception": false,
     "start_time": "2023-10-16T08:49:20.558460",
     "status": "completed"
    },
    "tags": []
   },
   "source": [
    "\"Number\" is a fine informal name for the kind of thing, but if we wanted to be more technical, we could ask Python how it would describe the type of thing that `spam_amount` is:"
   ]
  },
  {
   "cell_type": "code",
   "execution_count": 8,
   "id": "a015a65a",
   "metadata": {
    "collapsed": true,
    "execution": {
     "iopub.execute_input": "2023-10-16T08:49:20.582943Z",
     "iopub.status.busy": "2023-10-16T08:49:20.582474Z",
     "iopub.status.idle": "2023-10-16T08:49:20.590608Z",
     "shell.execute_reply": "2023-10-16T08:49:20.589753Z"
    },
    "jupyter": {
     "outputs_hidden": true
    },
    "papermill": {
     "duration": 0.019033,
     "end_time": "2023-10-16T08:49:20.592840",
     "exception": false,
     "start_time": "2023-10-16T08:49:20.573807",
     "status": "completed"
    },
    "tags": []
   },
   "outputs": [
    {
     "data": {
      "text/plain": [
       "int"
      ]
     },
     "execution_count": 8,
     "metadata": {},
     "output_type": "execute_result"
    }
   ],
   "source": [
    "type(spam_amount)"
   ]
  },
  {
   "cell_type": "markdown",
   "id": "be4a1731",
   "metadata": {
    "papermill": {
     "duration": 0.007398,
     "end_time": "2023-10-16T08:49:20.607707",
     "exception": false,
     "start_time": "2023-10-16T08:49:20.600309",
     "status": "completed"
    },
    "tags": []
   },
   "source": [
    "It's an `int` - short for integer. There's another sort of number we commonly encounter in Python:"
   ]
  },
  {
   "cell_type": "code",
   "execution_count": 9,
   "id": "4387707c",
   "metadata": {
    "collapsed": true,
    "execution": {
     "iopub.execute_input": "2023-10-16T08:49:20.625112Z",
     "iopub.status.busy": "2023-10-16T08:49:20.624619Z",
     "iopub.status.idle": "2023-10-16T08:49:20.632250Z",
     "shell.execute_reply": "2023-10-16T08:49:20.631097Z"
    },
    "jupyter": {
     "outputs_hidden": true
    },
    "papermill": {
     "duration": 0.019149,
     "end_time": "2023-10-16T08:49:20.634732",
     "exception": false,
     "start_time": "2023-10-16T08:49:20.615583",
     "status": "completed"
    },
    "tags": []
   },
   "outputs": [
    {
     "data": {
      "text/plain": [
       "float"
      ]
     },
     "execution_count": 9,
     "metadata": {},
     "output_type": "execute_result"
    }
   ],
   "source": [
    "type(19.95)"
   ]
  },
  {
   "cell_type": "markdown",
   "id": "a30dedbd",
   "metadata": {
    "papermill": {
     "duration": 0.008121,
     "end_time": "2023-10-16T08:49:20.651361",
     "exception": false,
     "start_time": "2023-10-16T08:49:20.643240",
     "status": "completed"
    },
    "tags": []
   },
   "source": [
    "A `float` is a number with a decimal place - very useful for representing things like weights or proportions.\n",
    "\n",
    "`type()` is the second built-in function we've seen (after `print()`), and it's another good one to remember. It's very useful to be able to ask Python \"what kind of thing is this?\". "
   ]
  },
  {
   "cell_type": "markdown",
   "id": "80c93357",
   "metadata": {
    "papermill": {
     "duration": 0.00787,
     "end_time": "2023-10-16T08:49:20.667033",
     "exception": false,
     "start_time": "2023-10-16T08:49:20.659163",
     "status": "completed"
    },
    "tags": []
   },
   "source": [
    "A natural thing to want to do with numbers is perform arithmetic. We've seen the `+` operator for addition, and the `*` operator for multiplication. Python also has us covered for the rest of the basic buttons on your calculator:\n",
    "\n",
    "| Operator     | Name           | Description                                            |\n",
    "|--------------|----------------|--------------------------------------------------------|\n",
    "| ``a + b``    | Addition       | Sum of ``a`` and ``b``                                 |\n",
    "| ``a - b``    | Subtraction    | Difference of ``a`` and ``b``                          |\n",
    "| ``a * b``    | Multiplication | Product of ``a`` and ``b``                             |\n",
    "| ``a / b``    | True division  | Quotient of ``a`` and ``b``                            |\n",
    "| ``a // b``   | Floor division | Quotient of ``a`` and ``b``, removing fractional parts |\n",
    "| ``a % b``    | Modulus        | Integer remainder after division of ``a`` by ``b``     |\n",
    "| ``a ** b``   | Exponentiation | ``a`` raised to the power of ``b``                     |\n",
    "| ``-a``       | Negation       | The negative of ``a``                                  |\n",
    "\n",
    "<span style=\"display:none\"></span>\n",
    "\n",
    "One interesting observation here is that, whereas your calculator probably just has one button for division, Python can do two kinds. \"True division\" is basically what your calculator does:"
   ]
  },
  {
   "cell_type": "code",
   "execution_count": 10,
   "id": "f91dc102",
   "metadata": {
    "collapsed": true,
    "execution": {
     "iopub.execute_input": "2023-10-16T08:49:20.685440Z",
     "iopub.status.busy": "2023-10-16T08:49:20.685055Z",
     "iopub.status.idle": "2023-10-16T08:49:20.690706Z",
     "shell.execute_reply": "2023-10-16T08:49:20.689542Z"
    },
    "jupyter": {
     "outputs_hidden": true
    },
    "papermill": {
     "duration": 0.017075,
     "end_time": "2023-10-16T08:49:20.693065",
     "exception": false,
     "start_time": "2023-10-16T08:49:20.675990",
     "status": "completed"
    },
    "tags": []
   },
   "outputs": [
    {
     "name": "stdout",
     "output_type": "stream",
     "text": [
      "2.5\n",
      "3.0\n"
     ]
    }
   ],
   "source": [
    "print(5 / 2)\n",
    "print(6 / 2)"
   ]
  },
  {
   "cell_type": "markdown",
   "id": "6ff70302",
   "metadata": {
    "papermill": {
     "duration": 0.007223,
     "end_time": "2023-10-16T08:49:20.708164",
     "exception": false,
     "start_time": "2023-10-16T08:49:20.700941",
     "status": "completed"
    },
    "tags": []
   },
   "source": [
    "It always gives us a `float`. \n",
    "\n",
    "The `//` operator gives us a result that's rounded down to the next integer."
   ]
  },
  {
   "cell_type": "code",
   "execution_count": 11,
   "id": "f6e890c8",
   "metadata": {
    "collapsed": true,
    "execution": {
     "iopub.execute_input": "2023-10-16T08:49:20.820293Z",
     "iopub.status.busy": "2023-10-16T08:49:20.819900Z",
     "iopub.status.idle": "2023-10-16T08:49:20.825163Z",
     "shell.execute_reply": "2023-10-16T08:49:20.824365Z"
    },
    "jupyter": {
     "outputs_hidden": true
    },
    "papermill": {
     "duration": 0.017427,
     "end_time": "2023-10-16T08:49:20.827210",
     "exception": false,
     "start_time": "2023-10-16T08:49:20.809783",
     "status": "completed"
    },
    "tags": []
   },
   "outputs": [
    {
     "name": "stdout",
     "output_type": "stream",
     "text": [
      "2\n",
      "3\n"
     ]
    }
   ],
   "source": [
    "print(5 // 2)\n",
    "print(6 // 2)"
   ]
  },
  {
   "cell_type": "markdown",
   "id": "b3efffcd",
   "metadata": {
    "papermill": {
     "duration": 0.007587,
     "end_time": "2023-10-16T08:49:20.842896",
     "exception": false,
     "start_time": "2023-10-16T08:49:20.835309",
     "status": "completed"
    },
    "tags": []
   },
   "source": [
    "Can you think of where this would be useful? You'll see an example soon in the coding challenges."
   ]
  },
  {
   "cell_type": "markdown",
   "id": "a22f2f26",
   "metadata": {
    "papermill": {
     "duration": 0.007484,
     "end_time": "2023-10-16T08:49:20.858362",
     "exception": false,
     "start_time": "2023-10-16T08:49:20.850878",
     "status": "completed"
    },
    "tags": []
   },
   "source": [
    "### Order of operations\n",
    "\n",
    "The arithmetic we learned in primary school has conventions about the order in which operations are evaluated. Some remember these by a mnemonic such as **PEMDAS** - **P**arentheses, **E**xponents, **M**ultiplication/**D**ivision, **A**ddition/**S**ubtraction.\n",
    "\n",
    "Python follows similar rules about which calculations to perform first. They're mostly pretty intuitive."
   ]
  },
  {
   "cell_type": "code",
   "execution_count": 12,
   "id": "79d857b0",
   "metadata": {
    "collapsed": true,
    "execution": {
     "iopub.execute_input": "2023-10-16T08:49:20.876980Z",
     "iopub.status.busy": "2023-10-16T08:49:20.876524Z",
     "iopub.status.idle": "2023-10-16T08:49:20.882798Z",
     "shell.execute_reply": "2023-10-16T08:49:20.881624Z"
    },
    "jupyter": {
     "outputs_hidden": true
    },
    "papermill": {
     "duration": 0.018389,
     "end_time": "2023-10-16T08:49:20.885022",
     "exception": false,
     "start_time": "2023-10-16T08:49:20.866633",
     "status": "completed"
    },
    "tags": []
   },
   "outputs": [
    {
     "data": {
      "text/plain": [
       "7"
      ]
     },
     "execution_count": 12,
     "metadata": {},
     "output_type": "execute_result"
    }
   ],
   "source": [
    "8 - 3 + 2"
   ]
  },
  {
   "cell_type": "code",
   "execution_count": 13,
   "id": "d1d27b87",
   "metadata": {
    "collapsed": true,
    "execution": {
     "iopub.execute_input": "2023-10-16T08:49:20.903916Z",
     "iopub.status.busy": "2023-10-16T08:49:20.903485Z",
     "iopub.status.idle": "2023-10-16T08:49:20.910285Z",
     "shell.execute_reply": "2023-10-16T08:49:20.909164Z"
    },
    "jupyter": {
     "outputs_hidden": true
    },
    "papermill": {
     "duration": 0.019362,
     "end_time": "2023-10-16T08:49:20.912812",
     "exception": false,
     "start_time": "2023-10-16T08:49:20.893450",
     "status": "completed"
    },
    "tags": []
   },
   "outputs": [
    {
     "data": {
      "text/plain": [
       "5"
      ]
     },
     "execution_count": 13,
     "metadata": {},
     "output_type": "execute_result"
    }
   ],
   "source": [
    "-3 + 4 * 2"
   ]
  },
  {
   "cell_type": "markdown",
   "id": "ba9d8997",
   "metadata": {
    "papermill": {
     "duration": 0.00876,
     "end_time": "2023-10-16T08:49:20.930437",
     "exception": false,
     "start_time": "2023-10-16T08:49:20.921677",
     "status": "completed"
    },
    "tags": []
   },
   "source": [
    "Sometimes the default order of operations isn't what we want:"
   ]
  },
  {
   "cell_type": "code",
   "execution_count": 14,
   "id": "a9329c0e",
   "metadata": {
    "collapsed": true,
    "execution": {
     "iopub.execute_input": "2023-10-16T08:49:20.950481Z",
     "iopub.status.busy": "2023-10-16T08:49:20.950102Z",
     "iopub.status.idle": "2023-10-16T08:49:20.955727Z",
     "shell.execute_reply": "2023-10-16T08:49:20.954569Z"
    },
    "jupyter": {
     "outputs_hidden": true
    },
    "papermill": {
     "duration": 0.018403,
     "end_time": "2023-10-16T08:49:20.958364",
     "exception": false,
     "start_time": "2023-10-16T08:49:20.939961",
     "status": "completed"
    },
    "tags": []
   },
   "outputs": [
    {
     "name": "stdout",
     "output_type": "stream",
     "text": [
      "Height in meters = 26.9 ?\n"
     ]
    }
   ],
   "source": [
    "hat_height_cm = 25\n",
    "my_height_cm = 190\n",
    "# How tall am I, in meters, when wearing my hat?\n",
    "total_height_meters = hat_height_cm + my_height_cm / 100\n",
    "print(\"Height in meters =\", total_height_meters, \"?\")"
   ]
  },
  {
   "cell_type": "markdown",
   "id": "c351dc63",
   "metadata": {
    "papermill": {
     "duration": 0.008221,
     "end_time": "2023-10-16T08:49:20.974989",
     "exception": false,
     "start_time": "2023-10-16T08:49:20.966768",
     "status": "completed"
    },
    "tags": []
   },
   "source": [
    "Parentheses are useful here. You can add them to force Python to evaluate sub-expressions in whatever order you want."
   ]
  },
  {
   "cell_type": "code",
   "execution_count": 15,
   "id": "eac3418f",
   "metadata": {
    "collapsed": true,
    "execution": {
     "iopub.execute_input": "2023-10-16T08:49:20.995974Z",
     "iopub.status.busy": "2023-10-16T08:49:20.995472Z",
     "iopub.status.idle": "2023-10-16T08:49:21.001336Z",
     "shell.execute_reply": "2023-10-16T08:49:21.000182Z"
    },
    "jupyter": {
     "outputs_hidden": true
    },
    "papermill": {
     "duration": 0.020008,
     "end_time": "2023-10-16T08:49:21.003915",
     "exception": false,
     "start_time": "2023-10-16T08:49:20.983907",
     "status": "completed"
    },
    "tags": []
   },
   "outputs": [
    {
     "name": "stdout",
     "output_type": "stream",
     "text": [
      "Height in meters = 2.15\n"
     ]
    }
   ],
   "source": [
    "total_height_meters = (hat_height_cm + my_height_cm) / 100\n",
    "print(\"Height in meters =\", total_height_meters)"
   ]
  },
  {
   "cell_type": "markdown",
   "id": "b52807ec",
   "metadata": {
    "papermill": {
     "duration": 0.008614,
     "end_time": "2023-10-16T08:49:21.021177",
     "exception": false,
     "start_time": "2023-10-16T08:49:21.012563",
     "status": "completed"
    },
    "tags": []
   },
   "source": [
    "### Builtin functions for working with numbers\n",
    "\n",
    "`min` and `max` return the minimum and maximum of their arguments, respectively..."
   ]
  },
  {
   "cell_type": "code",
   "execution_count": 16,
   "id": "4608e8e7",
   "metadata": {
    "collapsed": true,
    "execution": {
     "iopub.execute_input": "2023-10-16T08:49:21.042434Z",
     "iopub.status.busy": "2023-10-16T08:49:21.041489Z",
     "iopub.status.idle": "2023-10-16T08:49:21.047692Z",
     "shell.execute_reply": "2023-10-16T08:49:21.046574Z"
    },
    "jupyter": {
     "outputs_hidden": true
    },
    "papermill": {
     "duration": 0.018848,
     "end_time": "2023-10-16T08:49:21.050023",
     "exception": false,
     "start_time": "2023-10-16T08:49:21.031175",
     "status": "completed"
    },
    "tags": []
   },
   "outputs": [
    {
     "name": "stdout",
     "output_type": "stream",
     "text": [
      "1\n",
      "3\n"
     ]
    }
   ],
   "source": [
    "print(min(1, 2, 3))\n",
    "print(max(1, 2, 3))"
   ]
  },
  {
   "cell_type": "markdown",
   "id": "bb977ca4",
   "metadata": {
    "papermill": {
     "duration": 0.008175,
     "end_time": "2023-10-16T08:49:21.066744",
     "exception": false,
     "start_time": "2023-10-16T08:49:21.058569",
     "status": "completed"
    },
    "tags": []
   },
   "source": [
    "`abs` returns the absolute value of an argument:"
   ]
  },
  {
   "cell_type": "code",
   "execution_count": 17,
   "id": "e759c066",
   "metadata": {
    "collapsed": true,
    "execution": {
     "iopub.execute_input": "2023-10-16T08:49:21.086753Z",
     "iopub.status.busy": "2023-10-16T08:49:21.086280Z",
     "iopub.status.idle": "2023-10-16T08:49:21.092265Z",
     "shell.execute_reply": "2023-10-16T08:49:21.090994Z"
    },
    "jupyter": {
     "outputs_hidden": true
    },
    "papermill": {
     "duration": 0.018454,
     "end_time": "2023-10-16T08:49:21.094625",
     "exception": false,
     "start_time": "2023-10-16T08:49:21.076171",
     "status": "completed"
    },
    "tags": []
   },
   "outputs": [
    {
     "name": "stdout",
     "output_type": "stream",
     "text": [
      "32\n",
      "32\n"
     ]
    }
   ],
   "source": [
    "print(abs(32))\n",
    "print(abs(-32))"
   ]
  },
  {
   "cell_type": "markdown",
   "id": "c4ad59dc",
   "metadata": {
    "papermill": {
     "duration": 0.009531,
     "end_time": "2023-10-16T08:49:21.113421",
     "exception": false,
     "start_time": "2023-10-16T08:49:21.103890",
     "status": "completed"
    },
    "tags": []
   },
   "source": [
    "In addition to being the names of Python's two main numerical types, `int` and `float` can also be called as functions which convert their arguments to the corresponding type:"
   ]
  },
  {
   "cell_type": "code",
   "execution_count": 18,
   "id": "a814589f",
   "metadata": {
    "collapsed": true,
    "execution": {
     "iopub.execute_input": "2023-10-16T08:49:21.133561Z",
     "iopub.status.busy": "2023-10-16T08:49:21.133159Z",
     "iopub.status.idle": "2023-10-16T08:49:21.139338Z",
     "shell.execute_reply": "2023-10-16T08:49:21.138384Z"
    },
    "jupyter": {
     "outputs_hidden": true
    },
    "papermill": {
     "duration": 0.019572,
     "end_time": "2023-10-16T08:49:21.141839",
     "exception": false,
     "start_time": "2023-10-16T08:49:21.122267",
     "status": "completed"
    },
    "tags": []
   },
   "outputs": [
    {
     "name": "stdout",
     "output_type": "stream",
     "text": [
      "10.0\n",
      "3\n",
      "808\n"
     ]
    }
   ],
   "source": [
    "print(float(10))\n",
    "print(int(3.33))\n",
    "# They can even be called on strings!\n",
    "print(int('807') + 1)"
   ]
  },
  {
   "cell_type": "markdown",
   "id": "5077c9a6",
   "metadata": {
    "papermill": {
     "duration": 0.00858,
     "end_time": "2023-10-16T08:49:21.159310",
     "exception": false,
     "start_time": "2023-10-16T08:49:21.150730",
     "status": "completed"
    },
    "tags": []
   },
   "source": [
    "# Your Turn\n",
    "\n",
    "Now is your chance. Try your **[first Python programming exercise](https://www.kaggle.com/kernels/fork/1275163)**!"
   ]
  },
  {
   "cell_type": "markdown",
   "id": "34a92bf5",
   "metadata": {
    "papermill": {
     "duration": 0.00855,
     "end_time": "2023-10-16T08:49:21.176769",
     "exception": false,
     "start_time": "2023-10-16T08:49:21.168219",
     "status": "completed"
    },
    "tags": []
   },
   "source": [
    "---\n",
    "\n",
    "\n",
    "\n",
    "\n",
    "*Have questions or comments? Visit the [course discussion forum](https://www.kaggle.com/learn/python/discussion) to chat with other learners.*"
   ]
  }
 ],
 "metadata": {
  "kernelspec": {
   "display_name": "Python 3",
   "language": "python",
   "name": "python3"
  },
  "language_info": {
   "codemirror_mode": {
    "name": "ipython",
    "version": 3
   },
   "file_extension": ".py",
   "mimetype": "text/x-python",
   "name": "python",
   "nbconvert_exporter": "python",
   "pygments_lexer": "ipython3",
   "version": "3.10.12"
  },
  "papermill": {
   "default_parameters": {},
   "duration": 5.260709,
   "end_time": "2023-10-16T08:49:21.708498",
   "environment_variables": {},
   "exception": null,
   "input_path": "__notebook__.ipynb",
   "output_path": "__notebook__.ipynb",
   "parameters": {},
   "start_time": "2023-10-16T08:49:16.447789",
   "version": "2.4.0"
  }
 },
 "nbformat": 4,
 "nbformat_minor": 5
}
