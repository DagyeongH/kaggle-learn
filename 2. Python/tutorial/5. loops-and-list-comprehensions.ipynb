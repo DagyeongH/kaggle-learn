{
 "cells": [
  {
   "cell_type": "markdown",
   "id": "ed9d14bc",
   "metadata": {
    "papermill": {
     "duration": 0.005946,
     "end_time": "2023-10-20T07:21:33.518045",
     "exception": false,
     "start_time": "2023-10-20T07:21:33.512099",
     "status": "completed"
    },
    "tags": []
   },
   "source": [
    "# Loops\n",
    "\n",
    "Loops are a way to repeatedly execute some code. Here's an example:"
   ]
  },
  {
   "cell_type": "code",
   "execution_count": 1,
   "id": "58ac6652",
   "metadata": {
    "execution": {
     "iopub.execute_input": "2023-10-20T07:21:33.532562Z",
     "iopub.status.busy": "2023-10-20T07:21:33.531883Z",
     "iopub.status.idle": "2023-10-20T07:21:33.543223Z",
     "shell.execute_reply": "2023-10-20T07:21:33.542436Z"
    },
    "papermill": {
     "duration": 0.020903,
     "end_time": "2023-10-20T07:21:33.545111",
     "exception": false,
     "start_time": "2023-10-20T07:21:33.524208",
     "status": "completed"
    },
    "tags": []
   },
   "outputs": [
    {
     "name": "stdout",
     "output_type": "stream",
     "text": [
      "Mercury Venus Earth Mars Jupiter Saturn Uranus Neptune "
     ]
    }
   ],
   "source": [
    "planets = ['Mercury', 'Venus', 'Earth', 'Mars', 'Jupiter', 'Saturn', 'Uranus', 'Neptune']\n",
    "for planet in planets:\n",
    "    print(planet, end=' ') # print all on same line"
   ]
  },
  {
   "cell_type": "markdown",
   "id": "bb7d7b67",
   "metadata": {
    "papermill": {
     "duration": 0.006377,
     "end_time": "2023-10-20T07:21:33.557309",
     "exception": false,
     "start_time": "2023-10-20T07:21:33.550932",
     "status": "completed"
    },
    "tags": []
   },
   "source": [
    "The ``for`` loop specifies \n",
    "- the variable name to use (in this case, `planet`)\n",
    "- the set of values to loop over (in this case, `planets`)\n",
    "\n",
    "You use the word \"``in``\" to link them together.\n",
    "\n",
    "The object to the right of the \"``in``\" can be any object that supports iteration. Basically, if it can be thought of as a group of things, you can probably loop over it. In addition to lists, we can iterate over the elements of a tuple:"
   ]
  },
  {
   "cell_type": "code",
   "execution_count": 2,
   "id": "0259d8c4",
   "metadata": {
    "execution": {
     "iopub.execute_input": "2023-10-20T07:21:33.572424Z",
     "iopub.status.busy": "2023-10-20T07:21:33.571739Z",
     "iopub.status.idle": "2023-10-20T07:21:33.581859Z",
     "shell.execute_reply": "2023-10-20T07:21:33.580124Z"
    },
    "papermill": {
     "duration": 0.020652,
     "end_time": "2023-10-20T07:21:33.584971",
     "exception": false,
     "start_time": "2023-10-20T07:21:33.564319",
     "status": "completed"
    },
    "tags": []
   },
   "outputs": [
    {
     "data": {
      "text/plain": [
       "360"
      ]
     },
     "execution_count": 2,
     "metadata": {},
     "output_type": "execute_result"
    }
   ],
   "source": [
    "multiplicands = (2, 2, 2, 3, 3, 5)\n",
    "product = 1\n",
    "for mult in multiplicands:\n",
    "    product = product * mult\n",
    "product"
   ]
  },
  {
   "cell_type": "markdown",
   "id": "2d3948da",
   "metadata": {
    "papermill": {
     "duration": 0.006085,
     "end_time": "2023-10-20T07:21:33.596943",
     "exception": false,
     "start_time": "2023-10-20T07:21:33.590858",
     "status": "completed"
    },
    "tags": []
   },
   "source": [
    "You can even loop through each character in a string:"
   ]
  },
  {
   "cell_type": "code",
   "execution_count": 3,
   "id": "0a1d5f3b",
   "metadata": {
    "execution": {
     "iopub.execute_input": "2023-10-20T07:21:33.610710Z",
     "iopub.status.busy": "2023-10-20T07:21:33.610331Z",
     "iopub.status.idle": "2023-10-20T07:21:33.618154Z",
     "shell.execute_reply": "2023-10-20T07:21:33.616654Z"
    },
    "papermill": {
     "duration": 0.018293,
     "end_time": "2023-10-20T07:21:33.621065",
     "exception": false,
     "start_time": "2023-10-20T07:21:33.602772",
     "status": "completed"
    },
    "tags": []
   },
   "outputs": [
    {
     "name": "stdout",
     "output_type": "stream",
     "text": [
      "HELLO"
     ]
    }
   ],
   "source": [
    "s = 'steganograpHy is the practicE of conceaLing a file, message, image, or video within another fiLe, message, image, Or video.'\n",
    "msg = ''\n",
    "# print all the uppercase letters in s, one at a time\n",
    "for char in s:\n",
    "    if char.isupper():\n",
    "        print(char, end='')        "
   ]
  },
  {
   "cell_type": "markdown",
   "id": "b04e00d4",
   "metadata": {
    "papermill": {
     "duration": 0.006344,
     "end_time": "2023-10-20T07:21:33.633599",
     "exception": false,
     "start_time": "2023-10-20T07:21:33.627255",
     "status": "completed"
    },
    "tags": []
   },
   "source": [
    "### range()\n",
    "\n",
    "`range()` is a function that returns a sequence of numbers. It turns out to be very useful for writing loops.\n",
    "\n",
    "For example, if we want to repeat some action 5 times:"
   ]
  },
  {
   "cell_type": "code",
   "execution_count": 4,
   "id": "1a6c023d",
   "metadata": {
    "execution": {
     "iopub.execute_input": "2023-10-20T07:21:33.648328Z",
     "iopub.status.busy": "2023-10-20T07:21:33.647898Z",
     "iopub.status.idle": "2023-10-20T07:21:33.653807Z",
     "shell.execute_reply": "2023-10-20T07:21:33.652491Z"
    },
    "papermill": {
     "duration": 0.016058,
     "end_time": "2023-10-20T07:21:33.656308",
     "exception": false,
     "start_time": "2023-10-20T07:21:33.640250",
     "status": "completed"
    },
    "tags": []
   },
   "outputs": [
    {
     "name": "stdout",
     "output_type": "stream",
     "text": [
      "Doing important work. i = 0\n",
      "Doing important work. i = 1\n",
      "Doing important work. i = 2\n",
      "Doing important work. i = 3\n",
      "Doing important work. i = 4\n"
     ]
    }
   ],
   "source": [
    "for i in range(5):\n",
    "    print(\"Doing important work. i =\", i)"
   ]
  },
  {
   "cell_type": "markdown",
   "id": "bf89a107",
   "metadata": {
    "papermill": {
     "duration": 0.005549,
     "end_time": "2023-10-20T07:21:33.668139",
     "exception": false,
     "start_time": "2023-10-20T07:21:33.662590",
     "status": "completed"
    },
    "tags": []
   },
   "source": [
    "## ``while`` loops\n",
    "The other type of loop in Python is a ``while`` loop, which iterates until some condition is met:"
   ]
  },
  {
   "cell_type": "code",
   "execution_count": 5,
   "id": "cb5ee59c",
   "metadata": {
    "execution": {
     "iopub.execute_input": "2023-10-20T07:21:33.682771Z",
     "iopub.status.busy": "2023-10-20T07:21:33.682328Z",
     "iopub.status.idle": "2023-10-20T07:21:33.688002Z",
     "shell.execute_reply": "2023-10-20T07:21:33.686904Z"
    },
    "papermill": {
     "duration": 0.01603,
     "end_time": "2023-10-20T07:21:33.690449",
     "exception": false,
     "start_time": "2023-10-20T07:21:33.674419",
     "status": "completed"
    },
    "tags": []
   },
   "outputs": [
    {
     "name": "stdout",
     "output_type": "stream",
     "text": [
      "0 1 2 3 4 5 6 7 8 9 "
     ]
    }
   ],
   "source": [
    "i = 0\n",
    "while i < 10:\n",
    "    print(i, end=' ')\n",
    "    i += 1 # increase the value of i by 1"
   ]
  },
  {
   "cell_type": "markdown",
   "id": "30d25642",
   "metadata": {
    "papermill": {
     "duration": 0.005679,
     "end_time": "2023-10-20T07:21:33.702436",
     "exception": false,
     "start_time": "2023-10-20T07:21:33.696757",
     "status": "completed"
    },
    "tags": []
   },
   "source": [
    "The argument of the ``while`` loop is evaluated as a boolean statement, and the loop is executed until the statement evaluates to False."
   ]
  },
  {
   "cell_type": "markdown",
   "id": "5ace6fa2",
   "metadata": {
    "papermill": {
     "duration": 0.005794,
     "end_time": "2023-10-20T07:21:33.713998",
     "exception": false,
     "start_time": "2023-10-20T07:21:33.708204",
     "status": "completed"
    },
    "tags": []
   },
   "source": [
    "# List comprehensions\n",
    "\n",
    "List comprehensions are one of Python's most beloved and unique features. The easiest way to understand them is probably to just look at a few examples:"
   ]
  },
  {
   "cell_type": "code",
   "execution_count": 6,
   "id": "223190c0",
   "metadata": {
    "execution": {
     "iopub.execute_input": "2023-10-20T07:21:33.727266Z",
     "iopub.status.busy": "2023-10-20T07:21:33.726889Z",
     "iopub.status.idle": "2023-10-20T07:21:33.734513Z",
     "shell.execute_reply": "2023-10-20T07:21:33.733358Z"
    },
    "papermill": {
     "duration": 0.016876,
     "end_time": "2023-10-20T07:21:33.736711",
     "exception": false,
     "start_time": "2023-10-20T07:21:33.719835",
     "status": "completed"
    },
    "tags": []
   },
   "outputs": [
    {
     "data": {
      "text/plain": [
       "[0, 1, 4, 9, 16, 25, 36, 49, 64, 81]"
      ]
     },
     "execution_count": 6,
     "metadata": {},
     "output_type": "execute_result"
    }
   ],
   "source": [
    "squares = [n**2 for n in range(10)]\n",
    "squares"
   ]
  },
  {
   "cell_type": "markdown",
   "id": "3bf742ca",
   "metadata": {
    "papermill": {
     "duration": 0.005697,
     "end_time": "2023-10-20T07:21:33.748653",
     "exception": false,
     "start_time": "2023-10-20T07:21:33.742956",
     "status": "completed"
    },
    "tags": []
   },
   "source": [
    "Here's how we would do the same thing without a list comprehension:"
   ]
  },
  {
   "cell_type": "code",
   "execution_count": 7,
   "id": "3515a022",
   "metadata": {
    "execution": {
     "iopub.execute_input": "2023-10-20T07:21:33.762912Z",
     "iopub.status.busy": "2023-10-20T07:21:33.762547Z",
     "iopub.status.idle": "2023-10-20T07:21:33.769693Z",
     "shell.execute_reply": "2023-10-20T07:21:33.768528Z"
    },
    "papermill": {
     "duration": 0.016952,
     "end_time": "2023-10-20T07:21:33.771610",
     "exception": false,
     "start_time": "2023-10-20T07:21:33.754658",
     "status": "completed"
    },
    "tags": []
   },
   "outputs": [
    {
     "data": {
      "text/plain": [
       "[0, 1, 4, 9, 16, 25, 36, 49, 64, 81]"
      ]
     },
     "execution_count": 7,
     "metadata": {},
     "output_type": "execute_result"
    }
   ],
   "source": [
    "squares = []\n",
    "for n in range(10):\n",
    "    squares.append(n**2)\n",
    "squares"
   ]
  },
  {
   "cell_type": "markdown",
   "id": "70fa5b70",
   "metadata": {
    "papermill": {
     "duration": 0.005813,
     "end_time": "2023-10-20T07:21:33.783449",
     "exception": false,
     "start_time": "2023-10-20T07:21:33.777636",
     "status": "completed"
    },
    "tags": []
   },
   "source": [
    "We can also add an `if` condition:"
   ]
  },
  {
   "cell_type": "code",
   "execution_count": 8,
   "id": "2718a8bd",
   "metadata": {
    "execution": {
     "iopub.execute_input": "2023-10-20T07:21:33.797559Z",
     "iopub.status.busy": "2023-10-20T07:21:33.797122Z",
     "iopub.status.idle": "2023-10-20T07:21:33.804515Z",
     "shell.execute_reply": "2023-10-20T07:21:33.803334Z"
    },
    "papermill": {
     "duration": 0.017567,
     "end_time": "2023-10-20T07:21:33.806920",
     "exception": false,
     "start_time": "2023-10-20T07:21:33.789353",
     "status": "completed"
    },
    "tags": []
   },
   "outputs": [
    {
     "data": {
      "text/plain": [
       "['Venus', 'Earth', 'Mars']"
      ]
     },
     "execution_count": 8,
     "metadata": {},
     "output_type": "execute_result"
    }
   ],
   "source": [
    "short_planets = [planet for planet in planets if len(planet) < 6]\n",
    "short_planets"
   ]
  },
  {
   "cell_type": "markdown",
   "id": "2718f5e3",
   "metadata": {
    "papermill": {
     "duration": 0.00626,
     "end_time": "2023-10-20T07:21:33.820027",
     "exception": false,
     "start_time": "2023-10-20T07:21:33.813767",
     "status": "completed"
    },
    "tags": []
   },
   "source": [
    "(If you're familiar with SQL, you might think of this as being like a \"WHERE\" clause)\n",
    "\n",
    "Here's an example of filtering with an `if` condition *and* applying some transformation to the loop variable:"
   ]
  },
  {
   "cell_type": "code",
   "execution_count": 9,
   "id": "97aee6e6",
   "metadata": {
    "execution": {
     "iopub.execute_input": "2023-10-20T07:21:33.834748Z",
     "iopub.status.busy": "2023-10-20T07:21:33.834317Z",
     "iopub.status.idle": "2023-10-20T07:21:33.842362Z",
     "shell.execute_reply": "2023-10-20T07:21:33.841273Z"
    },
    "papermill": {
     "duration": 0.018138,
     "end_time": "2023-10-20T07:21:33.844336",
     "exception": false,
     "start_time": "2023-10-20T07:21:33.826198",
     "status": "completed"
    },
    "tags": []
   },
   "outputs": [
    {
     "data": {
      "text/plain": [
       "['VENUS!', 'EARTH!', 'MARS!']"
      ]
     },
     "execution_count": 9,
     "metadata": {},
     "output_type": "execute_result"
    }
   ],
   "source": [
    "# str.upper() returns an all-caps version of a string\n",
    "loud_short_planets = [planet.upper() + '!' for planet in planets if len(planet) < 6]\n",
    "loud_short_planets"
   ]
  },
  {
   "cell_type": "markdown",
   "id": "99d09bec",
   "metadata": {
    "papermill": {
     "duration": 0.006691,
     "end_time": "2023-10-20T07:21:33.857509",
     "exception": false,
     "start_time": "2023-10-20T07:21:33.850818",
     "status": "completed"
    },
    "tags": []
   },
   "source": [
    "People usually write these on a single line, but you might find the structure clearer when it's split up over 3 lines:"
   ]
  },
  {
   "cell_type": "code",
   "execution_count": 10,
   "id": "bd12a328",
   "metadata": {
    "execution": {
     "iopub.execute_input": "2023-10-20T07:21:33.872555Z",
     "iopub.status.busy": "2023-10-20T07:21:33.872104Z",
     "iopub.status.idle": "2023-10-20T07:21:33.879332Z",
     "shell.execute_reply": "2023-10-20T07:21:33.878268Z"
    },
    "papermill": {
     "duration": 0.017442,
     "end_time": "2023-10-20T07:21:33.881749",
     "exception": false,
     "start_time": "2023-10-20T07:21:33.864307",
     "status": "completed"
    },
    "tags": []
   },
   "outputs": [
    {
     "data": {
      "text/plain": [
       "['VENUS!', 'EARTH!', 'MARS!']"
      ]
     },
     "execution_count": 10,
     "metadata": {},
     "output_type": "execute_result"
    }
   ],
   "source": [
    "[\n",
    "    planet.upper() + '!' \n",
    "    for planet in planets \n",
    "    if len(planet) < 6\n",
    "]"
   ]
  },
  {
   "cell_type": "markdown",
   "id": "c160c48f",
   "metadata": {
    "papermill": {
     "duration": 0.006256,
     "end_time": "2023-10-20T07:21:33.894347",
     "exception": false,
     "start_time": "2023-10-20T07:21:33.888091",
     "status": "completed"
    },
    "tags": []
   },
   "source": [
    "(Continuing the SQL analogy, you could think of these three lines as SELECT, FROM, and WHERE)\n",
    "\n",
    "The expression on the left doesn't technically have to involve the loop variable (though it'd be pretty unusual for it not to). What do you think the expression below will evaluate to? Press the 'output' button to check. "
   ]
  },
  {
   "cell_type": "code",
   "execution_count": 11,
   "id": "583eb88c",
   "metadata": {
    "_kg_hide-output": true,
    "execution": {
     "iopub.execute_input": "2023-10-20T07:21:33.912198Z",
     "iopub.status.busy": "2023-10-20T07:21:33.910870Z",
     "iopub.status.idle": "2023-10-20T07:21:33.919526Z",
     "shell.execute_reply": "2023-10-20T07:21:33.918238Z"
    },
    "papermill": {
     "duration": 0.020805,
     "end_time": "2023-10-20T07:21:33.922219",
     "exception": false,
     "start_time": "2023-10-20T07:21:33.901414",
     "status": "completed"
    },
    "tags": []
   },
   "outputs": [
    {
     "data": {
      "text/plain": [
       "[32, 32, 32, 32, 32, 32, 32, 32]"
      ]
     },
     "execution_count": 11,
     "metadata": {},
     "output_type": "execute_result"
    }
   ],
   "source": [
    "[32 for planet in planets]"
   ]
  },
  {
   "cell_type": "markdown",
   "id": "9b515449",
   "metadata": {
    "papermill": {
     "duration": 0.006162,
     "end_time": "2023-10-20T07:21:33.935025",
     "exception": false,
     "start_time": "2023-10-20T07:21:33.928863",
     "status": "completed"
    },
    "tags": []
   },
   "source": [
    "List comprehensions combined with functions like `min`, `max`, and `sum` can lead to impressive one-line solutions for problems that would otherwise require several lines of code. \n",
    "\n",
    "For example, compare the following two cells of code that do the same thing.\n"
   ]
  },
  {
   "cell_type": "code",
   "execution_count": 12,
   "id": "e3a55cb2",
   "metadata": {
    "execution": {
     "iopub.execute_input": "2023-10-20T07:21:33.950439Z",
     "iopub.status.busy": "2023-10-20T07:21:33.950019Z",
     "iopub.status.idle": "2023-10-20T07:21:33.955531Z",
     "shell.execute_reply": "2023-10-20T07:21:33.954565Z"
    },
    "papermill": {
     "duration": 0.0162,
     "end_time": "2023-10-20T07:21:33.957977",
     "exception": false,
     "start_time": "2023-10-20T07:21:33.941777",
     "status": "completed"
    },
    "tags": []
   },
   "outputs": [],
   "source": [
    "def count_negatives(nums):\n",
    "    \"\"\"Return the number of negative numbers in the given list.\n",
    "    \n",
    "    >>> count_negatives([5, -1, -2, 0, 3])\n",
    "    2\n",
    "    \"\"\"\n",
    "    n_negative = 0\n",
    "    for num in nums:\n",
    "        if num < 0:\n",
    "            n_negative = n_negative + 1\n",
    "    return n_negative"
   ]
  },
  {
   "cell_type": "markdown",
   "id": "9191f963",
   "metadata": {
    "papermill": {
     "duration": 0.007114,
     "end_time": "2023-10-20T07:21:33.972467",
     "exception": false,
     "start_time": "2023-10-20T07:21:33.965353",
     "status": "completed"
    },
    "tags": []
   },
   "source": [
    "Here's a solution using a list comprehension:"
   ]
  },
  {
   "cell_type": "code",
   "execution_count": 13,
   "id": "35b6d411",
   "metadata": {
    "execution": {
     "iopub.execute_input": "2023-10-20T07:21:33.991070Z",
     "iopub.status.busy": "2023-10-20T07:21:33.990684Z",
     "iopub.status.idle": "2023-10-20T07:21:33.995089Z",
     "shell.execute_reply": "2023-10-20T07:21:33.994242Z"
    },
    "papermill": {
     "duration": 0.015715,
     "end_time": "2023-10-20T07:21:33.997404",
     "exception": false,
     "start_time": "2023-10-20T07:21:33.981689",
     "status": "completed"
    },
    "tags": []
   },
   "outputs": [],
   "source": [
    "def count_negatives(nums):\n",
    "    return len([num for num in nums if num < 0])"
   ]
  },
  {
   "cell_type": "markdown",
   "id": "03b6a8ae",
   "metadata": {
    "papermill": {
     "duration": 0.006948,
     "end_time": "2023-10-20T07:21:34.010980",
     "exception": false,
     "start_time": "2023-10-20T07:21:34.004032",
     "status": "completed"
    },
    "tags": []
   },
   "source": [
    "Much better, right?\n",
    "\n",
    "Well if all we care about is minimizing the length of our code, this third solution is better still!"
   ]
  },
  {
   "cell_type": "code",
   "execution_count": 14,
   "id": "36fadc42",
   "metadata": {
    "execution": {
     "iopub.execute_input": "2023-10-20T07:21:34.028401Z",
     "iopub.status.busy": "2023-10-20T07:21:34.027671Z",
     "iopub.status.idle": "2023-10-20T07:21:34.032835Z",
     "shell.execute_reply": "2023-10-20T07:21:34.031782Z"
    },
    "papermill": {
     "duration": 0.01587,
     "end_time": "2023-10-20T07:21:34.035225",
     "exception": false,
     "start_time": "2023-10-20T07:21:34.019355",
     "status": "completed"
    },
    "tags": []
   },
   "outputs": [],
   "source": [
    "def count_negatives(nums):\n",
    "    # Reminder: in the \"booleans and conditionals\" exercises, we learned about a quirk of \n",
    "    # Python where it calculates something like True + True + False + True to be equal to 3.\n",
    "    return sum([num < 0 for num in nums])"
   ]
  },
  {
   "cell_type": "markdown",
   "id": "00736558",
   "metadata": {
    "papermill": {
     "duration": 0.006142,
     "end_time": "2023-10-20T07:21:34.048894",
     "exception": false,
     "start_time": "2023-10-20T07:21:34.042752",
     "status": "completed"
    },
    "tags": []
   },
   "source": [
    "Which of these solutions is the \"best\" is entirely subjective. Solving a problem with less code is always nice, but it's worth keeping in mind the following lines from [The Zen of Python](https://en.wikipedia.org/wiki/Zen_of_Python):\n",
    "\n",
    "> Readability counts.  \n",
    "> Explicit is better than implicit.\n",
    "\n",
    "So, use these tools to make compact readable programs. But when you have to choose, favor code that is easy for others to understand."
   ]
  },
  {
   "cell_type": "markdown",
   "id": "6169277e",
   "metadata": {
    "papermill": {
     "duration": 0.00643,
     "end_time": "2023-10-20T07:21:34.061642",
     "exception": false,
     "start_time": "2023-10-20T07:21:34.055212",
     "status": "completed"
    },
    "tags": []
   },
   "source": [
    "# Your Turn\n",
    "\n",
    "You know what's next -- we have some **[fun coding challenges](https://www.kaggle.com/kernels/fork/1275177)** for you! This next set of coding problems is shorter, so try it now."
   ]
  },
  {
   "cell_type": "markdown",
   "id": "13395e89",
   "metadata": {
    "papermill": {
     "duration": 0.007085,
     "end_time": "2023-10-20T07:21:34.075123",
     "exception": false,
     "start_time": "2023-10-20T07:21:34.068038",
     "status": "completed"
    },
    "tags": []
   },
   "source": [
    "---\n",
    "\n",
    "\n",
    "\n",
    "\n",
    "*Have questions or comments? Visit the [course discussion forum](https://www.kaggle.com/learn/python/discussion) to chat with other learners.*"
   ]
  }
 ],
 "metadata": {
  "kernelspec": {
   "display_name": "Python 3",
   "language": "python",
   "name": "python3"
  },
  "language_info": {
   "codemirror_mode": {
    "name": "ipython",
    "version": 3
   },
   "file_extension": ".py",
   "mimetype": "text/x-python",
   "name": "python",
   "nbconvert_exporter": "python",
   "pygments_lexer": "ipython3",
   "version": "3.10.12"
  },
  "papermill": {
   "default_parameters": {},
   "duration": 4.52381,
   "end_time": "2023-10-20T07:21:34.502531",
   "environment_variables": {},
   "exception": null,
   "input_path": "__notebook__.ipynb",
   "output_path": "__notebook__.ipynb",
   "parameters": {},
   "start_time": "2023-10-20T07:21:29.978721",
   "version": "2.4.0"
  }
 },
 "nbformat": 4,
 "nbformat_minor": 5
}
