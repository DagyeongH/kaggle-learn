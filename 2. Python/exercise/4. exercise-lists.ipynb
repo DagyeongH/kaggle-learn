{
 "cells": [
  {
   "cell_type": "markdown",
   "id": "a4dcf969",
   "metadata": {
    "papermill": {
     "duration": 0.004411,
     "end_time": "2023-10-20T07:15:43.766061",
     "exception": false,
     "start_time": "2023-10-20T07:15:43.761650",
     "status": "completed"
    },
    "tags": []
   },
   "source": [
    "**This notebook is an exercise in the [Python](https://www.kaggle.com/learn/python) course.  You can reference the tutorial at [this link](https://www.kaggle.com/colinmorris/lists).**\n",
    "\n",
    "---\n"
   ]
  },
  {
   "cell_type": "markdown",
   "id": "98a9c961",
   "metadata": {
    "papermill": {
     "duration": 0.003819,
     "end_time": "2023-10-20T07:15:43.776223",
     "exception": false,
     "start_time": "2023-10-20T07:15:43.772404",
     "status": "completed"
    },
    "tags": []
   },
   "source": [
    "Things get more interesting with lists. You'll apply your new knowledge to solve the questions below. Remember to run the following cell first."
   ]
  },
  {
   "cell_type": "code",
   "execution_count": 1,
   "id": "579477d4",
   "metadata": {
    "execution": {
     "iopub.execute_input": "2023-10-20T07:15:43.787173Z",
     "iopub.status.busy": "2023-10-20T07:15:43.785889Z",
     "iopub.status.idle": "2023-10-20T07:15:44.237190Z",
     "shell.execute_reply": "2023-10-20T07:15:44.235867Z"
    },
    "papermill": {
     "duration": 0.459338,
     "end_time": "2023-10-20T07:15:44.239640",
     "exception": false,
     "start_time": "2023-10-20T07:15:43.780302",
     "status": "completed"
    },
    "tags": []
   },
   "outputs": [
    {
     "name": "stdout",
     "output_type": "stream",
     "text": [
      "Setup complete.\n"
     ]
    }
   ],
   "source": [
    "from learntools.core import binder; binder.bind(globals())\n",
    "from learntools.python.ex4 import *\n",
    "print('Setup complete.')"
   ]
  },
  {
   "cell_type": "markdown",
   "id": "60378f91",
   "metadata": {
    "papermill": {
     "duration": 0.004067,
     "end_time": "2023-10-20T07:15:44.248255",
     "exception": false,
     "start_time": "2023-10-20T07:15:44.244188",
     "status": "completed"
    },
    "tags": []
   },
   "source": [
    "# 1.\n",
    "\n",
    "Complete the function below according to its docstring."
   ]
  },
  {
   "cell_type": "code",
   "execution_count": 2,
   "id": "115c5ffc",
   "metadata": {
    "execution": {
     "iopub.execute_input": "2023-10-20T07:15:44.260353Z",
     "iopub.status.busy": "2023-10-20T07:15:44.259736Z",
     "iopub.status.idle": "2023-10-20T07:15:44.270722Z",
     "shell.execute_reply": "2023-10-20T07:15:44.269407Z"
    },
    "papermill": {
     "duration": 0.020354,
     "end_time": "2023-10-20T07:15:44.273394",
     "exception": false,
     "start_time": "2023-10-20T07:15:44.253040",
     "status": "completed"
    },
    "tags": []
   },
   "outputs": [
    {
     "data": {
      "application/javascript": [
       "parent.postMessage({\"jupyterEvent\": \"custom.exercise_interaction\", \"data\": {\"outcomeType\": 1, \"valueTowardsCompletion\": 0.2, \"interactionType\": 1, \"questionType\": 2, \"questionId\": \"1_SelectSecondItem\", \"learnToolsVersion\": \"0.3.4\", \"failureMessage\": \"\", \"exceptionClass\": \"\", \"trace\": \"\"}}, \"*\")"
      ],
      "text/plain": [
       "<IPython.core.display.Javascript object>"
      ]
     },
     "metadata": {},
     "output_type": "display_data"
    },
    {
     "data": {
      "text/markdown": [
       "<span style=\"color:#33cc33\">Correct</span>"
      ],
      "text/plain": [
       "Correct"
      ]
     },
     "metadata": {},
     "output_type": "display_data"
    }
   ],
   "source": [
    "def select_second(L):\n",
    "    \"\"\"Return the second element of the given list. If the list has no second\n",
    "    element, return None.\n",
    "    \"\"\"\n",
    "    return None if len(L) < 2 else L[1]\n",
    "\n",
    "# Check your answer\n",
    "q1.check()"
   ]
  },
  {
   "cell_type": "code",
   "execution_count": 3,
   "id": "ed29dc91",
   "metadata": {
    "execution": {
     "iopub.execute_input": "2023-10-20T07:15:44.284941Z",
     "iopub.status.busy": "2023-10-20T07:15:44.284562Z",
     "iopub.status.idle": "2023-10-20T07:15:44.289429Z",
     "shell.execute_reply": "2023-10-20T07:15:44.288071Z"
    },
    "papermill": {
     "duration": 0.014109,
     "end_time": "2023-10-20T07:15:44.292491",
     "exception": false,
     "start_time": "2023-10-20T07:15:44.278382",
     "status": "completed"
    },
    "tags": []
   },
   "outputs": [],
   "source": [
    "# q1.hint()\n",
    "# q1.solution()"
   ]
  },
  {
   "cell_type": "markdown",
   "id": "6a76c55c",
   "metadata": {
    "papermill": {
     "duration": 0.004258,
     "end_time": "2023-10-20T07:15:44.301878",
     "exception": false,
     "start_time": "2023-10-20T07:15:44.297620",
     "status": "completed"
    },
    "tags": []
   },
   "source": [
    "# 2.\n",
    "\n",
    "You are analyzing sports teams.  Members of each team are stored in a list. The Coach is the first name in the list, the captain is the second name in the list, and other players are listed after that. \n",
    "These lists are stored in another list, which starts with the best team and proceeds through the list to the worst team last.  Complete the function below to select the **captain** of the worst team."
   ]
  },
  {
   "cell_type": "code",
   "execution_count": 4,
   "id": "454053ac",
   "metadata": {
    "execution": {
     "iopub.execute_input": "2023-10-20T07:15:44.313018Z",
     "iopub.status.busy": "2023-10-20T07:15:44.312356Z",
     "iopub.status.idle": "2023-10-20T07:15:44.320762Z",
     "shell.execute_reply": "2023-10-20T07:15:44.319631Z"
    },
    "papermill": {
     "duration": 0.016489,
     "end_time": "2023-10-20T07:15:44.322935",
     "exception": false,
     "start_time": "2023-10-20T07:15:44.306446",
     "status": "completed"
    },
    "tags": []
   },
   "outputs": [
    {
     "data": {
      "application/javascript": [
       "parent.postMessage({\"jupyterEvent\": \"custom.exercise_interaction\", \"data\": {\"outcomeType\": 1, \"valueTowardsCompletion\": 0.2, \"interactionType\": 1, \"questionType\": 2, \"questionId\": \"2_LosingTeamCaptain\", \"learnToolsVersion\": \"0.3.4\", \"failureMessage\": \"\", \"exceptionClass\": \"\", \"trace\": \"\"}}, \"*\")"
      ],
      "text/plain": [
       "<IPython.core.display.Javascript object>"
      ]
     },
     "metadata": {},
     "output_type": "display_data"
    },
    {
     "data": {
      "text/markdown": [
       "<span style=\"color:#33cc33\">Correct</span>"
      ],
      "text/plain": [
       "Correct"
      ]
     },
     "metadata": {},
     "output_type": "display_data"
    }
   ],
   "source": [
    "def losing_team_captain(teams):\n",
    "    \"\"\"Given a list of teams, where each team is a list of names, return the 2nd player (captain)\n",
    "    from the last listed team\n",
    "    \"\"\"\n",
    "    return teams[-1][1]\n",
    "\n",
    "# Check your answer\n",
    "q2.check()"
   ]
  },
  {
   "cell_type": "code",
   "execution_count": 5,
   "id": "35d79bba",
   "metadata": {
    "execution": {
     "iopub.execute_input": "2023-10-20T07:15:44.334402Z",
     "iopub.status.busy": "2023-10-20T07:15:44.333957Z",
     "iopub.status.idle": "2023-10-20T07:15:44.338279Z",
     "shell.execute_reply": "2023-10-20T07:15:44.337181Z"
    },
    "papermill": {
     "duration": 0.012649,
     "end_time": "2023-10-20T07:15:44.340459",
     "exception": false,
     "start_time": "2023-10-20T07:15:44.327810",
     "status": "completed"
    },
    "tags": []
   },
   "outputs": [],
   "source": [
    "#q2.hint()\n",
    "#q2.solution()"
   ]
  },
  {
   "cell_type": "markdown",
   "id": "5aed73f4",
   "metadata": {
    "papermill": {
     "duration": 0.004492,
     "end_time": "2023-10-20T07:15:44.349805",
     "exception": false,
     "start_time": "2023-10-20T07:15:44.345313",
     "status": "completed"
    },
    "tags": []
   },
   "source": [
    "# 3.\n",
    "\n",
    "The next iteration of Mario Kart will feature an extra-infuriating new item, the *Purple Shell*. When used, it warps the last place racer into first place and the first place racer into last place. Complete the function below to implement the Purple Shell's effect."
   ]
  },
  {
   "cell_type": "code",
   "execution_count": 6,
   "id": "ff6b563f",
   "metadata": {
    "execution": {
     "iopub.execute_input": "2023-10-20T07:15:44.361080Z",
     "iopub.status.busy": "2023-10-20T07:15:44.360686Z",
     "iopub.status.idle": "2023-10-20T07:15:44.371622Z",
     "shell.execute_reply": "2023-10-20T07:15:44.370292Z"
    },
    "papermill": {
     "duration": 0.019321,
     "end_time": "2023-10-20T07:15:44.373938",
     "exception": false,
     "start_time": "2023-10-20T07:15:44.354617",
     "status": "completed"
    },
    "tags": []
   },
   "outputs": [
    {
     "data": {
      "application/javascript": [
       "parent.postMessage({\"jupyterEvent\": \"custom.exercise_interaction\", \"data\": {\"outcomeType\": 1, \"valueTowardsCompletion\": 0.2, \"interactionType\": 1, \"questionType\": 2, \"questionId\": \"3_PurpleShell\", \"learnToolsVersion\": \"0.3.4\", \"failureMessage\": \"\", \"exceptionClass\": \"\", \"trace\": \"\"}}, \"*\")"
      ],
      "text/plain": [
       "<IPython.core.display.Javascript object>"
      ]
     },
     "metadata": {},
     "output_type": "display_data"
    },
    {
     "data": {
      "text/markdown": [
       "<span style=\"color:#33cc33\">Correct</span>"
      ],
      "text/plain": [
       "Correct"
      ]
     },
     "metadata": {},
     "output_type": "display_data"
    }
   ],
   "source": [
    "def purple_shell(racers):\n",
    "    \"\"\"Given a list of racers, set the first place racer (at the front of the list) to last\n",
    "    place and vice versa.\n",
    "    \n",
    "    >>> r = [\"Mario\", \"Bowser\", \"Luigi\"]\n",
    "    >>> purple_shell(r)\n",
    "    >>> r\n",
    "    [\"Luigi\", \"Bowser\", \"Mario\"]\n",
    "    \"\"\"\n",
    "    racers[0], racers[-1] = racers[-1], racers[0]\n",
    "\n",
    "# Check your answer\n",
    "q3.check()"
   ]
  },
  {
   "cell_type": "code",
   "execution_count": 7,
   "id": "4a1f6a46",
   "metadata": {
    "execution": {
     "iopub.execute_input": "2023-10-20T07:15:44.386185Z",
     "iopub.status.busy": "2023-10-20T07:15:44.385790Z",
     "iopub.status.idle": "2023-10-20T07:15:44.390533Z",
     "shell.execute_reply": "2023-10-20T07:15:44.389187Z"
    },
    "papermill": {
     "duration": 0.013245,
     "end_time": "2023-10-20T07:15:44.392753",
     "exception": false,
     "start_time": "2023-10-20T07:15:44.379508",
     "status": "completed"
    },
    "tags": []
   },
   "outputs": [],
   "source": [
    "#q3.hint()\n",
    "#q3.solution()"
   ]
  },
  {
   "cell_type": "markdown",
   "id": "d01e3ebd",
   "metadata": {
    "papermill": {
     "duration": 0.004763,
     "end_time": "2023-10-20T07:15:44.403501",
     "exception": false,
     "start_time": "2023-10-20T07:15:44.398738",
     "status": "completed"
    },
    "tags": []
   },
   "source": [
    "# 4.\n",
    "\n",
    "What are the lengths of the following lists? Fill in the variable `lengths` with your predictions. (Try to make a prediction for each list *without* just calling `len()` on it.)"
   ]
  },
  {
   "cell_type": "code",
   "execution_count": 8,
   "id": "d6a6329a",
   "metadata": {
    "execution": {
     "iopub.execute_input": "2023-10-20T07:15:44.417621Z",
     "iopub.status.busy": "2023-10-20T07:15:44.417207Z",
     "iopub.status.idle": "2023-10-20T07:15:44.426481Z",
     "shell.execute_reply": "2023-10-20T07:15:44.425342Z"
    },
    "papermill": {
     "duration": 0.019126,
     "end_time": "2023-10-20T07:15:44.428842",
     "exception": false,
     "start_time": "2023-10-20T07:15:44.409716",
     "status": "completed"
    },
    "tags": []
   },
   "outputs": [
    {
     "data": {
      "application/javascript": [
       "parent.postMessage({\"jupyterEvent\": \"custom.exercise_interaction\", \"data\": {\"outcomeType\": 1, \"valueTowardsCompletion\": 0.2, \"interactionType\": 1, \"questionType\": 1, \"questionId\": \"4_UnderstandLen\", \"learnToolsVersion\": \"0.3.4\", \"failureMessage\": \"\", \"exceptionClass\": \"\", \"trace\": \"\"}}, \"*\")"
      ],
      "text/plain": [
       "<IPython.core.display.Javascript object>"
      ]
     },
     "metadata": {},
     "output_type": "display_data"
    },
    {
     "data": {
      "text/markdown": [
       "<span style=\"color:#33cc33\">Correct:</span> \n",
       "\n",
       "\n",
       "- a: There are three items in this list. Nothing tricky yet.\n",
       "- b: The list `[2, 3]` counts as a single item. It has one item before it. So we have 2 items in the list\n",
       "- c: The empty list has 0 items\n",
       "- d: The expression is the same as the list `[2, 3]`, which has length 2."
      ],
      "text/plain": [
       "Correct: \n",
       "\n",
       "\n",
       "- a: There are three items in this list. Nothing tricky yet.\n",
       "- b: The list `[2, 3]` counts as a single item. It has one item before it. So we have 2 items in the list\n",
       "- c: The empty list has 0 items\n",
       "- d: The expression is the same as the list `[2, 3]`, which has length 2."
      ]
     },
     "metadata": {},
     "output_type": "display_data"
    }
   ],
   "source": [
    "a = [1, 2, 3]  # 3\n",
    "b = [1, [2, 3]]  # 2\n",
    "c = []  # 0\n",
    "d = [1, 2, 3][1:]  # 2\n",
    "\n",
    "# Put your predictions in the list below. Lengths should contain 4 numbers, the\n",
    "# first being the length of a, the second being the length of b and so on.\n",
    "lengths = [3, 2, 0, 2]\n",
    "\n",
    "# Check your answer\n",
    "q4.check()"
   ]
  },
  {
   "cell_type": "code",
   "execution_count": 9,
   "id": "e7ab2865",
   "metadata": {
    "execution": {
     "iopub.execute_input": "2023-10-20T07:15:44.442186Z",
     "iopub.status.busy": "2023-10-20T07:15:44.441792Z",
     "iopub.status.idle": "2023-10-20T07:15:44.447159Z",
     "shell.execute_reply": "2023-10-20T07:15:44.445689Z"
    },
    "papermill": {
     "duration": 0.015667,
     "end_time": "2023-10-20T07:15:44.450180",
     "exception": false,
     "start_time": "2023-10-20T07:15:44.434513",
     "status": "completed"
    },
    "tags": []
   },
   "outputs": [],
   "source": [
    "# line below provides some explanation\n",
    "#q4.solution()"
   ]
  },
  {
   "cell_type": "markdown",
   "id": "f9426562",
   "metadata": {
    "papermill": {
     "duration": 0.00489,
     "end_time": "2023-10-20T07:15:44.460668",
     "exception": false,
     "start_time": "2023-10-20T07:15:44.455778",
     "status": "completed"
    },
    "tags": []
   },
   "source": [
    "# 5. <span title=\"A bit spicy\" style=\"color: darkgreen \">🌶️</span>\n",
    "\n",
    "We're using lists to record people who attended our party and what order they arrived in. For example, the following list represents a party with 7 guests, in which Adela showed up first and Ford was the last to arrive:\n",
    "\n",
    "    party_attendees = ['Adela', 'Fleda', 'Owen', 'May', 'Mona', 'Gilbert', 'Ford']\n",
    "\n",
    "A guest is considered 'fashionably late' if they arrived after at least half of the party's guests. However, they must not be the very last guest (that's taking it too far). In the above example, Mona and Gilbert are the only guests who were fashionably late.\n",
    "\n",
    "Complete the function below which takes a list of party attendees as well as a person, and tells us whether that person is fashionably late."
   ]
  },
  {
   "cell_type": "code",
   "execution_count": 10,
   "id": "a31f8bd4",
   "metadata": {
    "execution": {
     "iopub.execute_input": "2023-10-20T07:15:44.473121Z",
     "iopub.status.busy": "2023-10-20T07:15:44.472689Z",
     "iopub.status.idle": "2023-10-20T07:15:44.482833Z",
     "shell.execute_reply": "2023-10-20T07:15:44.481383Z"
    },
    "papermill": {
     "duration": 0.01985,
     "end_time": "2023-10-20T07:15:44.485738",
     "exception": false,
     "start_time": "2023-10-20T07:15:44.465888",
     "status": "completed"
    },
    "tags": []
   },
   "outputs": [
    {
     "data": {
      "application/javascript": [
       "parent.postMessage({\"jupyterEvent\": \"custom.exercise_interaction\", \"data\": {\"outcomeType\": 1, \"valueTowardsCompletion\": 0.2, \"interactionType\": 1, \"questionType\": 2, \"questionId\": \"5_FashionablyLate\", \"learnToolsVersion\": \"0.3.4\", \"failureMessage\": \"\", \"exceptionClass\": \"\", \"trace\": \"\"}}, \"*\")"
      ],
      "text/plain": [
       "<IPython.core.display.Javascript object>"
      ]
     },
     "metadata": {},
     "output_type": "display_data"
    },
    {
     "data": {
      "text/markdown": [
       "<span style=\"color:#33cc33\">Correct</span>"
      ],
      "text/plain": [
       "Correct"
      ]
     },
     "metadata": {},
     "output_type": "display_data"
    }
   ],
   "source": [
    "def fashionably_late(arrivals, name):\n",
    "    \"\"\"Given an ordered list of arrivals to the party and a name, return whether the guest with that\n",
    "    name was fashionably late.\n",
    "    \"\"\"\n",
    "    return True if arrivals.index(name) >= round(len(arrivals)/2) and arrivals.index(name) != len(arrivals)-1 else False\n",
    "\n",
    "# Check your answer\n",
    "q5.check()"
   ]
  },
  {
   "cell_type": "code",
   "execution_count": 11,
   "id": "ffbba428",
   "metadata": {
    "execution": {
     "iopub.execute_input": "2023-10-20T07:15:44.498142Z",
     "iopub.status.busy": "2023-10-20T07:15:44.497776Z",
     "iopub.status.idle": "2023-10-20T07:15:44.502180Z",
     "shell.execute_reply": "2023-10-20T07:15:44.500879Z"
    },
    "papermill": {
     "duration": 0.015041,
     "end_time": "2023-10-20T07:15:44.506204",
     "exception": false,
     "start_time": "2023-10-20T07:15:44.491163",
     "status": "completed"
    },
    "tags": []
   },
   "outputs": [],
   "source": [
    "#q5.hint()\n",
    "#q5.solution()"
   ]
  },
  {
   "cell_type": "markdown",
   "id": "b0f603db",
   "metadata": {
    "papermill": {
     "duration": 0.00516,
     "end_time": "2023-10-20T07:15:44.517253",
     "exception": false,
     "start_time": "2023-10-20T07:15:44.512093",
     "status": "completed"
    },
    "tags": []
   },
   "source": [
    "# Keep Going\n",
    "\n",
    "That's it for lists and tuples! Now you have the baseline knowledge to **[learn about loops](https://www.kaggle.com/colinmorris/loops-and-list-comprehensions)**, which is where lists and tuples get really interesting. "
   ]
  },
  {
   "cell_type": "markdown",
   "id": "24d7d5d4",
   "metadata": {
    "papermill": {
     "duration": 0.005239,
     "end_time": "2023-10-20T07:15:44.528806",
     "exception": false,
     "start_time": "2023-10-20T07:15:44.523567",
     "status": "completed"
    },
    "tags": []
   },
   "source": [
    "---\n",
    "\n",
    "\n",
    "\n",
    "\n",
    "*Have questions or comments? Visit the [course discussion forum](https://www.kaggle.com/learn/python/discussion) to chat with other learners.*"
   ]
  }
 ],
 "metadata": {
  "kernelspec": {
   "display_name": "Python 3",
   "language": "python",
   "name": "python3"
  },
  "language_info": {
   "codemirror_mode": {
    "name": "ipython",
    "version": 3
   },
   "file_extension": ".py",
   "mimetype": "text/x-python",
   "name": "python",
   "nbconvert_exporter": "python",
   "pygments_lexer": "ipython3",
   "version": "3.10.12"
  },
  "papermill": {
   "default_parameters": {},
   "duration": 4.884408,
   "end_time": "2023-10-20T07:15:45.056728",
   "environment_variables": {},
   "exception": null,
   "input_path": "__notebook__.ipynb",
   "output_path": "__notebook__.ipynb",
   "parameters": {},
   "start_time": "2023-10-20T07:15:40.172320",
   "version": "2.4.0"
  }
 },
 "nbformat": 4,
 "nbformat_minor": 5
}
