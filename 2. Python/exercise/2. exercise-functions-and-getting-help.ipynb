{
 "cells": [
  {
   "cell_type": "markdown",
   "id": "ed035e0c",
   "metadata": {
    "papermill": {
     "duration": 0.004795,
     "end_time": "2023-10-17T01:17:16.947222",
     "exception": false,
     "start_time": "2023-10-17T01:17:16.942427",
     "status": "completed"
    },
    "tags": []
   },
   "source": [
    "**This notebook is an exercise in the [Python](https://www.kaggle.com/learn/python) course.  You can reference the tutorial at [this link](https://www.kaggle.com/colinmorris/functions-and-getting-help).**\n",
    "\n",
    "---\n"
   ]
  },
  {
   "cell_type": "markdown",
   "id": "f452383b",
   "metadata": {
    "papermill": {
     "duration": 0.003743,
     "end_time": "2023-10-17T01:17:16.956928",
     "exception": false,
     "start_time": "2023-10-17T01:17:16.953185",
     "status": "completed"
    },
    "tags": []
   },
   "source": [
    "Functions are powerful. Try writing some yourself.\n",
    "\n",
    "As before, don't forget to run the setup code below before jumping into question 1."
   ]
  },
  {
   "cell_type": "code",
   "execution_count": 1,
   "id": "8e335391",
   "metadata": {
    "_kg_hide-input": true,
    "_kg_hide-output": true,
    "execution": {
     "iopub.execute_input": "2023-10-17T01:17:16.966983Z",
     "iopub.status.busy": "2023-10-17T01:17:16.966380Z",
     "iopub.status.idle": "2023-10-17T01:17:17.415924Z",
     "shell.execute_reply": "2023-10-17T01:17:17.414738Z"
    },
    "papermill": {
     "duration": 0.457687,
     "end_time": "2023-10-17T01:17:17.418602",
     "exception": false,
     "start_time": "2023-10-17T01:17:16.960915",
     "status": "completed"
    },
    "tags": []
   },
   "outputs": [
    {
     "name": "stdout",
     "output_type": "stream",
     "text": [
      "Setup complete.\n"
     ]
    }
   ],
   "source": [
    "# SETUP. You don't need to worry for now about what this code does or how it works.\n",
    "from learntools.core import binder; binder.bind(globals())\n",
    "from learntools.python.ex2 import *\n",
    "print('Setup complete.')"
   ]
  },
  {
   "cell_type": "markdown",
   "id": "500b7982",
   "metadata": {
    "papermill": {
     "duration": 0.003771,
     "end_time": "2023-10-17T01:17:17.426633",
     "exception": false,
     "start_time": "2023-10-17T01:17:17.422862",
     "status": "completed"
    },
    "tags": []
   },
   "source": [
    "# 1.\n",
    "\n",
    "Complete the body of the following function according to its docstring.\n",
    "\n",
    "HINT: Python has a built-in function `round`."
   ]
  },
  {
   "cell_type": "code",
   "execution_count": 2,
   "id": "c58313d7",
   "metadata": {
    "execution": {
     "iopub.execute_input": "2023-10-17T01:17:17.436490Z",
     "iopub.status.busy": "2023-10-17T01:17:17.435955Z",
     "iopub.status.idle": "2023-10-17T01:17:17.444965Z",
     "shell.execute_reply": "2023-10-17T01:17:17.444341Z"
    },
    "papermill": {
     "duration": 0.016178,
     "end_time": "2023-10-17T01:17:17.446782",
     "exception": false,
     "start_time": "2023-10-17T01:17:17.430604",
     "status": "completed"
    },
    "tags": []
   },
   "outputs": [
    {
     "data": {
      "application/javascript": [
       "parent.postMessage({\"jupyterEvent\": \"custom.exercise_interaction\", \"data\": {\"outcomeType\": 1, \"valueTowardsCompletion\": 0.16666666666666666, \"interactionType\": 1, \"questionType\": 2, \"questionId\": \"1_RoundFunctionProblem\", \"learnToolsVersion\": \"0.3.4\", \"failureMessage\": \"\", \"exceptionClass\": \"\", \"trace\": \"\"}}, \"*\")"
      ],
      "text/plain": [
       "<IPython.core.display.Javascript object>"
      ]
     },
     "metadata": {},
     "output_type": "display_data"
    },
    {
     "data": {
      "text/markdown": [
       "<span style=\"color:#33cc33\">Correct</span>"
      ],
      "text/plain": [
       "Correct"
      ]
     },
     "metadata": {},
     "output_type": "display_data"
    }
   ],
   "source": [
    "def round_to_two_places(num):\n",
    "    \"\"\"Return the given number rounded to two decimal places. \n",
    "    \n",
    "    >>> round_to_two_places(3.14159)\n",
    "    3.14\n",
    "    \"\"\"\n",
    "    # Replace this body with your own code.\n",
    "    # (\"pass\" is a keyword that does literally nothing. We used it as a placeholder\n",
    "    # because after we begin a code block, Python requires at least one line of code)\n",
    "    return round(num, 2)\n",
    "\n",
    "# Check your answer\n",
    "q1.check()"
   ]
  },
  {
   "cell_type": "code",
   "execution_count": 3,
   "id": "85df7943",
   "metadata": {
    "execution": {
     "iopub.execute_input": "2023-10-17T01:17:17.457668Z",
     "iopub.status.busy": "2023-10-17T01:17:17.457012Z",
     "iopub.status.idle": "2023-10-17T01:17:17.460582Z",
     "shell.execute_reply": "2023-10-17T01:17:17.459873Z"
    },
    "papermill": {
     "duration": 0.011242,
     "end_time": "2023-10-17T01:17:17.462350",
     "exception": false,
     "start_time": "2023-10-17T01:17:17.451108",
     "status": "completed"
    },
    "tags": []
   },
   "outputs": [],
   "source": [
    "# Uncomment the following for a hint\n",
    "#q1.hint()\n",
    "# Or uncomment the following to peek at the solution\n",
    "#q1.solution()"
   ]
  },
  {
   "cell_type": "markdown",
   "id": "52d4ad17",
   "metadata": {
    "papermill": {
     "duration": 0.004138,
     "end_time": "2023-10-17T01:17:17.470806",
     "exception": false,
     "start_time": "2023-10-17T01:17:17.466668",
     "status": "completed"
    },
    "tags": []
   },
   "source": [
    "# 2.\n",
    "The help for `round` says that `ndigits` (the second argument) may be negative.\n",
    "What do you think will happen when it is? Try some examples in the following cell."
   ]
  },
  {
   "cell_type": "code",
   "execution_count": 4,
   "id": "b455a5ed",
   "metadata": {
    "execution": {
     "iopub.execute_input": "2023-10-17T01:17:17.481565Z",
     "iopub.status.busy": "2023-10-17T01:17:17.480717Z",
     "iopub.status.idle": "2023-10-17T01:17:17.487638Z",
     "shell.execute_reply": "2023-10-17T01:17:17.486660Z"
    },
    "papermill": {
     "duration": 0.014455,
     "end_time": "2023-10-17T01:17:17.489538",
     "exception": false,
     "start_time": "2023-10-17T01:17:17.475083",
     "status": "completed"
    },
    "tags": []
   },
   "outputs": [
    {
     "data": {
      "text/plain": [
       "1928000"
      ]
     },
     "execution_count": 4,
     "metadata": {},
     "output_type": "execute_result"
    }
   ],
   "source": [
    "# Put your test code here\n",
    "round(1928402, -3)  "
   ]
  },
  {
   "cell_type": "markdown",
   "id": "f380b1df",
   "metadata": {
    "papermill": {
     "duration": 0.004329,
     "end_time": "2023-10-17T01:17:17.498385",
     "exception": false,
     "start_time": "2023-10-17T01:17:17.494056",
     "status": "completed"
    },
    "tags": []
   },
   "source": [
    "Can you think of a case where this would be useful?  Once you're ready, run the code cell below to see the answer and to receive credit for completing the problem."
   ]
  },
  {
   "cell_type": "code",
   "execution_count": 5,
   "id": "3d7efd6f",
   "metadata": {
    "execution": {
     "iopub.execute_input": "2023-10-17T01:17:17.509348Z",
     "iopub.status.busy": "2023-10-17T01:17:17.508597Z",
     "iopub.status.idle": "2023-10-17T01:17:17.515366Z",
     "shell.execute_reply": "2023-10-17T01:17:17.514614Z"
    },
    "papermill": {
     "duration": 0.014298,
     "end_time": "2023-10-17T01:17:17.517176",
     "exception": false,
     "start_time": "2023-10-17T01:17:17.502878",
     "status": "completed"
    },
    "tags": []
   },
   "outputs": [
    {
     "data": {
      "application/javascript": [
       "parent.postMessage({\"jupyterEvent\": \"custom.exercise_interaction\", \"data\": {\"interactionType\": 3, \"questionType\": 4, \"questionId\": \"2_RoundNdigitsProblem\", \"learnToolsVersion\": \"0.3.4\", \"valueTowardsCompletion\": 0.0, \"failureMessage\": \"\", \"exceptionClass\": \"\", \"trace\": \"\", \"outcomeType\": 4}}, \"*\")"
      ],
      "text/plain": [
       "<IPython.core.display.Javascript object>"
      ]
     },
     "metadata": {},
     "output_type": "display_data"
    },
    {
     "data": {
      "text/markdown": [
       "<span style=\"color:#33cc99\">Solution:</span> As you've seen, `ndigits=-1` rounds to the nearest 10, `ndigits=-2` rounds to the nearest 100 and so on. Where might this be useful? Suppose we're dealing with large numbers:\n",
       "\n",
       "> The area of Finland is 338,424 km²  \n",
       "> The area of Greenland is 2,166,086 km²\n",
       "\n",
       "We probably don't care whether it's really 338,424, or 338,425, or 338,177. All those digits of accuracy are just distracting. We can chop them off by calling `round()` with `ndigits=-3`:\n",
       "\n",
       "> The area of Finland is 338,000 km²  \n",
       "> The area of Greenland is 2,166,000 km²\n",
       "\n",
       "(We'll talk about how we would get the commas later when we talk about string formatting :))\n"
      ],
      "text/plain": [
       "Solution: As you've seen, `ndigits=-1` rounds to the nearest 10, `ndigits=-2` rounds to the nearest 100 and so on. Where might this be useful? Suppose we're dealing with large numbers:\n",
       "\n",
       "> The area of Finland is 338,424 km²  \n",
       "> The area of Greenland is 2,166,086 km²\n",
       "\n",
       "We probably don't care whether it's really 338,424, or 338,425, or 338,177. All those digits of accuracy are just distracting. We can chop them off by calling `round()` with `ndigits=-3`:\n",
       "\n",
       "> The area of Finland is 338,000 km²  \n",
       "> The area of Greenland is 2,166,000 km²\n",
       "\n",
       "(We'll talk about how we would get the commas later when we talk about string formatting :))"
      ]
     },
     "metadata": {},
     "output_type": "display_data"
    }
   ],
   "source": [
    "# Check your answer (Run this code cell to receive credit!)\n",
    "round(1928402, -3)  \n",
    "q2.solution()"
   ]
  },
  {
   "cell_type": "markdown",
   "id": "6c9765b7",
   "metadata": {
    "papermill": {
     "duration": 0.004829,
     "end_time": "2023-10-17T01:17:17.526886",
     "exception": false,
     "start_time": "2023-10-17T01:17:17.522057",
     "status": "completed"
    },
    "tags": []
   },
   "source": [
    "# 3.\n",
    "\n",
    "In the previous exercise, the candy-sharing friends Alice, Bob and Carol tried to split candies evenly. For the sake of their friendship, any candies left over would be smashed. For example, if they collectively bring home 91 candies, they'll take 30 each and smash 1.\n",
    "\n",
    "Below is a simple function that will calculate the number of candies to smash for *any* number of total candies.\n",
    "\n",
    "Modify it so that it optionally takes a second argument representing the number of friends the candies are being split between. If no second argument is provided, it should assume 3 friends, as before.\n",
    "\n",
    "Update the docstring to reflect this new behaviour."
   ]
  },
  {
   "cell_type": "code",
   "execution_count": 6,
   "id": "ea11dadb",
   "metadata": {
    "execution": {
     "iopub.execute_input": "2023-10-17T01:17:17.538387Z",
     "iopub.status.busy": "2023-10-17T01:17:17.537696Z",
     "iopub.status.idle": "2023-10-17T01:17:17.546470Z",
     "shell.execute_reply": "2023-10-17T01:17:17.545361Z"
    },
    "papermill": {
     "duration": 0.017376,
     "end_time": "2023-10-17T01:17:17.548909",
     "exception": false,
     "start_time": "2023-10-17T01:17:17.531533",
     "status": "completed"
    },
    "tags": []
   },
   "outputs": [
    {
     "data": {
      "application/javascript": [
       "parent.postMessage({\"jupyterEvent\": \"custom.exercise_interaction\", \"data\": {\"outcomeType\": 1, \"valueTowardsCompletion\": 0.16666666666666666, \"interactionType\": 1, \"questionType\": 2, \"questionId\": \"3_CandySmashingFunctionProblem\", \"learnToolsVersion\": \"0.3.4\", \"failureMessage\": \"\", \"exceptionClass\": \"\", \"trace\": \"\"}}, \"*\")"
      ],
      "text/plain": [
       "<IPython.core.display.Javascript object>"
      ]
     },
     "metadata": {},
     "output_type": "display_data"
    },
    {
     "data": {
      "text/markdown": [
       "<span style=\"color:#33cc33\">Correct</span>"
      ],
      "text/plain": [
       "Correct"
      ]
     },
     "metadata": {},
     "output_type": "display_data"
    }
   ],
   "source": [
    "def to_smash(total_candies, num=3):\n",
    "    \"\"\"Return the number of leftover candies that must be smashed after distributing\n",
    "    the given number of candies evenly between 3 friends.\n",
    "    \n",
    "    >>> to_smash(91)\n",
    "    1\n",
    "    \"\"\"\n",
    "    return total_candies % num\n",
    "\n",
    "# Check your answer\n",
    "q3.check()"
   ]
  },
  {
   "cell_type": "code",
   "execution_count": 7,
   "id": "a0bd6d2b",
   "metadata": {
    "execution": {
     "iopub.execute_input": "2023-10-17T01:17:17.561732Z",
     "iopub.status.busy": "2023-10-17T01:17:17.560398Z",
     "iopub.status.idle": "2023-10-17T01:17:17.566497Z",
     "shell.execute_reply": "2023-10-17T01:17:17.565391Z"
    },
    "papermill": {
     "duration": 0.015128,
     "end_time": "2023-10-17T01:17:17.569034",
     "exception": false,
     "start_time": "2023-10-17T01:17:17.553906",
     "status": "completed"
    },
    "tags": []
   },
   "outputs": [],
   "source": [
    "#q3.hint()"
   ]
  },
  {
   "cell_type": "code",
   "execution_count": 8,
   "id": "f3be8861",
   "metadata": {
    "execution": {
     "iopub.execute_input": "2023-10-17T01:17:17.581300Z",
     "iopub.status.busy": "2023-10-17T01:17:17.580936Z",
     "iopub.status.idle": "2023-10-17T01:17:17.584987Z",
     "shell.execute_reply": "2023-10-17T01:17:17.584241Z"
    },
    "papermill": {
     "duration": 0.01282,
     "end_time": "2023-10-17T01:17:17.586965",
     "exception": false,
     "start_time": "2023-10-17T01:17:17.574145",
     "status": "completed"
    },
    "tags": []
   },
   "outputs": [],
   "source": [
    "#q3.solution()"
   ]
  },
  {
   "cell_type": "markdown",
   "id": "f1fbbe26",
   "metadata": {
    "papermill": {
     "duration": 0.004747,
     "end_time": "2023-10-17T01:17:17.596901",
     "exception": false,
     "start_time": "2023-10-17T01:17:17.592154",
     "status": "completed"
    },
    "tags": []
   },
   "source": [
    "# 4. (Optional)\n",
    "\n",
    "It may not be fun, but reading and understanding error messages will be an important part of your Python career.\n",
    "\n",
    "Each code cell below contains some commented buggy code. For each cell...\n",
    "\n",
    "1. Read the code and predict what you think will happen when it's run.\n",
    "2. Then uncomment the code and run it to see what happens. (**Tip**: In the kernel editor, you can highlight several lines and press `ctrl`+`/` to toggle commenting.)\n",
    "3. Fix the code (so that it accomplishes its intended purpose without throwing an exception)\n",
    "\n",
    "<!-- TODO: should this be autochecked? Delta is probably pretty small. -->"
   ]
  },
  {
   "cell_type": "code",
   "execution_count": 9,
   "id": "1420ce05",
   "metadata": {
    "execution": {
     "iopub.execute_input": "2023-10-17T01:17:17.609107Z",
     "iopub.status.busy": "2023-10-17T01:17:17.608523Z",
     "iopub.status.idle": "2023-10-17T01:17:17.613690Z",
     "shell.execute_reply": "2023-10-17T01:17:17.612673Z"
    },
    "papermill": {
     "duration": 0.013852,
     "end_time": "2023-10-17T01:17:17.615823",
     "exception": false,
     "start_time": "2023-10-17T01:17:17.601971",
     "status": "completed"
    },
    "tags": []
   },
   "outputs": [
    {
     "data": {
      "text/plain": [
       "10.0"
      ]
     },
     "execution_count": 9,
     "metadata": {},
     "output_type": "execute_result"
    }
   ],
   "source": [
    "# 함수 이름 잘못됨\n",
    "# ruound_to_two_places(9.9999)\n",
    "\n",
    "round_to_two_places(9.9999)"
   ]
  },
  {
   "cell_type": "code",
   "execution_count": 10,
   "id": "7f559943",
   "metadata": {
    "execution": {
     "iopub.execute_input": "2023-10-17T01:17:17.628215Z",
     "iopub.status.busy": "2023-10-17T01:17:17.627630Z",
     "iopub.status.idle": "2023-10-17T01:17:17.634198Z",
     "shell.execute_reply": "2023-10-17T01:17:17.632752Z"
    },
    "papermill": {
     "duration": 0.015444,
     "end_time": "2023-10-17T01:17:17.636394",
     "exception": false,
     "start_time": "2023-10-17T01:17:17.620950",
     "status": "completed"
    },
    "tags": []
   },
   "outputs": [
    {
     "data": {
      "text/plain": [
       "5"
      ]
     },
     "execution_count": 10,
     "metadata": {},
     "output_type": "execute_result"
    }
   ],
   "source": [
    "# x, y 각각에 abs()를 적용해야 함\n",
    "# x = -10\n",
    "# y = 5\n",
    "# # Which of the two variables above has the smallest absolute value?\n",
    "# smallest_abs = min(abs(x, y))\n",
    "\n",
    "x = -10\n",
    "y = 5\n",
    "smallest_abs = min(abs(x), abs(y))\n",
    "smallest_abs"
   ]
  },
  {
   "cell_type": "code",
   "execution_count": 11,
   "id": "578afc6c",
   "metadata": {
    "execution": {
     "iopub.execute_input": "2023-10-17T01:17:17.649657Z",
     "iopub.status.busy": "2023-10-17T01:17:17.649032Z",
     "iopub.status.idle": "2023-10-17T01:17:17.655648Z",
     "shell.execute_reply": "2023-10-17T01:17:17.654405Z"
    },
    "papermill": {
     "duration": 0.015443,
     "end_time": "2023-10-17T01:17:17.657713",
     "exception": false,
     "start_time": "2023-10-17T01:17:17.642270",
     "status": "completed"
    },
    "tags": []
   },
   "outputs": [
    {
     "name": "stdout",
     "output_type": "stream",
     "text": [
      "5\n"
     ]
    }
   ],
   "source": [
    "# return 함수가 def 밖에 있음\n",
    "# def f(x):\n",
    "#     y = abs(x)\n",
    "# return y\n",
    "\n",
    "# print(f(5))\n",
    "\n",
    "def f(x):\n",
    "    y = abs(x)\n",
    "    return y\n",
    "\n",
    "print(f(5))"
   ]
  },
  {
   "cell_type": "markdown",
   "id": "1f067482",
   "metadata": {
    "papermill": {
     "duration": 0.005197,
     "end_time": "2023-10-17T01:17:17.668026",
     "exception": false,
     "start_time": "2023-10-17T01:17:17.662829",
     "status": "completed"
    },
    "tags": []
   },
   "source": [
    "# Keep Going\n",
    "\n",
    "Nice job with the code. Next up, you'll learn about *conditionals*, which you'll need to **[write interesting programs](https://www.kaggle.com/colinmorris/booleans-and-conditionals)**. "
   ]
  },
  {
   "cell_type": "markdown",
   "id": "6275a568",
   "metadata": {
    "papermill": {
     "duration": 0.004878,
     "end_time": "2023-10-17T01:17:17.678096",
     "exception": false,
     "start_time": "2023-10-17T01:17:17.673218",
     "status": "completed"
    },
    "tags": []
   },
   "source": [
    "---\n",
    "\n",
    "\n",
    "\n",
    "\n",
    "*Have questions or comments? Visit the [course discussion forum](https://www.kaggle.com/learn/python/discussion) to chat with other learners.*"
   ]
  }
 ],
 "metadata": {
  "kernelspec": {
   "display_name": "Python 3",
   "language": "python",
   "name": "python3"
  },
  "language_info": {
   "codemirror_mode": {
    "name": "ipython",
    "version": 3
   },
   "file_extension": ".py",
   "mimetype": "text/x-python",
   "name": "python",
   "nbconvert_exporter": "python",
   "pygments_lexer": "ipython3",
   "version": "3.10.12"
  },
  "papermill": {
   "default_parameters": {},
   "duration": 4.568842,
   "end_time": "2023-10-17T01:17:18.202403",
   "environment_variables": {},
   "exception": null,
   "input_path": "__notebook__.ipynb",
   "output_path": "__notebook__.ipynb",
   "parameters": {},
   "start_time": "2023-10-17T01:17:13.633561",
   "version": "2.4.0"
  }
 },
 "nbformat": 4,
 "nbformat_minor": 5
}
