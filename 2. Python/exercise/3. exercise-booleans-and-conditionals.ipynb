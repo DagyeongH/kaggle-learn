{
 "cells": [
  {
   "cell_type": "markdown",
   "id": "9debaa5d",
   "metadata": {
    "papermill": {
     "duration": 0.011972,
     "end_time": "2023-10-17T03:05:12.870101",
     "exception": false,
     "start_time": "2023-10-17T03:05:12.858129",
     "status": "completed"
    },
    "tags": []
   },
   "source": [
    "**This notebook is an exercise in the [Python](https://www.kaggle.com/learn/python) course.  You can reference the tutorial at [this link](https://www.kaggle.com/colinmorris/booleans-and-conditionals).**\n",
    "\n",
    "---\n"
   ]
  },
  {
   "cell_type": "markdown",
   "id": "43fb9c4f",
   "metadata": {
    "papermill": {
     "duration": 0.007205,
     "end_time": "2023-10-17T03:05:12.885100",
     "exception": false,
     "start_time": "2023-10-17T03:05:12.877895",
     "status": "completed"
    },
    "tags": []
   },
   "source": [
    "In this exercise, you'll put to work what you have learned about booleans and conditionals.\n",
    "\n",
    "To get started, **run the setup code below** before writing your own code (and if you leave this notebook and come back later, don't forget to run the setup code again)."
   ]
  },
  {
   "cell_type": "code",
   "execution_count": 1,
   "id": "64d0ebf7",
   "metadata": {
    "execution": {
     "iopub.execute_input": "2023-10-17T03:05:12.902053Z",
     "iopub.status.busy": "2023-10-17T03:05:12.901643Z",
     "iopub.status.idle": "2023-10-17T03:05:13.376120Z",
     "shell.execute_reply": "2023-10-17T03:05:13.374643Z"
    },
    "papermill": {
     "duration": 0.486436,
     "end_time": "2023-10-17T03:05:13.379042",
     "exception": false,
     "start_time": "2023-10-17T03:05:12.892606",
     "status": "completed"
    },
    "tags": []
   },
   "outputs": [
    {
     "name": "stdout",
     "output_type": "stream",
     "text": [
      "Setup complete.\n"
     ]
    }
   ],
   "source": [
    "from learntools.core import binder; binder.bind(globals())\n",
    "from learntools.python.ex3 import *\n",
    "print('Setup complete.')"
   ]
  },
  {
   "cell_type": "markdown",
   "id": "8cf160ca",
   "metadata": {
    "papermill": {
     "duration": 0.007472,
     "end_time": "2023-10-17T03:05:13.394574",
     "exception": false,
     "start_time": "2023-10-17T03:05:13.387102",
     "status": "completed"
    },
    "tags": []
   },
   "source": [
    "# 1.\n",
    "\n",
    "Many programming languages have [`sign`](https://en.wikipedia.org/wiki/Sign_function) available as a built-in function. Python doesn't, but we can define our own!\n",
    "\n",
    "In the cell below, define a function called `sign` which takes a numerical argument and returns -1 if it's negative, 1 if it's positive, and 0 if it's 0."
   ]
  },
  {
   "cell_type": "code",
   "execution_count": 2,
   "id": "35b7e44e",
   "metadata": {
    "execution": {
     "iopub.execute_input": "2023-10-17T03:05:13.412276Z",
     "iopub.status.busy": "2023-10-17T03:05:13.411318Z",
     "iopub.status.idle": "2023-10-17T03:05:13.419630Z",
     "shell.execute_reply": "2023-10-17T03:05:13.418980Z"
    },
    "papermill": {
     "duration": 0.019034,
     "end_time": "2023-10-17T03:05:13.421349",
     "exception": false,
     "start_time": "2023-10-17T03:05:13.402315",
     "status": "completed"
    },
    "tags": []
   },
   "outputs": [
    {
     "data": {
      "application/javascript": [
       "parent.postMessage({\"jupyterEvent\": \"custom.exercise_interaction\", \"data\": {\"outcomeType\": 1, \"valueTowardsCompletion\": 0.2, \"interactionType\": 1, \"questionType\": 2, \"questionId\": \"1_SignFunctionProblem\", \"learnToolsVersion\": \"0.3.4\", \"failureMessage\": \"\", \"exceptionClass\": \"\", \"trace\": \"\"}}, \"*\")"
      ],
      "text/plain": [
       "<IPython.core.display.Javascript object>"
      ]
     },
     "metadata": {},
     "output_type": "display_data"
    },
    {
     "data": {
      "text/markdown": [
       "<span style=\"color:#33cc33\">Correct</span>"
      ],
      "text/plain": [
       "Correct"
      ]
     },
     "metadata": {},
     "output_type": "display_data"
    }
   ],
   "source": [
    "# Your code goes here. Define a function called 'sign'\n",
    "def sign(num):\n",
    "    result = 0\n",
    "    if num < 0:\n",
    "        result = -1\n",
    "    elif num > 0:\n",
    "        result = 1\n",
    "    return result\n",
    "\n",
    "# Check your answer\n",
    "q1.check()"
   ]
  },
  {
   "cell_type": "code",
   "execution_count": 3,
   "id": "e16a6051",
   "metadata": {
    "execution": {
     "iopub.execute_input": "2023-10-17T03:05:13.438673Z",
     "iopub.status.busy": "2023-10-17T03:05:13.438295Z",
     "iopub.status.idle": "2023-10-17T03:05:13.442282Z",
     "shell.execute_reply": "2023-10-17T03:05:13.441272Z"
    },
    "papermill": {
     "duration": 0.015143,
     "end_time": "2023-10-17T03:05:13.444272",
     "exception": false,
     "start_time": "2023-10-17T03:05:13.429129",
     "status": "completed"
    },
    "tags": []
   },
   "outputs": [],
   "source": [
    "#q1.solution()"
   ]
  },
  {
   "cell_type": "markdown",
   "id": "13c4968a",
   "metadata": {
    "papermill": {
     "duration": 0.007148,
     "end_time": "2023-10-17T03:05:13.459264",
     "exception": false,
     "start_time": "2023-10-17T03:05:13.452116",
     "status": "completed"
    },
    "tags": []
   },
   "source": [
    "# 2.\n",
    "\n",
    "We've decided to add \"logging\" to our `to_smash` function from the previous exercise."
   ]
  },
  {
   "cell_type": "code",
   "execution_count": 4,
   "id": "b41b0e8b",
   "metadata": {
    "execution": {
     "iopub.execute_input": "2023-10-17T03:05:13.476021Z",
     "iopub.status.busy": "2023-10-17T03:05:13.475459Z",
     "iopub.status.idle": "2023-10-17T03:05:13.483667Z",
     "shell.execute_reply": "2023-10-17T03:05:13.482631Z"
    },
    "papermill": {
     "duration": 0.018956,
     "end_time": "2023-10-17T03:05:13.485618",
     "exception": false,
     "start_time": "2023-10-17T03:05:13.466662",
     "status": "completed"
    },
    "tags": []
   },
   "outputs": [
    {
     "name": "stdout",
     "output_type": "stream",
     "text": [
      "Splitting 91 candies\n"
     ]
    },
    {
     "data": {
      "text/plain": [
       "1"
      ]
     },
     "execution_count": 4,
     "metadata": {},
     "output_type": "execute_result"
    }
   ],
   "source": [
    "def to_smash(total_candies):\n",
    "    \"\"\"Return the number of leftover candies that must be smashed after distributing\n",
    "    the given number of candies evenly between 3 friends.\n",
    "    \n",
    "    >>> to_smash(91)\n",
    "    1\n",
    "    \"\"\"\n",
    "    print(\"Splitting\", total_candies, \"candies\")\n",
    "    return total_candies % 3\n",
    "\n",
    "to_smash(91)"
   ]
  },
  {
   "cell_type": "markdown",
   "id": "03964f01",
   "metadata": {
    "papermill": {
     "duration": 0.00749,
     "end_time": "2023-10-17T03:05:13.500777",
     "exception": false,
     "start_time": "2023-10-17T03:05:13.493287",
     "status": "completed"
    },
    "tags": []
   },
   "source": [
    "What happens if we call it with `total_candies = 1`?"
   ]
  },
  {
   "cell_type": "code",
   "execution_count": 5,
   "id": "67784370",
   "metadata": {
    "execution": {
     "iopub.execute_input": "2023-10-17T03:05:13.518079Z",
     "iopub.status.busy": "2023-10-17T03:05:13.517756Z",
     "iopub.status.idle": "2023-10-17T03:05:13.524377Z",
     "shell.execute_reply": "2023-10-17T03:05:13.522663Z"
    },
    "papermill": {
     "duration": 0.017728,
     "end_time": "2023-10-17T03:05:13.526509",
     "exception": false,
     "start_time": "2023-10-17T03:05:13.508781",
     "status": "completed"
    },
    "tags": []
   },
   "outputs": [
    {
     "name": "stdout",
     "output_type": "stream",
     "text": [
      "Splitting 1 candies\n"
     ]
    },
    {
     "data": {
      "text/plain": [
       "1"
      ]
     },
     "execution_count": 5,
     "metadata": {},
     "output_type": "execute_result"
    }
   ],
   "source": [
    "to_smash(1)"
   ]
  },
  {
   "cell_type": "markdown",
   "id": "03555fbe",
   "metadata": {
    "papermill": {
     "duration": 0.007371,
     "end_time": "2023-10-17T03:05:13.541702",
     "exception": false,
     "start_time": "2023-10-17T03:05:13.534331",
     "status": "completed"
    },
    "tags": []
   },
   "source": [
    "That isn't great grammar!\n",
    "\n",
    "Modify the definition in the cell below to correct the grammar of our print statement. (If there's only one candy, we should use the singular \"candy\" instead of the plural \"candies\")"
   ]
  },
  {
   "cell_type": "code",
   "execution_count": 6,
   "id": "09db6a83",
   "metadata": {
    "execution": {
     "iopub.execute_input": "2023-10-17T03:05:13.559464Z",
     "iopub.status.busy": "2023-10-17T03:05:13.559050Z",
     "iopub.status.idle": "2023-10-17T03:05:13.568276Z",
     "shell.execute_reply": "2023-10-17T03:05:13.566940Z"
    },
    "papermill": {
     "duration": 0.021081,
     "end_time": "2023-10-17T03:05:13.570407",
     "exception": false,
     "start_time": "2023-10-17T03:05:13.549326",
     "status": "completed"
    },
    "tags": []
   },
   "outputs": [
    {
     "name": "stdout",
     "output_type": "stream",
     "text": [
      "Splitting 91 candies\n",
      "Splitting 1 candy\n"
     ]
    },
    {
     "data": {
      "text/plain": [
       "1"
      ]
     },
     "execution_count": 6,
     "metadata": {},
     "output_type": "execute_result"
    }
   ],
   "source": [
    "def to_smash(total_candies):\n",
    "    \"\"\"Return the number of leftover candies that must be smashed after distributing\n",
    "    the given number of candies evenly between 3 friends.\n",
    "    \n",
    "    >>> to_smash(91)\n",
    "    1\n",
    "    \"\"\"\n",
    "    if total_candies == 1:\n",
    "        print(\"Splitting\", total_candies, \"candy\")\n",
    "    else:\n",
    "        print(\"Splitting\", total_candies, \"candies\")\n",
    "    return total_candies % 3\n",
    "\n",
    "to_smash(91)\n",
    "to_smash(1)"
   ]
  },
  {
   "cell_type": "markdown",
   "id": "04607b7d",
   "metadata": {
    "papermill": {
     "duration": 0.008491,
     "end_time": "2023-10-17T03:05:13.586831",
     "exception": false,
     "start_time": "2023-10-17T03:05:13.578340",
     "status": "completed"
    },
    "tags": []
   },
   "source": [
    "To get credit for completing this problem, and to see the official answer, run the code cell below."
   ]
  },
  {
   "cell_type": "code",
   "execution_count": 7,
   "id": "72519625",
   "metadata": {
    "execution": {
     "iopub.execute_input": "2023-10-17T03:05:13.604679Z",
     "iopub.status.busy": "2023-10-17T03:05:13.604262Z",
     "iopub.status.idle": "2023-10-17T03:05:13.612358Z",
     "shell.execute_reply": "2023-10-17T03:05:13.611601Z"
    },
    "papermill": {
     "duration": 0.020097,
     "end_time": "2023-10-17T03:05:13.614598",
     "exception": false,
     "start_time": "2023-10-17T03:05:13.594501",
     "status": "completed"
    },
    "tags": []
   },
   "outputs": [
    {
     "data": {
      "application/javascript": [
       "parent.postMessage({\"jupyterEvent\": \"custom.exercise_interaction\", \"data\": {\"interactionType\": 3, \"questionType\": 4, \"questionId\": \"2_PluralizationProblem\", \"learnToolsVersion\": \"0.3.4\", \"valueTowardsCompletion\": 0.0, \"failureMessage\": \"\", \"exceptionClass\": \"\", \"trace\": \"\", \"outcomeType\": 4}}, \"*\")"
      ],
      "text/plain": [
       "<IPython.core.display.Javascript object>"
      ]
     },
     "metadata": {},
     "output_type": "display_data"
    },
    {
     "data": {
      "text/markdown": [
       "<span style=\"color:#33cc99\">Solution:</span> A straightforward (and totally fine) solution is to replace the original `print` call with:\n",
       "\n",
       "```python\n",
       "if total_candies == 1:\n",
       "    print(\"Splitting 1 candy\")\n",
       "else:\n",
       "    print(\"Splitting\", total_candies, \"candies\")\n",
       "```\n",
       "\n",
       "Here's a slightly more succinct solution using a conditional expression:\n",
       "\n",
       "```python\n",
       "print(\"Splitting\", total_candies, \"candy\" if total_candies == 1 else \"candies\")\n",
       "```"
      ],
      "text/plain": [
       "Solution: A straightforward (and totally fine) solution is to replace the original `print` call with:\n",
       "\n",
       "```python\n",
       "if total_candies == 1:\n",
       "    print(\"Splitting 1 candy\")\n",
       "else:\n",
       "    print(\"Splitting\", total_candies, \"candies\")\n",
       "```\n",
       "\n",
       "Here's a slightly more succinct solution using a conditional expression:\n",
       "\n",
       "```python\n",
       "print(\"Splitting\", total_candies, \"candy\" if total_candies == 1 else \"candies\")\n",
       "```"
      ]
     },
     "metadata": {},
     "output_type": "display_data"
    }
   ],
   "source": [
    "# Check your answer (Run this code cell to receive credit!)\n",
    "q2.solution()"
   ]
  },
  {
   "cell_type": "markdown",
   "id": "1229e17e",
   "metadata": {
    "papermill": {
     "duration": 0.007797,
     "end_time": "2023-10-17T03:05:13.630640",
     "exception": false,
     "start_time": "2023-10-17T03:05:13.622843",
     "status": "completed"
    },
    "tags": []
   },
   "source": [
    "# 3. <span title=\"A bit spicy\" style=\"color: darkgreen \">🌶️</span>\n",
    "\n",
    "In the tutorial, we talked about deciding whether we're prepared for the weather. I said that I'm safe from today's weather if...\n",
    "- I have an umbrella...\n",
    "- or if the rain isn't too heavy and I have a hood...\n",
    "- otherwise, I'm still fine unless it's raining *and* it's a workday\n",
    "\n",
    "The function below uses our first attempt at turning this logic into a Python expression. I claimed that there was a bug in that code. Can you find it?\n",
    "\n",
    "To prove that `prepared_for_weather` is buggy, come up with a set of inputs where either:\n",
    "- the function returns `False` (but should have returned `True`), or\n",
    "- the function returned `True` (but should have returned `False`).\n",
    "\n",
    "To get credit for completing this question, your code should return a <font color='#33cc33'>Correct</font> result."
   ]
  },
  {
   "cell_type": "code",
   "execution_count": 8,
   "id": "0c9102f8",
   "metadata": {
    "execution": {
     "iopub.execute_input": "2023-10-17T03:05:13.648660Z",
     "iopub.status.busy": "2023-10-17T03:05:13.648243Z",
     "iopub.status.idle": "2023-10-17T03:05:13.661200Z",
     "shell.execute_reply": "2023-10-17T03:05:13.660152Z"
    },
    "papermill": {
     "duration": 0.024817,
     "end_time": "2023-10-17T03:05:13.663469",
     "exception": false,
     "start_time": "2023-10-17T03:05:13.638652",
     "status": "completed"
    },
    "tags": []
   },
   "outputs": [
    {
     "name": "stdout",
     "output_type": "stream",
     "text": [
      "False\n"
     ]
    },
    {
     "data": {
      "application/javascript": [
       "parent.postMessage({\"jupyterEvent\": \"custom.exercise_interaction\", \"data\": {\"outcomeType\": 1, \"valueTowardsCompletion\": 0.2, \"interactionType\": 1, \"questionType\": 1, \"questionId\": \"3_WeatherDebug\", \"learnToolsVersion\": \"0.3.4\", \"failureMessage\": \"\", \"exceptionClass\": \"\", \"trace\": \"\"}}, \"*\")"
      ],
      "text/plain": [
       "<IPython.core.display.Javascript object>"
      ]
     },
     "metadata": {},
     "output_type": "display_data"
    },
    {
     "data": {
      "text/markdown": [
       "<span style=\"color:#33cc33\">Correct:</span> \n",
       "\n",
       "One example of a failing test case is:\n",
       "\n",
       "```python\n",
       "have_umbrella = False\n",
       "rain_level = 0.0\n",
       "have_hood = False\n",
       "is_workday = False\n",
       "```\n",
       "\n",
       "Clearly we're prepared for the weather in this case. It's not raining. Not only that, it's not a workday, so we don't even need to leave the house! But our function will return False on these inputs.\n",
       "\n",
       "The key problem is that Python implictly parenthesizes the last part as:\n",
       "\n",
       "```python\n",
       "(not (rain_level > 0)) and is_workday\n",
       "```\n",
       "\n",
       "Whereas what we were trying to express would look more like:\n",
       "\n",
       "```python\n",
       "not (rain_level > 0 and is_workday)\n",
       "```\n"
      ],
      "text/plain": [
       "Correct: \n",
       "\n",
       "One example of a failing test case is:\n",
       "\n",
       "```python\n",
       "have_umbrella = False\n",
       "rain_level = 0.0\n",
       "have_hood = False\n",
       "is_workday = False\n",
       "```\n",
       "\n",
       "Clearly we're prepared for the weather in this case. It's not raining. Not only that, it's not a workday, so we don't even need to leave the house! But our function will return False on these inputs.\n",
       "\n",
       "The key problem is that Python implictly parenthesizes the last part as:\n",
       "\n",
       "```python\n",
       "(not (rain_level > 0)) and is_workday\n",
       "```\n",
       "\n",
       "Whereas what we were trying to express would look more like:\n",
       "\n",
       "```python\n",
       "not (rain_level > 0 and is_workday)\n",
       "```"
      ]
     },
     "metadata": {},
     "output_type": "display_data"
    }
   ],
   "source": [
    "def prepared_for_weather(have_umbrella, rain_level, have_hood, is_workday):\n",
    "    # Don't change this code. Our goal is just to find the bug, not fix it!\n",
    "    return have_umbrella or rain_level < 5 and have_hood or not rain_level > 0 and is_workday\n",
    "\n",
    "# Change the values of these inputs so they represent a case where prepared_for_weather\n",
    "# returns the wrong answer.\n",
    "have_umbrella = False\n",
    "rain_level = 6.0\n",
    "have_hood = True\n",
    "is_workday = False\n",
    "\n",
    "# Check what the function returns given the current values of the variables above\n",
    "actual = prepared_for_weather(have_umbrella, rain_level, have_hood, is_workday)\n",
    "print(actual)\n",
    "\n",
    "# Check your answer\n",
    "q3.check()"
   ]
  },
  {
   "cell_type": "code",
   "execution_count": 9,
   "id": "0f4fe5b5",
   "metadata": {
    "execution": {
     "iopub.execute_input": "2023-10-17T03:05:13.683218Z",
     "iopub.status.busy": "2023-10-17T03:05:13.682581Z",
     "iopub.status.idle": "2023-10-17T03:05:13.686374Z",
     "shell.execute_reply": "2023-10-17T03:05:13.685618Z"
    },
    "papermill": {
     "duration": 0.015772,
     "end_time": "2023-10-17T03:05:13.688249",
     "exception": false,
     "start_time": "2023-10-17T03:05:13.672477",
     "status": "completed"
    },
    "tags": []
   },
   "outputs": [],
   "source": [
    "#q3.hint()\n",
    "#q3.solution()"
   ]
  },
  {
   "cell_type": "markdown",
   "id": "90fdc956",
   "metadata": {
    "papermill": {
     "duration": 0.008605,
     "end_time": "2023-10-17T03:05:13.705665",
     "exception": false,
     "start_time": "2023-10-17T03:05:13.697060",
     "status": "completed"
    },
    "tags": []
   },
   "source": [
    "# 4.\n",
    "\n",
    "The function `is_negative` below is implemented correctly - it returns True if the given number is negative and False otherwise.\n",
    "\n",
    "However, it's more verbose than it needs to be. We can actually reduce the number of lines of code in this function by *75%* while keeping the same behaviour. \n",
    "\n",
    "See if you can come up with an equivalent body that uses just **one line** of code, and put it in the function `concise_is_negative`. (HINT: you don't even need Python's ternary syntax)"
   ]
  },
  {
   "cell_type": "code",
   "execution_count": 10,
   "id": "3eefa339",
   "metadata": {
    "execution": {
     "iopub.execute_input": "2023-10-17T03:05:13.725294Z",
     "iopub.status.busy": "2023-10-17T03:05:13.724934Z",
     "iopub.status.idle": "2023-10-17T03:05:13.733523Z",
     "shell.execute_reply": "2023-10-17T03:05:13.732563Z"
    },
    "papermill": {
     "duration": 0.020979,
     "end_time": "2023-10-17T03:05:13.735671",
     "exception": false,
     "start_time": "2023-10-17T03:05:13.714692",
     "status": "completed"
    },
    "tags": []
   },
   "outputs": [
    {
     "data": {
      "application/javascript": [
       "parent.postMessage({\"jupyterEvent\": \"custom.exercise_interaction\", \"data\": {\"outcomeType\": 1, \"valueTowardsCompletion\": 0.2, \"interactionType\": 1, \"questionType\": 2, \"questionId\": \"4_ConciseIsNegative\", \"learnToolsVersion\": \"0.3.4\", \"failureMessage\": \"\", \"exceptionClass\": \"\", \"trace\": \"\"}}, \"*\")"
      ],
      "text/plain": [
       "<IPython.core.display.Javascript object>"
      ]
     },
     "metadata": {},
     "output_type": "display_data"
    },
    {
     "data": {
      "text/markdown": [
       "<span style=\"color:#33cc33\">Correct</span>"
      ],
      "text/plain": [
       "Correct"
      ]
     },
     "metadata": {},
     "output_type": "display_data"
    }
   ],
   "source": [
    "def is_negative(number):\n",
    "    if number < 0:\n",
    "        return True\n",
    "    else:\n",
    "        return False\n",
    "\n",
    "def concise_is_negative(number):\n",
    "    return True if number < 0 else False\n",
    "\n",
    "# Check your answer\n",
    "q4.check()"
   ]
  },
  {
   "cell_type": "code",
   "execution_count": 11,
   "id": "78c47cb9",
   "metadata": {
    "execution": {
     "iopub.execute_input": "2023-10-17T03:05:13.756630Z",
     "iopub.status.busy": "2023-10-17T03:05:13.756251Z",
     "iopub.status.idle": "2023-10-17T03:05:13.760142Z",
     "shell.execute_reply": "2023-10-17T03:05:13.759169Z"
    },
    "papermill": {
     "duration": 0.017269,
     "end_time": "2023-10-17T03:05:13.762611",
     "exception": false,
     "start_time": "2023-10-17T03:05:13.745342",
     "status": "completed"
    },
    "tags": []
   },
   "outputs": [],
   "source": [
    "#q4.hint()\n",
    "#q4.solution()"
   ]
  },
  {
   "cell_type": "markdown",
   "id": "54ef9c57",
   "metadata": {
    "papermill": {
     "duration": 0.008242,
     "end_time": "2023-10-17T03:05:13.779883",
     "exception": false,
     "start_time": "2023-10-17T03:05:13.771641",
     "status": "completed"
    },
    "tags": []
   },
   "source": [
    "# 5a.\n",
    "\n",
    "The boolean variables `ketchup`, `mustard` and `onion` represent whether a customer wants a particular topping on their hot dog. We want to implement a number of boolean functions that correspond to some yes-or-no questions about the customer's order. For example:"
   ]
  },
  {
   "cell_type": "code",
   "execution_count": 12,
   "id": "1756cc49",
   "metadata": {
    "execution": {
     "iopub.execute_input": "2023-10-17T03:05:13.798533Z",
     "iopub.status.busy": "2023-10-17T03:05:13.798180Z",
     "iopub.status.idle": "2023-10-17T03:05:13.803159Z",
     "shell.execute_reply": "2023-10-17T03:05:13.802101Z"
    },
    "papermill": {
     "duration": 0.016645,
     "end_time": "2023-10-17T03:05:13.805062",
     "exception": false,
     "start_time": "2023-10-17T03:05:13.788417",
     "status": "completed"
    },
    "tags": []
   },
   "outputs": [],
   "source": [
    "def onionless(ketchup, mustard, onion):\n",
    "    \"\"\"Return whether the customer doesn't want onions.\n",
    "    \"\"\"\n",
    "    return not onion"
   ]
  },
  {
   "cell_type": "code",
   "execution_count": 13,
   "id": "e77817f2",
   "metadata": {
    "execution": {
     "iopub.execute_input": "2023-10-17T03:05:13.823752Z",
     "iopub.status.busy": "2023-10-17T03:05:13.823348Z",
     "iopub.status.idle": "2023-10-17T03:05:13.832056Z",
     "shell.execute_reply": "2023-10-17T03:05:13.831147Z"
    },
    "papermill": {
     "duration": 0.020218,
     "end_time": "2023-10-17T03:05:13.833901",
     "exception": false,
     "start_time": "2023-10-17T03:05:13.813683",
     "status": "completed"
    },
    "tags": []
   },
   "outputs": [
    {
     "data": {
      "application/javascript": [
       "parent.postMessage({\"jupyterEvent\": \"custom.exercise_interaction\", \"data\": {\"outcomeType\": 1, \"valueTowardsCompletion\": 0.2, \"interactionType\": 1, \"questionType\": 2, \"questionId\": \"5.1_AllToppings\", \"learnToolsVersion\": \"0.3.4\", \"failureMessage\": \"\", \"exceptionClass\": \"\", \"trace\": \"\"}}, \"*\")"
      ],
      "text/plain": [
       "<IPython.core.display.Javascript object>"
      ]
     },
     "metadata": {},
     "output_type": "display_data"
    },
    {
     "data": {
      "text/markdown": [
       "<span style=\"color:#33cc33\">Correct</span>"
      ],
      "text/plain": [
       "Correct"
      ]
     },
     "metadata": {},
     "output_type": "display_data"
    }
   ],
   "source": [
    "def wants_all_toppings(ketchup, mustard, onion):\n",
    "    \"\"\"Return whether the customer wants \"the works\" (all 3 toppings)\n",
    "    \"\"\"\n",
    "    return ketchup and mustard and onion\n",
    "\n",
    "# Check your answer\n",
    "q5.a.check()"
   ]
  },
  {
   "cell_type": "code",
   "execution_count": 14,
   "id": "10f41cfe",
   "metadata": {
    "execution": {
     "iopub.execute_input": "2023-10-17T03:05:13.946941Z",
     "iopub.status.busy": "2023-10-17T03:05:13.946511Z",
     "iopub.status.idle": "2023-10-17T03:05:13.950827Z",
     "shell.execute_reply": "2023-10-17T03:05:13.949822Z"
    },
    "papermill": {
     "duration": 0.017299,
     "end_time": "2023-10-17T03:05:13.952702",
     "exception": false,
     "start_time": "2023-10-17T03:05:13.935403",
     "status": "completed"
    },
    "tags": []
   },
   "outputs": [],
   "source": [
    "#q5.a.hint()\n",
    "#q5.a.solution()"
   ]
  },
  {
   "cell_type": "markdown",
   "id": "fc5d6b9b",
   "metadata": {
    "papermill": {
     "duration": 0.00907,
     "end_time": "2023-10-17T03:05:13.971432",
     "exception": false,
     "start_time": "2023-10-17T03:05:13.962362",
     "status": "completed"
    },
    "tags": []
   },
   "source": [
    "# 5b.\n",
    "\n",
    "For the next function, fill in the body to match the English description in the docstring. "
   ]
  },
  {
   "cell_type": "code",
   "execution_count": 15,
   "id": "2ea553ca",
   "metadata": {
    "execution": {
     "iopub.execute_input": "2023-10-17T03:05:13.991814Z",
     "iopub.status.busy": "2023-10-17T03:05:13.991426Z",
     "iopub.status.idle": "2023-10-17T03:05:13.999788Z",
     "shell.execute_reply": "2023-10-17T03:05:13.998801Z"
    },
    "papermill": {
     "duration": 0.020942,
     "end_time": "2023-10-17T03:05:14.001753",
     "exception": false,
     "start_time": "2023-10-17T03:05:13.980811",
     "status": "completed"
    },
    "tags": []
   },
   "outputs": [
    {
     "data": {
      "application/javascript": [
       "parent.postMessage({\"jupyterEvent\": \"custom.exercise_interaction\", \"data\": {\"outcomeType\": 1, \"valueTowardsCompletion\": 0.2, \"interactionType\": 1, \"questionType\": 2, \"questionId\": \"5.2_PlainDog\", \"learnToolsVersion\": \"0.3.4\", \"failureMessage\": \"\", \"exceptionClass\": \"\", \"trace\": \"\"}}, \"*\")"
      ],
      "text/plain": [
       "<IPython.core.display.Javascript object>"
      ]
     },
     "metadata": {},
     "output_type": "display_data"
    },
    {
     "data": {
      "text/markdown": [
       "<span style=\"color:#33cc33\">Correct:</span> \n",
       "\n",
       "One solution looks like:\n",
       "```python\n",
       "return not ketchup and not mustard and not onion\n",
       "```\n",
       "\n",
       "We can also [\"factor out\" the nots](https://en.wikipedia.org/wiki/De_Morgan%27s_laws) to get:\n",
       "\n",
       "```python\n",
       "return not (ketchup or mustard or onion)\n",
       "```"
      ],
      "text/plain": [
       "Correct: \n",
       "\n",
       "One solution looks like:\n",
       "```python\n",
       "return not ketchup and not mustard and not onion\n",
       "```\n",
       "\n",
       "We can also [\"factor out\" the nots](https://en.wikipedia.org/wiki/De_Morgan%27s_laws) to get:\n",
       "\n",
       "```python\n",
       "return not (ketchup or mustard or onion)\n",
       "```"
      ]
     },
     "metadata": {},
     "output_type": "display_data"
    }
   ],
   "source": [
    "def wants_plain_hotdog(ketchup, mustard, onion):\n",
    "    \"\"\"Return whether the customer wants a plain hot dog with no toppings.\n",
    "    \"\"\"\n",
    "    return not (ketchup or mustard or onion)\n",
    "\n",
    "# Check your answer\n",
    "q5.b.check()"
   ]
  },
  {
   "cell_type": "code",
   "execution_count": 16,
   "id": "52f79322",
   "metadata": {
    "execution": {
     "iopub.execute_input": "2023-10-17T03:05:14.026006Z",
     "iopub.status.busy": "2023-10-17T03:05:14.025689Z",
     "iopub.status.idle": "2023-10-17T03:05:14.029888Z",
     "shell.execute_reply": "2023-10-17T03:05:14.028763Z"
    },
    "papermill": {
     "duration": 0.018004,
     "end_time": "2023-10-17T03:05:14.032138",
     "exception": false,
     "start_time": "2023-10-17T03:05:14.014134",
     "status": "completed"
    },
    "tags": []
   },
   "outputs": [],
   "source": [
    "#q5.b.hint()\n",
    "#q5.b.solution()"
   ]
  },
  {
   "cell_type": "markdown",
   "id": "258e1dc2",
   "metadata": {
    "papermill": {
     "duration": 0.00987,
     "end_time": "2023-10-17T03:05:14.053102",
     "exception": false,
     "start_time": "2023-10-17T03:05:14.043232",
     "status": "completed"
    },
    "tags": []
   },
   "source": [
    "# 5c.\n",
    "\n",
    "You know what to do: for the next function, fill in the body to match the English description in the docstring."
   ]
  },
  {
   "cell_type": "code",
   "execution_count": 17,
   "id": "7c6e8401",
   "metadata": {
    "execution": {
     "iopub.execute_input": "2023-10-17T03:05:14.074657Z",
     "iopub.status.busy": "2023-10-17T03:05:14.074263Z",
     "iopub.status.idle": "2023-10-17T03:05:14.083004Z",
     "shell.execute_reply": "2023-10-17T03:05:14.082040Z"
    },
    "papermill": {
     "duration": 0.021567,
     "end_time": "2023-10-17T03:05:14.084810",
     "exception": false,
     "start_time": "2023-10-17T03:05:14.063243",
     "status": "completed"
    },
    "tags": []
   },
   "outputs": [
    {
     "data": {
      "application/javascript": [
       "parent.postMessage({\"jupyterEvent\": \"custom.exercise_interaction\", \"data\": {\"outcomeType\": 1, \"valueTowardsCompletion\": 0.2, \"interactionType\": 1, \"questionType\": 2, \"questionId\": \"5.3_OneSauce\", \"learnToolsVersion\": \"0.3.4\", \"failureMessage\": \"\", \"exceptionClass\": \"\", \"trace\": \"\"}}, \"*\")"
      ],
      "text/plain": [
       "<IPython.core.display.Javascript object>"
      ]
     },
     "metadata": {},
     "output_type": "display_data"
    },
    {
     "data": {
      "text/markdown": [
       "<span style=\"color:#33cc33\">Correct</span>"
      ],
      "text/plain": [
       "Correct"
      ]
     },
     "metadata": {},
     "output_type": "display_data"
    }
   ],
   "source": [
    "def exactly_one_sauce(ketchup, mustard, onion):\n",
    "    \"\"\"Return whether the customer wants either ketchup or mustard, but not both.\n",
    "    (You may be familiar with this operation under the name \"exclusive or\")\n",
    "    \"\"\"\n",
    "    return ketchup ^ mustard\n",
    "\n",
    "# Check your answer\n",
    "q5.c.check()"
   ]
  },
  {
   "cell_type": "code",
   "execution_count": 18,
   "id": "617fb086",
   "metadata": {
    "execution": {
     "iopub.execute_input": "2023-10-17T03:05:14.105940Z",
     "iopub.status.busy": "2023-10-17T03:05:14.105539Z",
     "iopub.status.idle": "2023-10-17T03:05:14.109668Z",
     "shell.execute_reply": "2023-10-17T03:05:14.108744Z"
    },
    "papermill": {
     "duration": 0.016939,
     "end_time": "2023-10-17T03:05:14.111587",
     "exception": false,
     "start_time": "2023-10-17T03:05:14.094648",
     "status": "completed"
    },
    "tags": []
   },
   "outputs": [],
   "source": [
    "#q5.c.hint()\n",
    "#q5.c.solution()"
   ]
  },
  {
   "cell_type": "markdown",
   "id": "c78a8fcd",
   "metadata": {
    "papermill": {
     "duration": 0.00966,
     "end_time": "2023-10-17T03:05:14.131470",
     "exception": false,
     "start_time": "2023-10-17T03:05:14.121810",
     "status": "completed"
    },
    "tags": []
   },
   "source": [
    "# 6. <span title=\"A bit spicy\" style=\"color: darkgreen \">🌶️</span>\n",
    "\n",
    "We’ve seen that calling `bool()` on an integer returns `False` if it’s equal to 0 and `True` otherwise. What happens if we call `int()` on a bool? Try it out in the notebook cell below.\n",
    "\n",
    "Can you take advantage of this to write a succinct function that corresponds to the English sentence \"does the customer want exactly one topping?\"?"
   ]
  },
  {
   "cell_type": "code",
   "execution_count": 19,
   "id": "edbe285b",
   "metadata": {
    "execution": {
     "iopub.execute_input": "2023-10-17T03:05:14.155889Z",
     "iopub.status.busy": "2023-10-17T03:05:14.155493Z",
     "iopub.status.idle": "2023-10-17T03:05:14.164316Z",
     "shell.execute_reply": "2023-10-17T03:05:14.163370Z"
    },
    "papermill": {
     "duration": 0.022436,
     "end_time": "2023-10-17T03:05:14.166455",
     "exception": false,
     "start_time": "2023-10-17T03:05:14.144019",
     "status": "completed"
    },
    "tags": []
   },
   "outputs": [
    {
     "data": {
      "application/javascript": [
       "parent.postMessage({\"jupyterEvent\": \"custom.exercise_interaction\", \"data\": {\"outcomeType\": 1, \"valueTowardsCompletion\": 0.2, \"interactionType\": 1, \"questionType\": 2, \"questionId\": \"6_OneTopping\", \"learnToolsVersion\": \"0.3.4\", \"failureMessage\": \"\", \"exceptionClass\": \"\", \"trace\": \"\"}}, \"*\")"
      ],
      "text/plain": [
       "<IPython.core.display.Javascript object>"
      ]
     },
     "metadata": {},
     "output_type": "display_data"
    },
    {
     "data": {
      "text/markdown": [
       "<span style=\"color:#33cc33\">Correct:</span> \n",
       "\n",
       "This condition would be pretty complicated to express using just `and`, `or` and `not`, but using boolean-to-integer conversion gives us this short solution:\n",
       "```python\n",
       "return (int(ketchup) + int(mustard) + int(onion)) == 1\n",
       "```\n",
       "\n",
       "Fun fact: we don't technically need to call `int` on the arguments. Just by doing addition with booleans, Python implicitly does the integer conversion. So we could also write...\n",
       "\n",
       "```python\n",
       "return (ketchup + mustard + onion) == 1\n",
       "```"
      ],
      "text/plain": [
       "Correct: \n",
       "\n",
       "This condition would be pretty complicated to express using just `and`, `or` and `not`, but using boolean-to-integer conversion gives us this short solution:\n",
       "```python\n",
       "return (int(ketchup) + int(mustard) + int(onion)) == 1\n",
       "```\n",
       "\n",
       "Fun fact: we don't technically need to call `int` on the arguments. Just by doing addition with booleans, Python implicitly does the integer conversion. So we could also write...\n",
       "\n",
       "```python\n",
       "return (ketchup + mustard + onion) == 1\n",
       "```"
      ]
     },
     "metadata": {},
     "output_type": "display_data"
    }
   ],
   "source": [
    "def exactly_one_topping(ketchup, mustard, onion):\n",
    "    \"\"\"Return whether the customer wants exactly one of the three available toppings\n",
    "    on their hot dog.\n",
    "    \"\"\"\n",
    "    return (int(ketchup) + int(mustard) + int(onion)) == 1\n",
    "    # return (ketchup + mustard + onion) == 1\n",
    "\n",
    "# Check your answer\n",
    "q6.check()"
   ]
  },
  {
   "cell_type": "code",
   "execution_count": 20,
   "id": "03887fb6",
   "metadata": {
    "execution": {
     "iopub.execute_input": "2023-10-17T03:05:14.188198Z",
     "iopub.status.busy": "2023-10-17T03:05:14.187839Z",
     "iopub.status.idle": "2023-10-17T03:05:14.192035Z",
     "shell.execute_reply": "2023-10-17T03:05:14.191058Z"
    },
    "papermill": {
     "duration": 0.017544,
     "end_time": "2023-10-17T03:05:14.194284",
     "exception": false,
     "start_time": "2023-10-17T03:05:14.176740",
     "status": "completed"
    },
    "tags": []
   },
   "outputs": [],
   "source": [
    "#q6.hint()\n",
    "#q6.solution()"
   ]
  },
  {
   "cell_type": "markdown",
   "id": "67fa9fb8",
   "metadata": {
    "papermill": {
     "duration": 0.010191,
     "end_time": "2023-10-17T03:05:14.214836",
     "exception": false,
     "start_time": "2023-10-17T03:05:14.204645",
     "status": "completed"
    },
    "tags": []
   },
   "source": [
    "# 7. <span title=\"A bit spicy\" style=\"color: darkgreen \">🌶️</span> (Optional)\n",
    "\n",
    "In this problem we'll be working with a simplified version of [blackjack](https://en.wikipedia.org/wiki/Blackjack) (aka twenty-one). In this version there is one player (who you'll control) and a dealer. Play proceeds as follows:\n",
    "\n",
    "- The player is dealt two face-up cards. The dealer is dealt one face-up card.\n",
    "- The player may ask to be dealt another card ('hit') as many times as they wish. If the sum of their cards exceeds 21, they lose the round immediately.\n",
    "- The dealer then deals additional cards to himself until either:\n",
    "    - the sum of the dealer's cards exceeds 21, in which case the player wins the round\n",
    "    - the sum of the dealer's cards is greater than or equal to 17. If the player's total is greater than the dealer's, the player wins. Otherwise, the dealer wins (even in case of a tie).\n",
    "    \n",
    "When calculating the sum of cards, Jack, Queen, and King count for 10. Aces can count as 1 or 11 (when referring to a player's \"total\" above, we mean the largest total that can be made without exceeding 21. So e.g. A+8 = 19, A+8+8 = 17)\n",
    "\n",
    "For this problem, you'll write a function representing the player's decision-making strategy in this game. We've provided a very unintelligent implementation below:"
   ]
  },
  {
   "cell_type": "code",
   "execution_count": 21,
   "id": "d6568c95",
   "metadata": {
    "execution": {
     "iopub.execute_input": "2023-10-17T03:05:14.239277Z",
     "iopub.status.busy": "2023-10-17T03:05:14.238299Z",
     "iopub.status.idle": "2023-10-17T03:05:14.243978Z",
     "shell.execute_reply": "2023-10-17T03:05:14.242907Z"
    },
    "papermill": {
     "duration": 0.020261,
     "end_time": "2023-10-17T03:05:14.245926",
     "exception": false,
     "start_time": "2023-10-17T03:05:14.225665",
     "status": "completed"
    },
    "tags": []
   },
   "outputs": [],
   "source": [
    "def should_hit(dealer_total, player_total, player_low_aces, player_high_aces):\n",
    "    \"\"\"Return True if the player should hit (request another card) given the current game\n",
    "    state, or False if the player should stay.\n",
    "    When calculating a hand's total value, we count aces as \"high\" (with value 11) if doing so\n",
    "    doesn't bring the total above 21, otherwise we count them as low (with value 1). \n",
    "    For example, if the player's hand is {A, A, A, 7}, we will count it as 11 + 1 + 1 + 7,\n",
    "    and therefore set player_total=20, player_low_aces=2, player_high_aces=1.\n",
    "    \"\"\"\n",
    "    return False"
   ]
  },
  {
   "cell_type": "markdown",
   "id": "79c7efc7",
   "metadata": {
    "papermill": {
     "duration": 0.010391,
     "end_time": "2023-10-17T03:05:14.267245",
     "exception": false,
     "start_time": "2023-10-17T03:05:14.256854",
     "status": "completed"
    },
    "tags": []
   },
   "source": [
    "This very conservative agent *always* sticks with the hand of two cards that they're dealt.\n",
    "\n",
    "We'll be simulating games between your player agent and our own dealer agent by calling your function.\n",
    "\n",
    "Try running the function below to see an example of a simulated game:"
   ]
  },
  {
   "cell_type": "code",
   "execution_count": 22,
   "id": "8183300a",
   "metadata": {
    "execution": {
     "iopub.execute_input": "2023-10-17T03:05:14.290160Z",
     "iopub.status.busy": "2023-10-17T03:05:14.289536Z",
     "iopub.status.idle": "2023-10-17T03:05:14.294834Z",
     "shell.execute_reply": "2023-10-17T03:05:14.293506Z"
    },
    "papermill": {
     "duration": 0.01895,
     "end_time": "2023-10-17T03:05:14.296839",
     "exception": false,
     "start_time": "2023-10-17T03:05:14.277889",
     "status": "completed"
    },
    "tags": []
   },
   "outputs": [
    {
     "name": "stdout",
     "output_type": "stream",
     "text": [
      "Player starts with 8 and 4 (total = 12)\n",
      "Dealer starts with 9\n",
      "\n",
      "__Player's turn__\n",
      "Player stays\n",
      "\n",
      "__Dealer's turn__\n",
      "Dealer hits and receives A. (total = 20)\n",
      "Dealer stands.\n",
      "Dealer wins. 20 >= 12\n"
     ]
    }
   ],
   "source": [
    "q7.simulate_one_game()"
   ]
  },
  {
   "cell_type": "markdown",
   "id": "92a0a4bb",
   "metadata": {
    "papermill": {
     "duration": 0.010533,
     "end_time": "2023-10-17T03:05:14.317952",
     "exception": false,
     "start_time": "2023-10-17T03:05:14.307419",
     "status": "completed"
    },
    "tags": []
   },
   "source": [
    "The real test of your agent's mettle is their average win rate over many games. Try calling the function below to simulate 50000 games of blackjack (it may take a couple seconds):"
   ]
  },
  {
   "cell_type": "code",
   "execution_count": 23,
   "id": "723b06f0",
   "metadata": {
    "execution": {
     "iopub.execute_input": "2023-10-17T03:05:14.340737Z",
     "iopub.status.busy": "2023-10-17T03:05:14.340402Z",
     "iopub.status.idle": "2023-10-17T03:05:15.422678Z",
     "shell.execute_reply": "2023-10-17T03:05:15.421643Z"
    },
    "papermill": {
     "duration": 1.097596,
     "end_time": "2023-10-17T03:05:15.426221",
     "exception": false,
     "start_time": "2023-10-17T03:05:14.328625",
     "status": "completed"
    },
    "tags": []
   },
   "outputs": [
    {
     "name": "stdout",
     "output_type": "stream",
     "text": [
      "Player won 18922 out of 50000 games (win rate = 37.8%)\n"
     ]
    }
   ],
   "source": [
    "q7.simulate(n_games=50000)"
   ]
  },
  {
   "cell_type": "markdown",
   "id": "4ce9a8f4",
   "metadata": {
    "papermill": {
     "duration": 0.014258,
     "end_time": "2023-10-17T03:05:15.461357",
     "exception": false,
     "start_time": "2023-10-17T03:05:15.447099",
     "status": "completed"
    },
    "tags": []
   },
   "source": [
    "Our dumb agent that completely ignores the game state still manages to win shockingly often!\n",
    "\n",
    "Try adding some more smarts to the `should_hit` function and see how it affects the results."
   ]
  },
  {
   "cell_type": "code",
   "execution_count": 24,
   "id": "5de59c9f",
   "metadata": {
    "execution": {
     "iopub.execute_input": "2023-10-17T03:05:15.485035Z",
     "iopub.status.busy": "2023-10-17T03:05:15.484136Z",
     "iopub.status.idle": "2023-10-17T03:05:16.619852Z",
     "shell.execute_reply": "2023-10-17T03:05:16.618610Z"
    },
    "papermill": {
     "duration": 1.150256,
     "end_time": "2023-10-17T03:05:16.622194",
     "exception": false,
     "start_time": "2023-10-17T03:05:15.471938",
     "status": "completed"
    },
    "tags": []
   },
   "outputs": [
    {
     "name": "stdout",
     "output_type": "stream",
     "text": [
      "Player won 19222 out of 50000 games (win rate = 38.4%)\n"
     ]
    }
   ],
   "source": [
    "def should_hit(dealer_total, player_total, player_low_aces, player_high_aces):\n",
    "    \"\"\"Return True if the player should hit (request another card) given the current game\n",
    "    state, or False if the player should stay.\n",
    "    When calculating a hand's total value, we count aces as \"high\" (with value 11) if doing so\n",
    "    doesn't bring the total above 21, otherwise we count them as low (with value 1). \n",
    "    For example, if the player's hand is {A, A, A, 7}, we will count it as 11 + 1 + 1 + 7,\n",
    "    and therefore set player_total=20, player_low_aces=2, player_high_aces=1.\n",
    "    \"\"\"\n",
    "    return False\n",
    "\n",
    "q7.simulate(n_games=50000)"
   ]
  },
  {
   "cell_type": "markdown",
   "id": "6a28c958",
   "metadata": {
    "papermill": {
     "duration": 0.00944,
     "end_time": "2023-10-17T03:05:16.641691",
     "exception": false,
     "start_time": "2023-10-17T03:05:16.632251",
     "status": "completed"
    },
    "tags": []
   },
   "source": [
    "# Keep Going\n",
    "\n",
    "Learn about **[lists and tuples](https://www.kaggle.com/colinmorris/lists)** to handle multiple items of data in a systematic way."
   ]
  },
  {
   "cell_type": "markdown",
   "id": "7fe6c28a",
   "metadata": {
    "papermill": {
     "duration": 0.009368,
     "end_time": "2023-10-17T03:05:16.660670",
     "exception": false,
     "start_time": "2023-10-17T03:05:16.651302",
     "status": "completed"
    },
    "tags": []
   },
   "source": [
    "---\n",
    "\n",
    "\n",
    "\n",
    "\n",
    "*Have questions or comments? Visit the [course discussion forum](https://www.kaggle.com/learn/python/discussion) to chat with other learners.*"
   ]
  }
 ],
 "metadata": {
  "kernelspec": {
   "display_name": "Python 3",
   "language": "python",
   "name": "python3"
  },
  "language_info": {
   "codemirror_mode": {
    "name": "ipython",
    "version": 3
   },
   "file_extension": ".py",
   "mimetype": "text/x-python",
   "name": "python",
   "nbconvert_exporter": "python",
   "pygments_lexer": "ipython3",
   "version": "3.10.12"
  },
  "papermill": {
   "default_parameters": {},
   "duration": 7.869894,
   "end_time": "2023-10-17T03:05:17.292250",
   "environment_variables": {},
   "exception": null,
   "input_path": "__notebook__.ipynb",
   "output_path": "__notebook__.ipynb",
   "parameters": {},
   "start_time": "2023-10-17T03:05:09.422356",
   "version": "2.4.0"
  }
 },
 "nbformat": 4,
 "nbformat_minor": 5
}
