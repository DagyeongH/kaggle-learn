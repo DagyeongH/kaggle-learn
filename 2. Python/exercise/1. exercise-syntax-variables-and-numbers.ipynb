{
 "cells": [
  {
   "cell_type": "markdown",
   "id": "8b996263",
   "metadata": {
    "papermill": {
     "duration": 0.004726,
     "end_time": "2023-10-16T03:05:34.128348",
     "exception": false,
     "start_time": "2023-10-16T03:05:34.123622",
     "status": "completed"
    },
    "tags": []
   },
   "source": [
    "**This notebook is an exercise in the [Python](https://www.kaggle.com/learn/python) course.  You can reference the tutorial at [this link](https://www.kaggle.com/colinmorris/hello-python).**\n",
    "\n",
    "---\n"
   ]
  },
  {
   "cell_type": "markdown",
   "id": "50a457a8",
   "metadata": {
    "papermill": {
     "duration": 0.003445,
     "end_time": "2023-10-16T03:05:34.135631",
     "exception": false,
     "start_time": "2023-10-16T03:05:34.132186",
     "status": "completed"
    },
    "tags": []
   },
   "source": [
    "Welcome to your first set of Python coding problems.  If this is your first time using Kaggle Notebooks, welcome! \n",
    "\n",
    "Notebooks are composed of blocks (called \"cells\") of text and code. Each of these is editable, though you'll mainly be editing the code cells to answer some questions.\n",
    "\n",
    "To get started, try running the code cell below (by pressing the ► button, or clicking on the cell and pressing ctrl+enter on your keyboard)."
   ]
  },
  {
   "cell_type": "code",
   "execution_count": 1,
   "id": "bf21fe78",
   "metadata": {
    "execution": {
     "iopub.execute_input": "2023-10-16T03:05:34.144872Z",
     "iopub.status.busy": "2023-10-16T03:05:34.144324Z",
     "iopub.status.idle": "2023-10-16T03:05:34.152215Z",
     "shell.execute_reply": "2023-10-16T03:05:34.151207Z"
    },
    "papermill": {
     "duration": 0.015098,
     "end_time": "2023-10-16T03:05:34.154360",
     "exception": false,
     "start_time": "2023-10-16T03:05:34.139262",
     "status": "completed"
    },
    "tags": []
   },
   "outputs": [
    {
     "name": "stdout",
     "output_type": "stream",
     "text": [
      "You've successfully run some Python code\n",
      "Congratulations!\n"
     ]
    }
   ],
   "source": [
    "print(\"You've successfully run some Python code\")\n",
    "print(\"Congratulations!\")"
   ]
  },
  {
   "cell_type": "markdown",
   "id": "93561443",
   "metadata": {
    "papermill": {
     "duration": 0.003721,
     "end_time": "2023-10-16T03:05:34.162582",
     "exception": false,
     "start_time": "2023-10-16T03:05:34.158861",
     "status": "completed"
    },
    "tags": []
   },
   "source": [
    "Try adding another line of code in the cell above and re-running it. \n",
    "\n",
    "Now let's get a little fancier:  Add a new code cell by clicking on an existing code cell, hitting the escape key, and then hitting the `a` or `b` key.  The `a` key will add a cell above the current cell, and `b` adds a cell below.\n",
    "\n",
    "Great! Now you know how to use Notebooks.\n",
    "\n",
    "Each hands-on exercise starts by setting up our feedback and code checking mechanism. Run the code cell below to do that. Then you'll be ready to move on to question 0."
   ]
  },
  {
   "cell_type": "code",
   "execution_count": 2,
   "id": "c4d6f5a3",
   "metadata": {
    "_kg_hide-input": true,
    "_kg_hide-output": true,
    "execution": {
     "iopub.execute_input": "2023-10-16T03:05:34.172505Z",
     "iopub.status.busy": "2023-10-16T03:05:34.172158Z",
     "iopub.status.idle": "2023-10-16T03:05:35.030462Z",
     "shell.execute_reply": "2023-10-16T03:05:35.029189Z"
    },
    "papermill": {
     "duration": 0.865862,
     "end_time": "2023-10-16T03:05:35.032560",
     "exception": false,
     "start_time": "2023-10-16T03:05:34.166698",
     "status": "completed"
    },
    "tags": []
   },
   "outputs": [
    {
     "name": "stdout",
     "output_type": "stream",
     "text": [
      "Setup complete! You're ready to start question 0.\n"
     ]
    }
   ],
   "source": [
    "from learntools.core import binder; binder.bind(globals())\n",
    "from learntools.python.ex1 import *\n",
    "print(\"Setup complete! You're ready to start question 0.\")"
   ]
  },
  {
   "cell_type": "markdown",
   "id": "0db2f168",
   "metadata": {
    "papermill": {
     "duration": 0.003613,
     "end_time": "2023-10-16T03:05:35.040417",
     "exception": false,
     "start_time": "2023-10-16T03:05:35.036804",
     "status": "completed"
    },
    "tags": []
   },
   "source": [
    "# 0.\n",
    "\n",
    "*This is a silly question intended as an introduction to the format we use for hands-on exercises throughout all Kaggle courses.*\n",
    "\n",
    "**What is your favorite color? **\n",
    "\n",
    "To complete this question, create a variable called `color` in the cell below with an appropriate value. The function call `q0.check()` (which we've already provided in the cell below) will check your answer."
   ]
  },
  {
   "cell_type": "code",
   "execution_count": 3,
   "id": "1999b598",
   "metadata": {
    "execution": {
     "iopub.execute_input": "2023-10-16T03:05:35.049720Z",
     "iopub.status.busy": "2023-10-16T03:05:35.049306Z",
     "iopub.status.idle": "2023-10-16T03:05:35.058329Z",
     "shell.execute_reply": "2023-10-16T03:05:35.057045Z"
    },
    "papermill": {
     "duration": 0.016188,
     "end_time": "2023-10-16T03:05:35.060445",
     "exception": false,
     "start_time": "2023-10-16T03:05:35.044257",
     "status": "completed"
    },
    "tags": []
   },
   "outputs": [
    {
     "name": "stdout",
     "output_type": "stream",
     "text": [
      "color = \"blue\"\n"
     ]
    },
    {
     "data": {
      "application/javascript": [
       "parent.postMessage({\"jupyterEvent\": \"custom.exercise_interaction\", \"data\": {\"outcomeType\": 4, \"interactionType\": 1, \"questionType\": 2, \"questionId\": \"0_ExerciseFormatTutorial\", \"learnToolsVersion\": \"0.3.4\", \"valueTowardsCompletion\": 0.0, \"failureMessage\": \"\", \"exceptionClass\": \"\", \"trace\": \"\"}}, \"*\")"
      ],
      "text/plain": [
       "<IPython.core.display.Javascript object>"
      ]
     },
     "metadata": {},
     "output_type": "display_data"
    },
    {
     "data": {
      "text/markdown": [
       "<span style=\"color:#ccaa33\">Check:</span> When you've updated the starter code, `check()` will tell you whether your code is correct. Remember, you must create the following variable: `color`"
      ],
      "text/plain": [
       "Check: When you've updated the starter code, `check()` will tell you whether your code is correct. Remember, you must create the following variable: `color`"
      ]
     },
     "metadata": {},
     "output_type": "display_data"
    }
   ],
   "source": [
    "# create a variable called color with an appropriate value on the line below\n",
    "# (Remember, strings in Python must be enclosed in 'single' or \"double\" quotes)\n",
    "print('color = \"blue\"')\n",
    "\n",
    "# Check your answer\n",
    "q0.check()"
   ]
  },
  {
   "cell_type": "markdown",
   "id": "69551ae0",
   "metadata": {
    "papermill": {
     "duration": 0.004091,
     "end_time": "2023-10-16T03:05:35.068995",
     "exception": false,
     "start_time": "2023-10-16T03:05:35.064904",
     "status": "completed"
    },
    "tags": []
   },
   "source": [
    "Didn't get the right answer? How do you not even know your own favorite color?!\n",
    "\n",
    "Delete the `#` in the line below to make one of the lines run. You can choose between getting a hint or the full answer by choosing which line to remove the `#` from. \n",
    "\n",
    "Removing the `#` is called uncommenting, because it changes that line from a \"comment\" which Python doesn't run to code, which Python does run."
   ]
  },
  {
   "cell_type": "code",
   "execution_count": 4,
   "id": "555ca317",
   "metadata": {
    "execution": {
     "iopub.execute_input": "2023-10-16T03:05:35.079212Z",
     "iopub.status.busy": "2023-10-16T03:05:35.078333Z",
     "iopub.status.idle": "2023-10-16T03:05:35.083384Z",
     "shell.execute_reply": "2023-10-16T03:05:35.082270Z"
    },
    "papermill": {
     "duration": 0.012546,
     "end_time": "2023-10-16T03:05:35.085595",
     "exception": false,
     "start_time": "2023-10-16T03:05:35.073049",
     "status": "completed"
    },
    "tags": []
   },
   "outputs": [],
   "source": [
    "# q0.hint()\n",
    "# q0.solution()"
   ]
  },
  {
   "cell_type": "markdown",
   "id": "9aa6e001",
   "metadata": {
    "papermill": {
     "duration": 0.003827,
     "end_time": "2023-10-16T03:05:35.093892",
     "exception": false,
     "start_time": "2023-10-16T03:05:35.090065",
     "status": "completed"
    },
    "tags": []
   },
   "source": [
    "The upcoming questions work the same way. The only thing that will change are the question numbers. For the next question, you'll call `q1.check()`, `q1.hint()`, `q1.solution()`, for question 2, you'll call `q2.check()`, and so on."
   ]
  },
  {
   "cell_type": "markdown",
   "id": "07406203",
   "metadata": {
    "papermill": {
     "duration": 0.003817,
     "end_time": "2023-10-16T03:05:35.101654",
     "exception": false,
     "start_time": "2023-10-16T03:05:35.097837",
     "status": "completed"
    },
    "tags": []
   },
   "source": [
    "<hr/>\n",
    "\n",
    "# 1.\n",
    "\n",
    "Complete the code below. In case it's helpful, here is the table of available arithmetic operations:\n",
    "\n",
    "\n",
    "\n",
    "| Operator     | Name           | Description                                            |\n",
    "|--------------|----------------|--------------------------------------------------------|\n",
    "| ``a + b``    | Addition       | Sum of ``a`` and ``b``                                 |\n",
    "| ``a - b``    | Subtraction    | Difference of ``a`` and ``b``                          |\n",
    "| ``a * b``    | Multiplication | Product of ``a`` and ``b``                             |\n",
    "| ``a / b``    | True division  | Quotient of ``a`` and ``b``                            |\n",
    "| ``a // b``   | Floor division | Quotient of ``a`` and ``b``, removing fractional parts |\n",
    "| ``a % b``    | Modulus        | Integer remainder after division of ``a`` by ``b``     |\n",
    "| ``a ** b``   | Exponentiation | ``a`` raised to the power of ``b``                     |\n",
    "| ``-a``       | Negation       | The negative of ``a``                                  |\n",
    "\n",
    "<span style=\"display:none\"></span>\n"
   ]
  },
  {
   "cell_type": "code",
   "execution_count": 5,
   "id": "6da900e9",
   "metadata": {
    "execution": {
     "iopub.execute_input": "2023-10-16T03:05:35.110954Z",
     "iopub.status.busy": "2023-10-16T03:05:35.110626Z",
     "iopub.status.idle": "2023-10-16T03:05:35.118823Z",
     "shell.execute_reply": "2023-10-16T03:05:35.117657Z"
    },
    "papermill": {
     "duration": 0.014883,
     "end_time": "2023-10-16T03:05:35.120487",
     "exception": false,
     "start_time": "2023-10-16T03:05:35.105604",
     "status": "completed"
    },
    "tags": []
   },
   "outputs": [
    {
     "data": {
      "application/javascript": [
       "parent.postMessage({\"jupyterEvent\": \"custom.exercise_interaction\", \"data\": {\"outcomeType\": 1, \"valueTowardsCompletion\": 0.25, \"interactionType\": 1, \"questionType\": 1, \"questionId\": \"1_CircleArea\", \"learnToolsVersion\": \"0.3.4\", \"failureMessage\": \"\", \"exceptionClass\": \"\", \"trace\": \"\"}}, \"*\")"
      ],
      "text/plain": [
       "<IPython.core.display.Javascript object>"
      ]
     },
     "metadata": {},
     "output_type": "display_data"
    },
    {
     "data": {
      "text/markdown": [
       "<span style=\"color:#33cc33\">Correct</span>"
      ],
      "text/plain": [
       "Correct"
      ]
     },
     "metadata": {},
     "output_type": "display_data"
    }
   ],
   "source": [
    "pi = 3.14159 # approximate\n",
    "diameter = 3\n",
    "\n",
    "# Create a variable called 'radius' equal to half the diameter\n",
    "radius = diameter / 2\n",
    "\n",
    "# Create a variable called 'area', using the formula for the area of a circle: pi times the radius squared\n",
    "area = pi * (radius ** 2)\n",
    "\n",
    "# Check your answer\n",
    "q1.check()"
   ]
  },
  {
   "cell_type": "code",
   "execution_count": 6,
   "id": "deaa2d8f",
   "metadata": {
    "execution": {
     "iopub.execute_input": "2023-10-16T03:05:35.130631Z",
     "iopub.status.busy": "2023-10-16T03:05:35.130275Z",
     "iopub.status.idle": "2023-10-16T03:05:35.135021Z",
     "shell.execute_reply": "2023-10-16T03:05:35.133438Z"
    },
    "papermill": {
     "duration": 0.012179,
     "end_time": "2023-10-16T03:05:35.137138",
     "exception": false,
     "start_time": "2023-10-16T03:05:35.124959",
     "status": "completed"
    },
    "tags": []
   },
   "outputs": [],
   "source": [
    "# Uncomment and run the lines below if you need help.\n",
    "#q1.hint()\n",
    "#q1.solution()"
   ]
  },
  {
   "cell_type": "markdown",
   "id": "a5f9e709",
   "metadata": {
    "papermill": {
     "duration": 0.003949,
     "end_time": "2023-10-16T03:05:35.145776",
     "exception": false,
     "start_time": "2023-10-16T03:05:35.141827",
     "status": "completed"
    },
    "tags": []
   },
   "source": [
    "<hr/>\n",
    "\n",
    "# 2.\n",
    "\n",
    "Add code to the following cell to swap variables `a` and `b` (so that `a` refers to the object previously referred to by `b` and vice versa)."
   ]
  },
  {
   "cell_type": "code",
   "execution_count": 7,
   "id": "6b72d56a",
   "metadata": {
    "execution": {
     "iopub.execute_input": "2023-10-16T03:05:35.157251Z",
     "iopub.status.busy": "2023-10-16T03:05:35.156866Z",
     "iopub.status.idle": "2023-10-16T03:05:35.166142Z",
     "shell.execute_reply": "2023-10-16T03:05:35.165241Z"
    },
    "papermill": {
     "duration": 0.017883,
     "end_time": "2023-10-16T03:05:35.167913",
     "exception": false,
     "start_time": "2023-10-16T03:05:35.150030",
     "status": "completed"
    },
    "tags": []
   },
   "outputs": [
    {
     "data": {
      "application/javascript": [
       "parent.postMessage({\"jupyterEvent\": \"custom.exercise_interaction\", \"data\": {\"outcomeType\": 1, \"valueTowardsCompletion\": 0.25, \"interactionType\": 1, \"questionType\": 2, \"questionId\": \"2_VariableSwap\", \"learnToolsVersion\": \"0.3.4\", \"failureMessage\": \"\", \"exceptionClass\": \"\", \"trace\": \"\"}}, \"*\")"
      ],
      "text/plain": [
       "<IPython.core.display.Javascript object>"
      ]
     },
     "metadata": {},
     "output_type": "display_data"
    },
    {
     "data": {
      "text/markdown": [
       "<span style=\"color:#33cc33\">Correct:</span> \n",
       "\n",
       "The most straightforward solution is to use a third variable to temporarily store one of the old values. e.g.:\n",
       "\n",
       "    tmp = a\n",
       "    a = b\n",
       "    b = tmp\n",
       "\n",
       "If you've read lots of Python code, you might have seen the following trick to swap two variables in one line:\n",
       "\n",
       "    a, b = b, a\n",
       "\n",
       "We'll demystify this bit of Python magic later when we talk about *tuples*."
      ],
      "text/plain": [
       "Correct: \n",
       "\n",
       "The most straightforward solution is to use a third variable to temporarily store one of the old values. e.g.:\n",
       "\n",
       "    tmp = a\n",
       "    a = b\n",
       "    b = tmp\n",
       "\n",
       "If you've read lots of Python code, you might have seen the following trick to swap two variables in one line:\n",
       "\n",
       "    a, b = b, a\n",
       "\n",
       "We'll demystify this bit of Python magic later when we talk about *tuples*."
      ]
     },
     "metadata": {},
     "output_type": "display_data"
    }
   ],
   "source": [
    "########### Setup code - don't touch this part ######################\n",
    "# If you're curious, these are examples of lists. We'll talk about \n",
    "# them in depth a few lessons from now. For now, just know that they're\n",
    "# yet another type of Python object, like int or float.\n",
    "a = [1, 2, 3]\n",
    "b = [3, 2, 1]\n",
    "q2.store_original_ids()\n",
    "######################################################################\n",
    "\n",
    "# Your code goes here. Swap the values to which a and b refer.\n",
    "# If you get stuck, you can always uncomment one or both of the lines in\n",
    "# the next cell for a hint, or to peek at the solution.\n",
    "tmp = a\n",
    "a = b\n",
    "b = tmp\n",
    "# a, b = b, a\n",
    "######################################################################\n",
    "\n",
    "# Check your answer\n",
    "q2.check()"
   ]
  },
  {
   "cell_type": "code",
   "execution_count": 8,
   "id": "c1774621",
   "metadata": {
    "execution": {
     "iopub.execute_input": "2023-10-16T03:05:35.178757Z",
     "iopub.status.busy": "2023-10-16T03:05:35.178418Z",
     "iopub.status.idle": "2023-10-16T03:05:35.183388Z",
     "shell.execute_reply": "2023-10-16T03:05:35.182273Z"
    },
    "papermill": {
     "duration": 0.012592,
     "end_time": "2023-10-16T03:05:35.185135",
     "exception": false,
     "start_time": "2023-10-16T03:05:35.172543",
     "status": "completed"
    },
    "tags": []
   },
   "outputs": [],
   "source": [
    "#q2.hint()"
   ]
  },
  {
   "cell_type": "code",
   "execution_count": 9,
   "id": "fe5d0130",
   "metadata": {
    "execution": {
     "iopub.execute_input": "2023-10-16T03:05:35.198175Z",
     "iopub.status.busy": "2023-10-16T03:05:35.197845Z",
     "iopub.status.idle": "2023-10-16T03:05:35.202384Z",
     "shell.execute_reply": "2023-10-16T03:05:35.201149Z"
    },
    "papermill": {
     "duration": 0.013828,
     "end_time": "2023-10-16T03:05:35.204571",
     "exception": false,
     "start_time": "2023-10-16T03:05:35.190743",
     "status": "completed"
    },
    "tags": []
   },
   "outputs": [],
   "source": [
    "#q2.solution()"
   ]
  },
  {
   "cell_type": "markdown",
   "id": "d50c314a",
   "metadata": {
    "papermill": {
     "duration": 0.004196,
     "end_time": "2023-10-16T03:05:35.213749",
     "exception": false,
     "start_time": "2023-10-16T03:05:35.209553",
     "status": "completed"
    },
    "tags": []
   },
   "source": [
    "<hr/>\n",
    "\n",
    "# 3a.\n",
    "\n",
    "Add parentheses to the following expression so that it evaluates to 1."
   ]
  },
  {
   "cell_type": "code",
   "execution_count": 10,
   "id": "817b2ad3",
   "metadata": {
    "execution": {
     "iopub.execute_input": "2023-10-16T03:05:35.224127Z",
     "iopub.status.busy": "2023-10-16T03:05:35.223730Z",
     "iopub.status.idle": "2023-10-16T03:05:35.230483Z",
     "shell.execute_reply": "2023-10-16T03:05:35.229230Z"
    },
    "papermill": {
     "duration": 0.014686,
     "end_time": "2023-10-16T03:05:35.232762",
     "exception": false,
     "start_time": "2023-10-16T03:05:35.218076",
     "status": "completed"
    },
    "tags": []
   },
   "outputs": [
    {
     "data": {
      "text/plain": [
       "1"
      ]
     },
     "execution_count": 10,
     "metadata": {},
     "output_type": "execute_result"
    }
   ],
   "source": [
    "(5 - 3) // 2"
   ]
  },
  {
   "cell_type": "code",
   "execution_count": 11,
   "id": "d82753ab",
   "metadata": {
    "execution": {
     "iopub.execute_input": "2023-10-16T03:05:35.243939Z",
     "iopub.status.busy": "2023-10-16T03:05:35.243596Z",
     "iopub.status.idle": "2023-10-16T03:05:35.248576Z",
     "shell.execute_reply": "2023-10-16T03:05:35.247415Z"
    },
    "papermill": {
     "duration": 0.012734,
     "end_time": "2023-10-16T03:05:35.250651",
     "exception": false,
     "start_time": "2023-10-16T03:05:35.237917",
     "status": "completed"
    },
    "tags": []
   },
   "outputs": [],
   "source": [
    "#q3.a.hint()"
   ]
  },
  {
   "cell_type": "code",
   "execution_count": 12,
   "id": "5efcbd90",
   "metadata": {
    "execution": {
     "iopub.execute_input": "2023-10-16T03:05:35.261696Z",
     "iopub.status.busy": "2023-10-16T03:05:35.261364Z",
     "iopub.status.idle": "2023-10-16T03:05:35.269280Z",
     "shell.execute_reply": "2023-10-16T03:05:35.268057Z"
    },
    "papermill": {
     "duration": 0.016075,
     "end_time": "2023-10-16T03:05:35.271670",
     "exception": false,
     "start_time": "2023-10-16T03:05:35.255595",
     "status": "completed"
    },
    "tags": []
   },
   "outputs": [
    {
     "data": {
      "application/javascript": [
       "parent.postMessage({\"jupyterEvent\": \"custom.exercise_interaction\", \"data\": {\"interactionType\": 3, \"questionType\": 4, \"questionId\": \"3.1_ArithmeticParensEasy\", \"learnToolsVersion\": \"0.3.4\", \"valueTowardsCompletion\": 0.0, \"failureMessage\": \"\", \"exceptionClass\": \"\", \"trace\": \"\", \"outcomeType\": 4}}, \"*\")"
      ],
      "text/plain": [
       "<IPython.core.display.Javascript object>"
      ]
     },
     "metadata": {},
     "output_type": "display_data"
    },
    {
     "data": {
      "text/markdown": [
       "<span style=\"color:#33cc99\">Solution:</span> \n",
       "```python\n",
       "(5 - 3) // 2\n",
       "```"
      ],
      "text/plain": [
       "Solution: \n",
       "```python\n",
       "(5 - 3) // 2\n",
       "```"
      ]
     },
     "metadata": {},
     "output_type": "display_data"
    }
   ],
   "source": [
    "# Check your answer (Run this code cell to receive credit!)\n",
    "q3.a.solution()"
   ]
  },
  {
   "cell_type": "markdown",
   "id": "893b2d2d",
   "metadata": {
    "papermill": {
     "duration": 0.005389,
     "end_time": "2023-10-16T03:05:35.282231",
     "exception": false,
     "start_time": "2023-10-16T03:05:35.276842",
     "status": "completed"
    },
    "tags": []
   },
   "source": [
    "# 3b.  <span title=\"A bit spicy\" style=\"color: darkgreen \">🌶️</span>\n",
    "\n",
    "<small>Questions, like this one, marked a spicy pepper are a bit harder.</small>\n",
    "\n",
    "Add parentheses to the following expression so that it evaluates to 0."
   ]
  },
  {
   "cell_type": "code",
   "execution_count": 13,
   "id": "468bf7a7",
   "metadata": {
    "execution": {
     "iopub.execute_input": "2023-10-16T03:05:35.293148Z",
     "iopub.status.busy": "2023-10-16T03:05:35.292825Z",
     "iopub.status.idle": "2023-10-16T03:05:35.298482Z",
     "shell.execute_reply": "2023-10-16T03:05:35.297392Z"
    },
    "papermill": {
     "duration": 0.012897,
     "end_time": "2023-10-16T03:05:35.299953",
     "exception": false,
     "start_time": "2023-10-16T03:05:35.287056",
     "status": "completed"
    },
    "tags": []
   },
   "outputs": [
    {
     "data": {
      "text/plain": [
       "0"
      ]
     },
     "execution_count": 13,
     "metadata": {},
     "output_type": "execute_result"
    }
   ],
   "source": [
    "(8 - 3) * (2 - (1 + 1))"
   ]
  },
  {
   "cell_type": "code",
   "execution_count": 14,
   "id": "37bdb23e",
   "metadata": {
    "execution": {
     "iopub.execute_input": "2023-10-16T03:05:35.311254Z",
     "iopub.status.busy": "2023-10-16T03:05:35.310864Z",
     "iopub.status.idle": "2023-10-16T03:05:35.316369Z",
     "shell.execute_reply": "2023-10-16T03:05:35.314644Z"
    },
    "papermill": {
     "duration": 0.013405,
     "end_time": "2023-10-16T03:05:35.318407",
     "exception": false,
     "start_time": "2023-10-16T03:05:35.305002",
     "status": "completed"
    },
    "tags": []
   },
   "outputs": [],
   "source": [
    "# q3.b.hint()"
   ]
  },
  {
   "cell_type": "code",
   "execution_count": 15,
   "id": "e2dc28f0",
   "metadata": {
    "execution": {
     "iopub.execute_input": "2023-10-16T03:05:35.329802Z",
     "iopub.status.busy": "2023-10-16T03:05:35.329496Z",
     "iopub.status.idle": "2023-10-16T03:05:35.337696Z",
     "shell.execute_reply": "2023-10-16T03:05:35.336517Z"
    },
    "papermill": {
     "duration": 0.016599,
     "end_time": "2023-10-16T03:05:35.340045",
     "exception": false,
     "start_time": "2023-10-16T03:05:35.323446",
     "status": "completed"
    },
    "tags": []
   },
   "outputs": [
    {
     "data": {
      "application/javascript": [
       "parent.postMessage({\"jupyterEvent\": \"custom.exercise_interaction\", \"data\": {\"interactionType\": 3, \"questionType\": 4, \"questionId\": \"3.2_ArithmeticParensHard\", \"learnToolsVersion\": \"0.3.4\", \"valueTowardsCompletion\": 0.0, \"failureMessage\": \"\", \"exceptionClass\": \"\", \"trace\": \"\", \"outcomeType\": 4}}, \"*\")"
      ],
      "text/plain": [
       "<IPython.core.display.Javascript object>"
      ]
     },
     "metadata": {},
     "output_type": "display_data"
    },
    {
     "data": {
      "text/markdown": [
       "<span style=\"color:#33cc99\">Solution:</span> `(8 - 3) * (2 - (1 + 1))` is one solution. There may be others."
      ],
      "text/plain": [
       "Solution: `(8 - 3) * (2 - (1 + 1))` is one solution. There may be others."
      ]
     },
     "metadata": {},
     "output_type": "display_data"
    }
   ],
   "source": [
    "# Check your answer (Run this code cell to receive credit!)\n",
    "q3.b.solution()"
   ]
  },
  {
   "cell_type": "markdown",
   "id": "65fd33c3",
   "metadata": {
    "papermill": {
     "duration": 0.004459,
     "end_time": "2023-10-16T03:05:35.349682",
     "exception": false,
     "start_time": "2023-10-16T03:05:35.345223",
     "status": "completed"
    },
    "tags": []
   },
   "source": [
    "<hr/>\n",
    "\n",
    "# 4. \n",
    "Alice, Bob and Carol have agreed to pool their Halloween candy and split it evenly among themselves.\n",
    "For the sake of their friendship, any candies left over will be smashed. For example, if they collectively\n",
    "bring home 91 candies, they'll take 30 each and smash 1.\n",
    "\n",
    "Write an arithmetic expression below to calculate how many candies they must smash for a given haul."
   ]
  },
  {
   "cell_type": "code",
   "execution_count": 16,
   "id": "f68df442",
   "metadata": {
    "execution": {
     "iopub.execute_input": "2023-10-16T03:05:35.360586Z",
     "iopub.status.busy": "2023-10-16T03:05:35.360272Z",
     "iopub.status.idle": "2023-10-16T03:05:35.368300Z",
     "shell.execute_reply": "2023-10-16T03:05:35.367496Z"
    },
    "papermill": {
     "duration": 0.016077,
     "end_time": "2023-10-16T03:05:35.370391",
     "exception": false,
     "start_time": "2023-10-16T03:05:35.354314",
     "status": "completed"
    },
    "tags": []
   },
   "outputs": [
    {
     "data": {
      "application/javascript": [
       "parent.postMessage({\"jupyterEvent\": \"custom.exercise_interaction\", \"data\": {\"outcomeType\": 1, \"valueTowardsCompletion\": 0.25, \"interactionType\": 1, \"questionType\": 1, \"questionId\": \"4_CandySplitting\", \"learnToolsVersion\": \"0.3.4\", \"failureMessage\": \"\", \"exceptionClass\": \"\", \"trace\": \"\"}}, \"*\")"
      ],
      "text/plain": [
       "<IPython.core.display.Javascript object>"
      ]
     },
     "metadata": {},
     "output_type": "display_data"
    },
    {
     "data": {
      "text/markdown": [
       "<span style=\"color:#33cc33\">Correct</span>"
      ],
      "text/plain": [
       "Correct"
      ]
     },
     "metadata": {},
     "output_type": "display_data"
    }
   ],
   "source": [
    "# Variables representing the number of candies collected by alice, bob, and carol\n",
    "alice_candies = 121\n",
    "bob_candies = 77\n",
    "carol_candies = 109\n",
    "\n",
    "# Your code goes here! Replace the right-hand side of this assignment with an expression\n",
    "# involving alice_candies, bob_candies, and carol_candies\n",
    "total_candies = alice_candies + bob_candies + carol_candies\n",
    "to_smash = total_candies % 3\n",
    "\n",
    "# Check your answer\n",
    "q4.check()"
   ]
  },
  {
   "cell_type": "code",
   "execution_count": 17,
   "id": "411b5d9b",
   "metadata": {
    "execution": {
     "iopub.execute_input": "2023-10-16T03:05:35.382728Z",
     "iopub.status.busy": "2023-10-16T03:05:35.382403Z",
     "iopub.status.idle": "2023-10-16T03:05:35.386879Z",
     "shell.execute_reply": "2023-10-16T03:05:35.386018Z"
    },
    "papermill": {
     "duration": 0.013073,
     "end_time": "2023-10-16T03:05:35.389359",
     "exception": false,
     "start_time": "2023-10-16T03:05:35.376286",
     "status": "completed"
    },
    "tags": []
   },
   "outputs": [],
   "source": [
    "#q4.hint()\n",
    "#q4.solution()"
   ]
  },
  {
   "cell_type": "markdown",
   "id": "570a24dc",
   "metadata": {
    "papermill": {
     "duration": 0.004563,
     "end_time": "2023-10-16T03:05:35.399152",
     "exception": false,
     "start_time": "2023-10-16T03:05:35.394589",
     "status": "completed"
    },
    "tags": []
   },
   "source": [
    "# Keep Going\n",
    "\n",
    "Next up, you'll **[learn to write new functions and understand functions others write](https://www.kaggle.com/colinmorris/functions-and-getting-help)**. This will make you at least 10 times more productive as a Python programmer. "
   ]
  },
  {
   "cell_type": "markdown",
   "id": "f5165d8a",
   "metadata": {
    "papermill": {
     "duration": 0.004499,
     "end_time": "2023-10-16T03:05:35.408315",
     "exception": false,
     "start_time": "2023-10-16T03:05:35.403816",
     "status": "completed"
    },
    "tags": []
   },
   "source": [
    "---\n",
    "\n",
    "\n",
    "\n",
    "\n",
    "*Have questions or comments? Visit the [course discussion forum](https://www.kaggle.com/learn/python/discussion) to chat with other learners.*"
   ]
  }
 ],
 "metadata": {
  "kernelspec": {
   "display_name": "Python 3",
   "language": "python",
   "name": "python3"
  },
  "language_info": {
   "codemirror_mode": {
    "name": "ipython",
    "version": 3
   },
   "file_extension": ".py",
   "mimetype": "text/x-python",
   "name": "python",
   "nbconvert_exporter": "python",
   "pygments_lexer": "ipython3",
   "version": "3.10.12"
  },
  "papermill": {
   "default_parameters": {},
   "duration": 5.627282,
   "end_time": "2023-10-16T03:05:35.831541",
   "environment_variables": {},
   "exception": null,
   "input_path": "__notebook__.ipynb",
   "output_path": "__notebook__.ipynb",
   "parameters": {},
   "start_time": "2023-10-16T03:05:30.204259",
   "version": "2.4.0"
  }
 },
 "nbformat": 4,
 "nbformat_minor": 5
}
