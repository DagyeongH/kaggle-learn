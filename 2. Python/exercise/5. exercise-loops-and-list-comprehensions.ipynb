{
 "cells": [
  {
   "cell_type": "markdown",
   "id": "db7cc22e",
   "metadata": {
    "papermill": {
     "duration": 0.006276,
     "end_time": "2023-10-20T07:40:47.444811",
     "exception": false,
     "start_time": "2023-10-20T07:40:47.438535",
     "status": "completed"
    },
    "tags": []
   },
   "source": [
    "**This notebook is an exercise in the [Python](https://www.kaggle.com/learn/python) course.  You can reference the tutorial at [this link](https://www.kaggle.com/colinmorris/loops-and-list-comprehensions).**\n",
    "\n",
    "---\n"
   ]
  },
  {
   "cell_type": "markdown",
   "id": "3ea6e788",
   "metadata": {
    "papermill": {
     "duration": 0.004175,
     "end_time": "2023-10-20T07:40:47.453766",
     "exception": false,
     "start_time": "2023-10-20T07:40:47.449591",
     "status": "completed"
    },
    "tags": []
   },
   "source": [
    "With all you've learned, you can start writing much more interesting programs. See if you can solve the problems below.\n",
    "\n",
    "As always, run the setup code below before working on the questions."
   ]
  },
  {
   "cell_type": "code",
   "execution_count": 1,
   "id": "6ce9c41f",
   "metadata": {
    "execution": {
     "iopub.execute_input": "2023-10-20T07:40:47.464741Z",
     "iopub.status.busy": "2023-10-20T07:40:47.463822Z",
     "iopub.status.idle": "2023-10-20T07:40:47.881597Z",
     "shell.execute_reply": "2023-10-20T07:40:47.880233Z"
    },
    "papermill": {
     "duration": 0.425652,
     "end_time": "2023-10-20T07:40:47.883864",
     "exception": false,
     "start_time": "2023-10-20T07:40:47.458212",
     "status": "completed"
    },
    "tags": []
   },
   "outputs": [
    {
     "name": "stdout",
     "output_type": "stream",
     "text": [
      "Setup complete.\n"
     ]
    }
   ],
   "source": [
    "from learntools.core import binder; binder.bind(globals())\n",
    "from learntools.python.ex5 import *\n",
    "print('Setup complete.')"
   ]
  },
  {
   "cell_type": "markdown",
   "id": "150d161b",
   "metadata": {
    "papermill": {
     "duration": 0.004636,
     "end_time": "2023-10-20T07:40:47.893510",
     "exception": false,
     "start_time": "2023-10-20T07:40:47.888874",
     "status": "completed"
    },
    "tags": []
   },
   "source": [
    "# 1.\n",
    "\n",
    "Have you ever felt debugging involved a bit of luck? The following program has a bug. Try to identify the bug and fix it."
   ]
  },
  {
   "cell_type": "code",
   "execution_count": 2,
   "id": "25212c16",
   "metadata": {
    "execution": {
     "iopub.execute_input": "2023-10-20T07:40:47.904926Z",
     "iopub.status.busy": "2023-10-20T07:40:47.904385Z",
     "iopub.status.idle": "2023-10-20T07:40:47.909941Z",
     "shell.execute_reply": "2023-10-20T07:40:47.908744Z"
    },
    "papermill": {
     "duration": 0.014301,
     "end_time": "2023-10-20T07:40:47.912547",
     "exception": false,
     "start_time": "2023-10-20T07:40:47.898246",
     "status": "completed"
    },
    "tags": []
   },
   "outputs": [],
   "source": [
    "def has_lucky_number(nums):\n",
    "    \"\"\"Return whether the given list of numbers is lucky. A lucky list contains\n",
    "    at least one number divisible by 7.\n",
    "    \"\"\"\n",
    "    for num in nums:\n",
    "        if num % 7 == 0:\n",
    "            return True\n",
    "        else:\n",
    "            return False"
   ]
  },
  {
   "cell_type": "markdown",
   "id": "d6c8c0b4",
   "metadata": {
    "papermill": {
     "duration": 0.004542,
     "end_time": "2023-10-20T07:40:47.922115",
     "exception": false,
     "start_time": "2023-10-20T07:40:47.917573",
     "status": "completed"
    },
    "tags": []
   },
   "source": [
    "Try to identify the bug and fix it in the cell below:"
   ]
  },
  {
   "cell_type": "code",
   "execution_count": 3,
   "id": "0eeb7326",
   "metadata": {
    "execution": {
     "iopub.execute_input": "2023-10-20T07:40:47.933670Z",
     "iopub.status.busy": "2023-10-20T07:40:47.933252Z",
     "iopub.status.idle": "2023-10-20T07:40:47.945249Z",
     "shell.execute_reply": "2023-10-20T07:40:47.943986Z"
    },
    "papermill": {
     "duration": 0.020774,
     "end_time": "2023-10-20T07:40:47.947649",
     "exception": false,
     "start_time": "2023-10-20T07:40:47.926875",
     "status": "completed"
    },
    "tags": []
   },
   "outputs": [
    {
     "data": {
      "application/javascript": [
       "parent.postMessage({\"jupyterEvent\": \"custom.exercise_interaction\", \"data\": {\"outcomeType\": 1, \"valueTowardsCompletion\": 0.25, \"interactionType\": 1, \"questionType\": 2, \"questionId\": \"1_EarlyExitDebugging\", \"learnToolsVersion\": \"0.3.4\", \"failureMessage\": \"\", \"exceptionClass\": \"\", \"trace\": \"\"}}, \"*\")"
      ],
      "text/plain": [
       "<IPython.core.display.Javascript object>"
      ]
     },
     "metadata": {},
     "output_type": "display_data"
    },
    {
     "data": {
      "text/markdown": [
       "<span style=\"color:#33cc33\">Correct:</span> \n",
       "\n",
       "Remember that `return` causes a function to exit immediately. So our original implementation always ran for just one iteration. We can only return `False` if we've looked at every element of the list (and confirmed that none of them are lucky). Though we can return early if the answer is `True`:\n",
       "\n",
       "```python\n",
       "def has_lucky_number(nums):\n",
       "    for num in nums:\n",
       "        if num % 7 == 0:\n",
       "            return True\n",
       "    # We've exhausted the list without finding a lucky number\n",
       "    return False\n",
       "```\n",
       "\n",
       "Here's a one-line version using a list comprehension with Python's `any` function (you can read about what it does by calling `help(any)`):\n",
       "\n",
       "```python\n",
       "def has_lucky_number(nums):\n",
       "    return any([num % 7 == 0 for num in nums])\n",
       "```\n"
      ],
      "text/plain": [
       "Correct: \n",
       "\n",
       "Remember that `return` causes a function to exit immediately. So our original implementation always ran for just one iteration. We can only return `False` if we've looked at every element of the list (and confirmed that none of them are lucky). Though we can return early if the answer is `True`:\n",
       "\n",
       "```python\n",
       "def has_lucky_number(nums):\n",
       "    for num in nums:\n",
       "        if num % 7 == 0:\n",
       "            return True\n",
       "    # We've exhausted the list without finding a lucky number\n",
       "    return False\n",
       "```\n",
       "\n",
       "Here's a one-line version using a list comprehension with Python's `any` function (you can read about what it does by calling `help(any)`):\n",
       "\n",
       "```python\n",
       "def has_lucky_number(nums):\n",
       "    return any([num % 7 == 0 for num in nums])\n",
       "```"
      ]
     },
     "metadata": {},
     "output_type": "display_data"
    }
   ],
   "source": [
    "def has_lucky_number(nums):\n",
    "    \"\"\"Return whether the given list of numbers is lucky. A lucky list contains\n",
    "    at least one number divisible by 7.\n",
    "    \"\"\"\n",
    "    result = False\n",
    "    for num in nums:\n",
    "        if num % 7 == 0:\n",
    "            result = True\n",
    "            break\n",
    "        else:\n",
    "            result = False\n",
    "    return result\n",
    "\n",
    "# Check your answer\n",
    "q1.check()"
   ]
  },
  {
   "cell_type": "code",
   "execution_count": 4,
   "id": "29e3603c",
   "metadata": {
    "execution": {
     "iopub.execute_input": "2023-10-20T07:40:47.962000Z",
     "iopub.status.busy": "2023-10-20T07:40:47.960810Z",
     "iopub.status.idle": "2023-10-20T07:40:47.965744Z",
     "shell.execute_reply": "2023-10-20T07:40:47.964635Z"
    },
    "papermill": {
     "duration": 0.013822,
     "end_time": "2023-10-20T07:40:47.967747",
     "exception": false,
     "start_time": "2023-10-20T07:40:47.953925",
     "status": "completed"
    },
    "tags": []
   },
   "outputs": [],
   "source": [
    "#q1.hint()\n",
    "#q1.solution()"
   ]
  },
  {
   "cell_type": "markdown",
   "id": "02ae1179",
   "metadata": {
    "papermill": {
     "duration": 0.004745,
     "end_time": "2023-10-20T07:40:47.977859",
     "exception": false,
     "start_time": "2023-10-20T07:40:47.973114",
     "status": "completed"
    },
    "tags": []
   },
   "source": [
    "# 2.\n",
    "Look at the Python expression below. What do you think we'll get when we run it? When you've made your prediction, uncomment the code and run the cell to see if you were right."
   ]
  },
  {
   "cell_type": "code",
   "execution_count": 5,
   "id": "3852269c",
   "metadata": {
    "execution": {
     "iopub.execute_input": "2023-10-20T07:40:47.989688Z",
     "iopub.status.busy": "2023-10-20T07:40:47.989084Z",
     "iopub.status.idle": "2023-10-20T07:40:47.994051Z",
     "shell.execute_reply": "2023-10-20T07:40:47.992866Z"
    },
    "papermill": {
     "duration": 0.013656,
     "end_time": "2023-10-20T07:40:47.996399",
     "exception": false,
     "start_time": "2023-10-20T07:40:47.982743",
     "status": "completed"
    },
    "tags": []
   },
   "outputs": [],
   "source": [
    "#[1, 2, 3, 4] > 2"
   ]
  },
  {
   "cell_type": "markdown",
   "id": "3fb9743b",
   "metadata": {
    "papermill": {
     "duration": 0.005221,
     "end_time": "2023-10-20T07:40:48.008983",
     "exception": false,
     "start_time": "2023-10-20T07:40:48.003762",
     "status": "completed"
    },
    "tags": []
   },
   "source": [
    "R and Python have some libraries (like numpy and pandas) compare each element of the list to 2 (i.e. do an 'element-wise' comparison) and give us a list of booleans like `[False, False, True, True]`. \n",
    "\n",
    "Implement a function that reproduces this behaviour, returning a list of booleans corresponding to whether the corresponding element is greater than n."
   ]
  },
  {
   "cell_type": "code",
   "execution_count": 6,
   "id": "0ff9a033",
   "metadata": {
    "execution": {
     "iopub.execute_input": "2023-10-20T07:40:48.021106Z",
     "iopub.status.busy": "2023-10-20T07:40:48.020716Z",
     "iopub.status.idle": "2023-10-20T07:40:48.030863Z",
     "shell.execute_reply": "2023-10-20T07:40:48.029666Z"
    },
    "papermill": {
     "duration": 0.019045,
     "end_time": "2023-10-20T07:40:48.033381",
     "exception": false,
     "start_time": "2023-10-20T07:40:48.014336",
     "status": "completed"
    },
    "tags": []
   },
   "outputs": [
    {
     "data": {
      "application/javascript": [
       "parent.postMessage({\"jupyterEvent\": \"custom.exercise_interaction\", \"data\": {\"outcomeType\": 1, \"valueTowardsCompletion\": 0.25, \"interactionType\": 1, \"questionType\": 2, \"questionId\": \"2_ElementWiseComparison\", \"learnToolsVersion\": \"0.3.4\", \"failureMessage\": \"\", \"exceptionClass\": \"\", \"trace\": \"\"}}, \"*\")"
      ],
      "text/plain": [
       "<IPython.core.display.Javascript object>"
      ]
     },
     "metadata": {},
     "output_type": "display_data"
    },
    {
     "data": {
      "text/markdown": [
       "<span style=\"color:#33cc33\">Correct:</span> \n",
       "\n",
       "Here's one solution:\n",
       "```python\n",
       "def elementwise_greater_than(L, thresh):\n",
       "    res = []\n",
       "    for ele in L:\n",
       "        res.append(ele > thresh)\n",
       "    return res\n",
       "```\n",
       "\n",
       "And here's the list comprehension version:\n",
       "```python\n",
       "def elementwise_greater_than(L, thresh):\n",
       "    return [ele > thresh for ele in L]\n",
       "```\n"
      ],
      "text/plain": [
       "Correct: \n",
       "\n",
       "Here's one solution:\n",
       "```python\n",
       "def elementwise_greater_than(L, thresh):\n",
       "    res = []\n",
       "    for ele in L:\n",
       "        res.append(ele > thresh)\n",
       "    return res\n",
       "```\n",
       "\n",
       "And here's the list comprehension version:\n",
       "```python\n",
       "def elementwise_greater_than(L, thresh):\n",
       "    return [ele > thresh for ele in L]\n",
       "```"
      ]
     },
     "metadata": {},
     "output_type": "display_data"
    }
   ],
   "source": [
    "def elementwise_greater_than(L, thresh):\n",
    "    \"\"\"Return a list with the same length as L, where the value at index i is \n",
    "    True if L[i] is greater than thresh, and False otherwise.\n",
    "    \n",
    "    >>> elementwise_greater_than([1, 2, 3, 4], 2)\n",
    "    [False, False, True, True]\n",
    "    \"\"\"\n",
    "    return [l>thresh for l in L]\n",
    "\n",
    "# Check your answer\n",
    "q2.check()"
   ]
  },
  {
   "cell_type": "code",
   "execution_count": 7,
   "id": "ba75c19a",
   "metadata": {
    "execution": {
     "iopub.execute_input": "2023-10-20T07:40:48.046332Z",
     "iopub.status.busy": "2023-10-20T07:40:48.045638Z",
     "iopub.status.idle": "2023-10-20T07:40:48.049781Z",
     "shell.execute_reply": "2023-10-20T07:40:48.049015Z"
    },
    "papermill": {
     "duration": 0.013067,
     "end_time": "2023-10-20T07:40:48.051893",
     "exception": false,
     "start_time": "2023-10-20T07:40:48.038826",
     "status": "completed"
    },
    "tags": []
   },
   "outputs": [],
   "source": [
    "#q2.solution()"
   ]
  },
  {
   "cell_type": "markdown",
   "id": "582fb6cf",
   "metadata": {
    "papermill": {
     "duration": 0.005113,
     "end_time": "2023-10-20T07:40:48.062430",
     "exception": false,
     "start_time": "2023-10-20T07:40:48.057317",
     "status": "completed"
    },
    "tags": []
   },
   "source": [
    "# 3.\n",
    "\n",
    "Complete the body of the function below according to its docstring."
   ]
  },
  {
   "cell_type": "code",
   "execution_count": 8,
   "id": "c2b28722",
   "metadata": {
    "execution": {
     "iopub.execute_input": "2023-10-20T07:40:48.075286Z",
     "iopub.status.busy": "2023-10-20T07:40:48.074586Z",
     "iopub.status.idle": "2023-10-20T07:40:48.082503Z",
     "shell.execute_reply": "2023-10-20T07:40:48.081762Z"
    },
    "papermill": {
     "duration": 0.016732,
     "end_time": "2023-10-20T07:40:48.084379",
     "exception": false,
     "start_time": "2023-10-20T07:40:48.067647",
     "status": "completed"
    },
    "tags": []
   },
   "outputs": [
    {
     "data": {
      "application/javascript": [
       "parent.postMessage({\"jupyterEvent\": \"custom.exercise_interaction\", \"data\": {\"outcomeType\": 1, \"valueTowardsCompletion\": 0.25, \"interactionType\": 1, \"questionType\": 2, \"questionId\": \"3_BoringMenu\", \"learnToolsVersion\": \"0.3.4\", \"failureMessage\": \"\", \"exceptionClass\": \"\", \"trace\": \"\"}}, \"*\")"
      ],
      "text/plain": [
       "<IPython.core.display.Javascript object>"
      ]
     },
     "metadata": {},
     "output_type": "display_data"
    },
    {
     "data": {
      "text/markdown": [
       "<span style=\"color:#33cc33\">Correct:</span> \n",
       "\n",
       "\n",
       "\n",
       "```python\n",
       "def menu_is_boring(meals):\n",
       "    # Iterate over all indices of the list, except the last one\n",
       "    for i in range(len(meals)-1):\n",
       "        if meals[i] == meals[i+1]:\n",
       "            return True\n",
       "    return False\n",
       "```\n",
       "\n",
       "The key to our solution is the call to `range`. `range(len(meals))` would give us all the indices of `meals`. If we had used that range, the last iteration of the loop would be comparing the last element to the element after it, which is... `IndexError`! `range(len(meals)-1)` gives us all the indices except the index of the last element.\n",
       "\n",
       "But don't we need to check if `meals` is empty? Turns out that `range(0) == range(-1)` - they're both empty. So if `meals` has length 0 or 1, we just won't do any iterations of our for loop.\n"
      ],
      "text/plain": [
       "Correct: \n",
       "\n",
       "\n",
       "\n",
       "```python\n",
       "def menu_is_boring(meals):\n",
       "    # Iterate over all indices of the list, except the last one\n",
       "    for i in range(len(meals)-1):\n",
       "        if meals[i] == meals[i+1]:\n",
       "            return True\n",
       "    return False\n",
       "```\n",
       "\n",
       "The key to our solution is the call to `range`. `range(len(meals))` would give us all the indices of `meals`. If we had used that range, the last iteration of the loop would be comparing the last element to the element after it, which is... `IndexError`! `range(len(meals)-1)` gives us all the indices except the index of the last element.\n",
       "\n",
       "But don't we need to check if `meals` is empty? Turns out that `range(0) == range(-1)` - they're both empty. So if `meals` has length 0 or 1, we just won't do any iterations of our for loop."
      ]
     },
     "metadata": {},
     "output_type": "display_data"
    }
   ],
   "source": [
    "def menu_is_boring(meals):\n",
    "    \"\"\"Given a list of meals served over some period of time, return True if the\n",
    "    same meal has ever been served two days in a row, and False otherwise.\n",
    "    \"\"\"\n",
    "    result = False\n",
    "    for idx in range(1, len(meals)):\n",
    "        if meals[idx-1] == meals[idx]:\n",
    "            result = True\n",
    "            break\n",
    "    return result\n",
    "\n",
    "# Check your answer\n",
    "q3.check()"
   ]
  },
  {
   "cell_type": "code",
   "execution_count": 9,
   "id": "695b6a12",
   "metadata": {
    "execution": {
     "iopub.execute_input": "2023-10-20T07:40:48.097753Z",
     "iopub.status.busy": "2023-10-20T07:40:48.097226Z",
     "iopub.status.idle": "2023-10-20T07:40:48.101864Z",
     "shell.execute_reply": "2023-10-20T07:40:48.100612Z"
    },
    "papermill": {
     "duration": 0.014041,
     "end_time": "2023-10-20T07:40:48.103946",
     "exception": false,
     "start_time": "2023-10-20T07:40:48.089905",
     "status": "completed"
    },
    "tags": []
   },
   "outputs": [],
   "source": [
    "#q3.hint()\n",
    "#q3.solution()"
   ]
  },
  {
   "cell_type": "markdown",
   "id": "cfd84b30",
   "metadata": {
    "papermill": {
     "duration": 0.005151,
     "end_time": "2023-10-20T07:40:48.114758",
     "exception": false,
     "start_time": "2023-10-20T07:40:48.109607",
     "status": "completed"
    },
    "tags": []
   },
   "source": [
    "# 4. <span title=\"A bit spicy\" style=\"color: darkgreen \">🌶️</span>\n",
    "\n",
    "Next to the Blackjack table, the Python Challenge Casino has a slot machine. You can get a result from the slot machine by calling `play_slot_machine()`. The number it returns is your winnings in dollars. Usually it returns 0.  But sometimes you'll get lucky and get a big payday. Try running it below:"
   ]
  },
  {
   "cell_type": "code",
   "execution_count": 10,
   "id": "dba81e5c",
   "metadata": {
    "execution": {
     "iopub.execute_input": "2023-10-20T07:40:48.128508Z",
     "iopub.status.busy": "2023-10-20T07:40:48.128016Z",
     "iopub.status.idle": "2023-10-20T07:40:48.135343Z",
     "shell.execute_reply": "2023-10-20T07:40:48.134182Z"
    },
    "papermill": {
     "duration": 0.01692,
     "end_time": "2023-10-20T07:40:48.137561",
     "exception": false,
     "start_time": "2023-10-20T07:40:48.120641",
     "status": "completed"
    },
    "tags": []
   },
   "outputs": [
    {
     "data": {
      "text/plain": [
       "1.5"
      ]
     },
     "execution_count": 10,
     "metadata": {},
     "output_type": "execute_result"
    }
   ],
   "source": [
    "play_slot_machine()"
   ]
  },
  {
   "cell_type": "markdown",
   "id": "954f0c18",
   "metadata": {
    "papermill": {
     "duration": 0.005254,
     "end_time": "2023-10-20T07:40:48.148347",
     "exception": false,
     "start_time": "2023-10-20T07:40:48.143093",
     "status": "completed"
    },
    "tags": []
   },
   "source": [
    "By the way, did we mention that each play costs $1? Don't worry, we'll send you the bill later.\n",
    "\n",
    "On average, how much money can you expect to gain (or lose) every time you play the machine?  The casino keeps it a secret, but you can estimate the average value of each pull using a technique called the **Monte Carlo method**. To estimate the average outcome, we simulate the scenario many times, and return the average result.\n",
    "\n",
    "Complete the following function to calculate the average value per play of the slot machine."
   ]
  },
  {
   "cell_type": "code",
   "execution_count": 11,
   "id": "5a7c95e2",
   "metadata": {
    "execution": {
     "iopub.execute_input": "2023-10-20T07:40:48.162438Z",
     "iopub.status.busy": "2023-10-20T07:40:48.161636Z",
     "iopub.status.idle": "2023-10-20T07:40:48.167095Z",
     "shell.execute_reply": "2023-10-20T07:40:48.165826Z"
    },
    "papermill": {
     "duration": 0.014982,
     "end_time": "2023-10-20T07:40:48.169217",
     "exception": false,
     "start_time": "2023-10-20T07:40:48.154235",
     "status": "completed"
    },
    "tags": []
   },
   "outputs": [],
   "source": [
    "def estimate_average_slot_payout(n_runs):\n",
    "    \"\"\"Run the slot machine n_runs times and return the average net profit per run.\n",
    "    Example calls (note that return value is nondeterministic!):\n",
    "    >>> estimate_average_slot_payout(1)\n",
    "    -1\n",
    "    >>> estimate_average_slot_payout(1)\n",
    "    0.5\n",
    "    \"\"\"\n",
    "    playings = [play_slot_machine()-1 for i in range(n_runs)]\n",
    "    return sum(playings) / n_runs"
   ]
  },
  {
   "cell_type": "markdown",
   "id": "1280ae70",
   "metadata": {
    "papermill": {
     "duration": 0.005429,
     "end_time": "2023-10-20T07:40:48.180383",
     "exception": false,
     "start_time": "2023-10-20T07:40:48.174954",
     "status": "completed"
    },
    "tags": []
   },
   "source": [
    "When you think you know the expected value per spin, run the code cell below to view the solution and get credit for answering the question."
   ]
  },
  {
   "cell_type": "code",
   "execution_count": 12,
   "id": "0a6e9125",
   "metadata": {
    "execution": {
     "iopub.execute_input": "2023-10-20T07:40:48.193547Z",
     "iopub.status.busy": "2023-10-20T07:40:48.193074Z",
     "iopub.status.idle": "2023-10-20T07:40:48.203030Z",
     "shell.execute_reply": "2023-10-20T07:40:48.201917Z"
    },
    "papermill": {
     "duration": 0.019128,
     "end_time": "2023-10-20T07:40:48.205234",
     "exception": false,
     "start_time": "2023-10-20T07:40:48.186106",
     "status": "completed"
    },
    "tags": []
   },
   "outputs": [
    {
     "data": {
      "application/javascript": [
       "parent.postMessage({\"jupyterEvent\": \"custom.exercise_interaction\", \"data\": {\"interactionType\": 3, \"questionType\": 4, \"questionId\": \"4_ExpectedSlotsPayout\", \"learnToolsVersion\": \"0.3.4\", \"valueTowardsCompletion\": 0.0, \"failureMessage\": \"\", \"exceptionClass\": \"\", \"trace\": \"\", \"outcomeType\": 4}}, \"*\")"
      ],
      "text/plain": [
       "<IPython.core.display.Javascript object>"
      ]
     },
     "metadata": {},
     "output_type": "display_data"
    },
    {
     "data": {
      "text/markdown": [
       "<span style=\"color:#33cc99\">Solution:</span> \n",
       "    \n",
       "The exact expected value of one pull of the slot machine is 0.025 - i.e. a little more than 2 cents.  See?  Not every game in the Python Challenge Casino is rigged against the player!\n",
       "\n",
       "In order to get this answer, you'll need to implement the `estimate_average_slot_payout(n_runs)` function to simulate pulling the slot machine `n_runs` times.  It should return the payout averaged over those `n_runs`.\n",
       "\n",
       "Then, once the function is defined, in order to estimate the average slot payout, we need only call the function.\n",
       "\n",
       "Because of the high variance of the outcome (there are some very rare high payout results that significantly affect the average) you might need to run your function with a very high value of `n_runs` to get a stable answer close to the true expectation.  For instance, you might use a value for `n_runs` of 1000000.\n",
       "\n",
       "Here's an example for how the function could look:\n",
       "```python\n",
       "def estimate_average_slot_payout(n_runs):\n",
       "    # Play slot machine n_runs times, calculate payout of each\n",
       "    payouts = [play_slot_machine()-1 for i in range(n_runs)]\n",
       "    # Calculate the average value\n",
       "    avg_payout = sum(payouts) / n_runs\n",
       "    return avg_payout\n",
       "    \n",
       "estimate_average_slot_payout(10000000)\n",
       "\n",
       "```\n",
       "\n",
       "This should return an answer close to 0.025!\n",
       "            \n"
      ],
      "text/plain": [
       "Solution: \n",
       "    \n",
       "The exact expected value of one pull of the slot machine is 0.025 - i.e. a little more than 2 cents.  See?  Not every game in the Python Challenge Casino is rigged against the player!\n",
       "\n",
       "In order to get this answer, you'll need to implement the `estimate_average_slot_payout(n_runs)` function to simulate pulling the slot machine `n_runs` times.  It should return the payout averaged over those `n_runs`.\n",
       "\n",
       "Then, once the function is defined, in order to estimate the average slot payout, we need only call the function.\n",
       "\n",
       "Because of the high variance of the outcome (there are some very rare high payout results that significantly affect the average) you might need to run your function with a very high value of `n_runs` to get a stable answer close to the true expectation.  For instance, you might use a value for `n_runs` of 1000000.\n",
       "\n",
       "Here's an example for how the function could look:\n",
       "```python\n",
       "def estimate_average_slot_payout(n_runs):\n",
       "    # Play slot machine n_runs times, calculate payout of each\n",
       "    payouts = [play_slot_machine()-1 for i in range(n_runs)]\n",
       "    # Calculate the average value\n",
       "    avg_payout = sum(payouts) / n_runs\n",
       "    return avg_payout\n",
       "    \n",
       "estimate_average_slot_payout(10000000)\n",
       "\n",
       "```\n",
       "\n",
       "This should return an answer close to 0.025!\n",
       "            "
      ]
     },
     "metadata": {},
     "output_type": "display_data"
    }
   ],
   "source": [
    "# Check your answer (Run this code cell to receive credit!)\n",
    "q4.solution()"
   ]
  },
  {
   "cell_type": "markdown",
   "id": "5187fd26",
   "metadata": {
    "papermill": {
     "duration": 0.005689,
     "end_time": "2023-10-20T07:40:48.217060",
     "exception": false,
     "start_time": "2023-10-20T07:40:48.211371",
     "status": "completed"
    },
    "tags": []
   },
   "source": [
    "# Keep Going\n",
    "\n",
    "Many programmers report that dictionaries are their favorite data structure. You'll get to **[learn about them](https://www.kaggle.com/colinmorris/strings-and-dictionaries)** (as well as strings) in the next lesson."
   ]
  },
  {
   "cell_type": "markdown",
   "id": "b8751438",
   "metadata": {
    "papermill": {
     "duration": 0.005438,
     "end_time": "2023-10-20T07:40:48.228320",
     "exception": false,
     "start_time": "2023-10-20T07:40:48.222882",
     "status": "completed"
    },
    "tags": []
   },
   "source": [
    "---\n",
    "\n",
    "\n",
    "\n",
    "\n",
    "*Have questions or comments? Visit the [course discussion forum](https://www.kaggle.com/learn/python/discussion) to chat with other learners.*"
   ]
  }
 ],
 "metadata": {
  "kernelspec": {
   "display_name": "Python 3",
   "language": "python",
   "name": "python3"
  },
  "language_info": {
   "codemirror_mode": {
    "name": "ipython",
    "version": 3
   },
   "file_extension": ".py",
   "mimetype": "text/x-python",
   "name": "python",
   "nbconvert_exporter": "python",
   "pygments_lexer": "ipython3",
   "version": "3.10.12"
  },
  "papermill": {
   "default_parameters": {},
   "duration": 4.802582,
   "end_time": "2023-10-20T07:40:48.856687",
   "environment_variables": {},
   "exception": null,
   "input_path": "__notebook__.ipynb",
   "output_path": "__notebook__.ipynb",
   "parameters": {},
   "start_time": "2023-10-20T07:40:44.054105",
   "version": "2.4.0"
  }
 },
 "nbformat": 4,
 "nbformat_minor": 5
}
